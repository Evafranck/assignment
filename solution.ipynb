{
 "cells": [
  {
   "cell_type": "markdown",
   "metadata": {},
   "source": [
    "# Assignment 1 - Luise Kutzner, Lara Ruschmeyer, Eva Franck"
   ]
  },
  {
   "cell_type": "code",
   "execution_count": 26,
   "metadata": {},
   "outputs": [],
   "source": [
    "import numpy as np \n",
    "import matplotlib.pyplot as plt\n",
    "import pandas as pd\n",
    "from sklearn.utils import indexable\n",
    "from sklearn.utils import resample\n",
    "from sklearn.utils.validation import _num_samples\n",
    "from sklearn.model_selection import ShuffleSplit, StratifiedShuffleSplit\n",
    "from itertools import chain\n",
    "from sklearn.model_selection import train_test_split\n",
    "from sklearn.preprocessing import StandardScaler\n",
    "from sklearn.metrics import mean_squared_error\n",
    "from sklearn.preprocessing import PolynomialFeatures\n",
    "from sklearn.linear_model import LinearRegression\n",
    "from sklearn.pipeline import Pipeline\n",
    "from sklearn.linear_model import Ridge, RidgeCV\n",
    "from sklearn.compose import ColumnTransformer\n",
    "from sklearn.preprocessing import MinMaxScaler, StandardScaler\n",
    "from math import ceil, floor\n",
    "\n",
    "\n"
   ]
  },
  {
   "cell_type": "markdown",
   "metadata": {},
   "source": [
    "# Task 1: Setting the Baseline"
   ]
  },
  {
   "cell_type": "markdown",
   "metadata": {},
   "source": [
    "## Task 1.1 Data Preparation and Validation Pipeline"
   ]
  },
  {
   "cell_type": "code",
   "execution_count": 27,
   "metadata": {},
   "outputs": [],
   "source": [
    "def transform_to_trajectories_dataframe(X_data, idx):\n",
    "    \"\"\"\n",
    "    Transforms the dataset into a single pandas DataFrame where each sample is labeled\n",
    "    with a 'trajectory_id' indicating which 258-sample trajectory it belongs to.\n",
    "    \n",
    "    Parameters:\n",
    "    - X_data: pandas DataFrame containing the dataset.\n",
    "    - idx: list of indices that partition the dataset into 258-sample stacks (trajectories).\n",
    "\n",
    "    Returns:\n",
    "    - A pandas DataFrame with an added 'trajectory_id' column.\n",
    "    \"\"\"\n",
    "    \n",
    "    # Initialize an empty list to store DataFrame chunks with trajectory IDs\n",
    "    transformed_data = []\n",
    "    \n",
    "    # Iterate through the indices list to slice the dataframe into stacks\n",
    "    for i in range(len(idx) - 1):\n",
    "        # Each stack corresponds to samples from idx[i] to idx[i + 1]\n",
    "        start_idx = idx[i]\n",
    "        end_idx = idx[i + 1]\n",
    "        \n",
    "        # Slice the DataFrame to get the trajectory\n",
    "        trajectory = X_data.iloc[start_idx:end_idx].copy()\n",
    "        \n",
    "        # Add a column 'trajectory_id' to label the trajectory\n",
    "        trajectory['trajectory_id'] = i\n",
    "        \n",
    "        # Append to the list of DataFrame chunks\n",
    "        transformed_data.append(trajectory)\n",
    "    \n",
    "    # Concatenate all the chunks into a single DataFrame\n",
    "    result_df = pd.concat(transformed_data, ignore_index=True)\n",
    "    \n",
    "    return result_df\n"
   ]
  },
  {
   "cell_type": "code",
   "execution_count": 28,
   "metadata": {},
   "outputs": [],
   "source": [
    "def remove_duplicated_trajectories(X_data, trajectory_col='trajectory_id'):\n",
    "    \"\"\"\n",
    "    Removes trajectories from the dataset that have duplicated first sample points.\n",
    "    \n",
    "    Parameters:\n",
    "    - X_data: pandas DataFrame containing the dataset.\n",
    "    - trajectory_col: The name of the column that identifies different trajectories.\n",
    "    \n",
    "    Returns:\n",
    "    - A DataFrame with the duplicated first sample point trajectories removed.\n",
    "    \"\"\"\n",
    "    \n",
    "    # Get the first sample of each trajectory\n",
    "    first_samples = X_data.groupby(trajectory_col).first().reset_index()\n",
    "    \n",
    "    # Find duplicates in the first samples\n",
    "    duplicated_first_samples = first_samples.duplicated(subset=X_data.columns.difference([trajectory_col]), keep='first')\n",
    "\n",
    "    true_count = duplicated_first_samples.sum()\n",
    "    index = duplicated_first_samples[duplicated_first_samples].index\n",
    "    print(f\"Found {true_count} duplicated first samples with indices {index}.\")\n",
    "    \n",
    "    # Keep only unique first samples\n",
    "    unique_trajectories = first_samples.loc[~duplicated_first_samples, trajectory_col]\n",
    "    \n",
    "    # Filter the original dataframe to keep only unique trajectories\n",
    "    cleaned_data = X_data[X_data[trajectory_col].isin(unique_trajectories)]\n",
    "\n",
    "    return cleaned_data\n"
   ]
  },
  {
   "cell_type": "code",
   "execution_count": 29,
   "metadata": {},
   "outputs": [],
   "source": [
    "def _validate_shuffle_split(n_samples, test_size, train_size, default_test_size=None):\n",
    "    \"\"\"\n",
    "    Validation helper to check if the test/test sizes are meaningful w.r.t. the\n",
    "    size of the data (n_samples).\n",
    "    \"\"\"\n",
    "    if test_size is None and train_size is None:\n",
    "        test_size = default_test_size\n",
    "\n",
    "    test_size_type = np.asarray(test_size).dtype.kind\n",
    "    train_size_type = np.asarray(train_size).dtype.kind\n",
    "\n",
    "    if (\n",
    "        test_size_type == \"i\"\n",
    "        and (test_size >= n_samples or test_size <= 0)\n",
    "        or test_size_type == \"f\"\n",
    "        and (test_size <= 0 or test_size >= 1)\n",
    "    ):\n",
    "        raise ValueError(\n",
    "            \"test_size={0} should be either positive and smaller\"\n",
    "            \" than the number of samples {1} or a float in the \"\n",
    "            \"(0, 1) range\".format(test_size, n_samples)\n",
    "        )\n",
    "\n",
    "    if (\n",
    "        train_size_type == \"i\"\n",
    "        and (train_size >= n_samples or train_size <= 0)\n",
    "        or train_size_type == \"f\"\n",
    "        and (train_size <= 0 or train_size >= 1)\n",
    "    ):\n",
    "        raise ValueError(\n",
    "            \"train_size={0} should be either positive and smaller\"\n",
    "            \" than the number of samples {1} or a float in the \"\n",
    "            \"(0, 1) range\".format(train_size, n_samples)\n",
    "        )\n",
    "\n",
    "    if train_size is not None and train_size_type not in (\"i\", \"f\"):\n",
    "        raise ValueError(\"Invalid value for train_size: {}\".format(train_size))\n",
    "    if test_size is not None and test_size_type not in (\"i\", \"f\"):\n",
    "        raise ValueError(\"Invalid value for test_size: {}\".format(test_size))\n",
    "\n",
    "    if train_size_type == \"f\" and test_size_type == \"f\" and train_size + test_size > 1:\n",
    "        raise ValueError(\n",
    "            \"The sum of test_size and train_size = {}, should be in the (0, 1)\"\n",
    "            \" range. Reduce test_size and/or train_size.\".format(train_size + test_size)\n",
    "        )\n",
    "\n",
    "    if test_size_type == \"f\":\n",
    "        n_test = ceil(test_size * n_samples)\n",
    "    elif test_size_type == \"i\":\n",
    "        n_test = float(test_size)\n",
    "\n",
    "    if train_size_type == \"f\":\n",
    "        n_train = floor(train_size * n_samples)\n",
    "    elif train_size_type == \"i\":\n",
    "        n_train = float(train_size)\n",
    "\n",
    "    if train_size is None:\n",
    "        n_train = n_samples - n_test\n",
    "    elif test_size is None:\n",
    "        n_test = n_samples - n_train\n",
    "\n",
    "    if n_train + n_test > n_samples:\n",
    "        raise ValueError(\n",
    "            \"The sum of train_size and test_size = %d, \"\n",
    "            \"should be smaller than the number of \"\n",
    "            \"samples %d. Reduce test_size and/or \"\n",
    "            \"train_size.\" % (n_train + n_test, n_samples)\n",
    "        )\n",
    "\n",
    "    n_train, n_test = int(n_train), int(n_test)\n",
    "\n",
    "    if n_train == 0:\n",
    "        raise ValueError(\n",
    "            \"With n_samples={}, test_size={} and train_size={}, the \"\n",
    "            \"resulting train set will be empty. Adjust any of the \"\n",
    "            \"aforementioned parameters.\".format(n_samples, test_size, train_size)\n",
    "        )\n",
    "\n",
    "    return n_train, n_test"
   ]
  },
  {
   "cell_type": "code",
   "execution_count": 30,
   "metadata": {},
   "outputs": [],
   "source": [
    "# Redefine test split function based on trajectories\n",
    "\n",
    "def train_test_split_traj(\n",
    "    *arrays,\n",
    "    test_size=None,\n",
    "    train_size=None,\n",
    "    random_state=None,\n",
    "    shuffle=True,\n",
    "    stratify=None,\n",
    "    trajectory_col='trajectory_id',  # Column indicating trajectory\n",
    "):\n",
    "    \"\"\"\n",
    "    Splits the dataset based on trajectories identified by `trajectory_id` into training, validation, and test sets.\n",
    "    \n",
    "    Parameters:\n",
    "    - *arrays: The data arrays to split (e.g., features, labels).\n",
    "    - test_size: Proportion of the data to allocate for the test set.\n",
    "    - train_size: Proportion of the data to allocate for the train set.\n",
    "    - random_state: Random seed for reproducibility.\n",
    "    - shuffle: Whether to shuffle the data before splitting.\n",
    "    - stratify: Array for stratification during splitting (optional).\n",
    "    - trajectory_col: The name of the column that identifies different trajectories.\n",
    "    \n",
    "    Returns:\n",
    "    - Split arrays based on the trajectory groups (train, test, etc.).\n",
    "    \"\"\"\n",
    "    # Ensure at least one array is provided\n",
    "    n_arrays = len(arrays)\n",
    "    if n_arrays == 0:\n",
    "        raise ValueError(\"At least one array required as input\")\n",
    "\n",
    "    arrays = indexable(*arrays)\n",
    "\n",
    "    # First array should be the dataframe with trajectory column\n",
    "    if isinstance(arrays[0], pd.DataFrame) and trajectory_col in arrays[0].columns:\n",
    "        X_data = arrays[0]\n",
    "        # Get unique trajectory IDs\n",
    "        unique_trajectories = X_data[trajectory_col].unique()\n",
    "    else:\n",
    "        raise ValueError(f\"The first array must be a DataFrame containing the column '{trajectory_col}'.\")\n",
    "\n",
    "    # Number of unique trajectories\n",
    "    n_trajectories = len(unique_trajectories)\n",
    "    \n",
    "    # Determine number of trajectories for training and testing\n",
    "    n_train, n_test = _validate_shuffle_split(\n",
    "        n_trajectories, test_size, train_size, default_test_size=0.25\n",
    "    )\n",
    "\n",
    "    # Shuffle trajectories if needed\n",
    "    if shuffle:\n",
    "        np.random.seed(random_state)\n",
    "        np.random.shuffle(unique_trajectories)\n",
    "\n",
    "    if stratify is not None:\n",
    "        raise ValueError(\"Stratified train/test split is not implemented for trajectories\")\n",
    "\n",
    "    # Split trajectories into training and test sets\n",
    "    train_trajectories = unique_trajectories[:n_train]\n",
    "    test_trajectories = unique_trajectories[n_train:n_train + n_test]\n",
    "\n",
    "    # Create masks for train and test trajectories\n",
    "    train_mask = X_data[trajectory_col].isin(train_trajectories)\n",
    "    test_mask = X_data[trajectory_col].isin(test_trajectories)\n",
    "\n",
    "    # Split each array according to the masks\n",
    "    split_arrays = []\n",
    "    for array in arrays:\n",
    "        if isinstance(array, pd.DataFrame):\n",
    "            train_array = array[train_mask]\n",
    "            test_array = array[test_mask]\n",
    "        else:\n",
    "            # For non-DataFrame arrays, assume same length and split accordingly\n",
    "            train_array = array[train_mask.to_numpy()]\n",
    "            test_array = array[test_mask.to_numpy()]\n",
    "\n",
    "        split_arrays.extend([train_array, test_array])\n",
    "\n",
    "    return split_arrays\n"
   ]
  },
  {
   "cell_type": "code",
   "execution_count": 31,
   "metadata": {},
   "outputs": [],
   "source": [
    "def train_validate_test_split(\n",
    "    *arrays,\n",
    "    test_size=None,\n",
    "    validate_size=None,  # New parameter for validation set size\n",
    "    train_size=None,\n",
    "    random_state=None,\n",
    "    shuffle=True,\n",
    "    trajectory_col='trajectory_id',  # Column indicating trajectory\n",
    "):\n",
    "    \"\"\"\n",
    "    Splits the dataset based on trajectories identified by `trajectory_id` into training, validation, and test sets.\n",
    "    \n",
    "    Parameters:\n",
    "    - *arrays: The data arrays to split (e.g., features, labels).\n",
    "    - test_size: Proportion of the data to allocate for the test set.\n",
    "    - validate_size: Proportion of the data to allocate for the validation set.\n",
    "    - train_size: Proportion of the data to allocate for the train set.\n",
    "    - random_state: Random seed for reproducibility.\n",
    "    - shuffle: Whether to shuffle the data before splitting.\n",
    "    - trajectory_col: The name of the column that identifies different trajectories.\n",
    "    \n",
    "    Returns:\n",
    "    - Split arrays (train, validation, test) based on the trajectory groups.\n",
    "    \"\"\"\n",
    "    # Ensure at least one array is provided\n",
    "    n_arrays = len(arrays)\n",
    "    if n_arrays == 0:\n",
    "        raise ValueError(\"At least one array required as input\")\n",
    "\n",
    "    arrays = indexable(*arrays)\n",
    "\n",
    "    # First array should be the dataframe with trajectory column\n",
    "    if isinstance(arrays[0], pd.DataFrame) and trajectory_col in arrays[0].columns:\n",
    "        X_data = arrays[0]\n",
    "        # Get unique trajectory IDs\n",
    "        unique_trajectories = X_data[trajectory_col].unique()\n",
    "    else:\n",
    "        raise ValueError(f\"The first array must be a DataFrame containing the column '{trajectory_col}'.\")\n",
    "\n",
    "    # Number of unique trajectories\n",
    "    n_trajectories = len(unique_trajectories)\n",
    "\n",
    "    # Split the data into training and (validation + test)\n",
    "    n_train, n_temp = _validate_shuffle_split(\n",
    "        n_trajectories, test_size + validate_size, train_size, default_test_size=0.25\n",
    "    )\n",
    "\n",
    "    # Shuffle trajectories if needed\n",
    "    if shuffle:\n",
    "        np.random.seed(random_state)\n",
    "        np.random.shuffle(unique_trajectories)\n",
    "\n",
    "    # Split into train and temporary sets\n",
    "    train_trajectories = unique_trajectories[:n_train]\n",
    "    temp_trajectories = unique_trajectories[n_train:n_train + n_temp]\n",
    "\n",
    "    # Further split temporary set into validation and test sets\n",
    "    n_validate = int(validate_size * n_trajectories)\n",
    "    validate_trajectories = temp_trajectories[:n_validate]\n",
    "    test_trajectories = temp_trajectories[n_validate:]\n",
    "\n",
    "    # Create masks for train, validation, and test trajectories\n",
    "    train_mask = X_data[trajectory_col].isin(train_trajectories)\n",
    "    validate_mask = X_data[trajectory_col].isin(validate_trajectories)\n",
    "    test_mask = X_data[trajectory_col].isin(test_trajectories)\n",
    "\n",
    "    # Split each array according to the masks\n",
    "    split_arrays = []\n",
    "    for array in arrays:\n",
    "        if isinstance(array, pd.DataFrame):\n",
    "            train_array = array[train_mask]\n",
    "            validate_array = array[validate_mask]\n",
    "            test_array = array[test_mask]\n",
    "        else:\n",
    "            # For non-DataFrame arrays, assume same length and split accordingly\n",
    "            train_array = array[train_mask.to_numpy()]\n",
    "            validate_array = array[validate_mask.to_numpy()]\n",
    "            test_array = array[test_mask.to_numpy()]\n",
    "\n",
    "        split_arrays.extend([train_array, validate_array, test_array])\n",
    "\n",
    "    return split_arrays\n"
   ]
  },
  {
   "cell_type": "code",
   "execution_count": 32,
   "metadata": {},
   "outputs": [],
   "source": [
    "data = pd.read_csv('data/X_train.csv')\n",
    "data2 = pd.read_csv('data/X_test.csv')"
   ]
  },
  {
   "cell_type": "code",
   "execution_count": 33,
   "metadata": {},
   "outputs": [
    {
     "data": {
      "text/plain": "          t       x_1       y_1     v_x_1     v_y_1       x_2       y_2  \\\n0  0.000000  1.000000  0.000000  0.000000  0.000000 -0.266467  0.859196   \n1  0.039062  0.999548  0.000092 -0.023159  0.004731 -0.266261  0.858781   \n2  0.078125  0.998190  0.000370 -0.046362  0.009474 -0.265641  0.857535   \n3  0.117188  0.995925  0.000833 -0.069654  0.014239 -0.264606  0.855456   \n4  0.156250  0.992747  0.001483 -0.093080  0.019040 -0.263154  0.852540   \n\n      v_x_2     v_y_2       x_3       y_3     v_x_3     v_y_3  Id  \n0  0.000000  0.000000 -0.733533 -0.859196  0.000000  0.000000   0  \n1  0.010574 -0.021257 -0.733287 -0.858874  0.012584  0.016526   1  \n2  0.021172 -0.042552 -0.732549 -0.857905  0.025189  0.033078   2  \n3  0.031817 -0.063924 -0.731318 -0.856289  0.037837  0.049685   3  \n4  0.042533 -0.085412 -0.729592 -0.854022  0.050548  0.066372   4  ",
      "text/html": "<div>\n<style scoped>\n    .dataframe tbody tr th:only-of-type {\n        vertical-align: middle;\n    }\n\n    .dataframe tbody tr th {\n        vertical-align: top;\n    }\n\n    .dataframe thead th {\n        text-align: right;\n    }\n</style>\n<table border=\"1\" class=\"dataframe\">\n  <thead>\n    <tr style=\"text-align: right;\">\n      <th></th>\n      <th>t</th>\n      <th>x_1</th>\n      <th>y_1</th>\n      <th>v_x_1</th>\n      <th>v_y_1</th>\n      <th>x_2</th>\n      <th>y_2</th>\n      <th>v_x_2</th>\n      <th>v_y_2</th>\n      <th>x_3</th>\n      <th>y_3</th>\n      <th>v_x_3</th>\n      <th>v_y_3</th>\n      <th>Id</th>\n    </tr>\n  </thead>\n  <tbody>\n    <tr>\n      <th>0</th>\n      <td>0.000000</td>\n      <td>1.000000</td>\n      <td>0.000000</td>\n      <td>0.000000</td>\n      <td>0.000000</td>\n      <td>-0.266467</td>\n      <td>0.859196</td>\n      <td>0.000000</td>\n      <td>0.000000</td>\n      <td>-0.733533</td>\n      <td>-0.859196</td>\n      <td>0.000000</td>\n      <td>0.000000</td>\n      <td>0</td>\n    </tr>\n    <tr>\n      <th>1</th>\n      <td>0.039062</td>\n      <td>0.999548</td>\n      <td>0.000092</td>\n      <td>-0.023159</td>\n      <td>0.004731</td>\n      <td>-0.266261</td>\n      <td>0.858781</td>\n      <td>0.010574</td>\n      <td>-0.021257</td>\n      <td>-0.733287</td>\n      <td>-0.858874</td>\n      <td>0.012584</td>\n      <td>0.016526</td>\n      <td>1</td>\n    </tr>\n    <tr>\n      <th>2</th>\n      <td>0.078125</td>\n      <td>0.998190</td>\n      <td>0.000370</td>\n      <td>-0.046362</td>\n      <td>0.009474</td>\n      <td>-0.265641</td>\n      <td>0.857535</td>\n      <td>0.021172</td>\n      <td>-0.042552</td>\n      <td>-0.732549</td>\n      <td>-0.857905</td>\n      <td>0.025189</td>\n      <td>0.033078</td>\n      <td>2</td>\n    </tr>\n    <tr>\n      <th>3</th>\n      <td>0.117188</td>\n      <td>0.995925</td>\n      <td>0.000833</td>\n      <td>-0.069654</td>\n      <td>0.014239</td>\n      <td>-0.264606</td>\n      <td>0.855456</td>\n      <td>0.031817</td>\n      <td>-0.063924</td>\n      <td>-0.731318</td>\n      <td>-0.856289</td>\n      <td>0.037837</td>\n      <td>0.049685</td>\n      <td>3</td>\n    </tr>\n    <tr>\n      <th>4</th>\n      <td>0.156250</td>\n      <td>0.992747</td>\n      <td>0.001483</td>\n      <td>-0.093080</td>\n      <td>0.019040</td>\n      <td>-0.263154</td>\n      <td>0.852540</td>\n      <td>0.042533</td>\n      <td>-0.085412</td>\n      <td>-0.729592</td>\n      <td>-0.854022</td>\n      <td>0.050548</td>\n      <td>0.066372</td>\n      <td>4</td>\n    </tr>\n  </tbody>\n</table>\n</div>"
     },
     "execution_count": 33,
     "metadata": {},
     "output_type": "execute_result"
    }
   ],
   "source": [
    "data.head()"
   ]
  },
  {
   "cell_type": "code",
   "execution_count": 34,
   "metadata": {},
   "outputs": [
    {
     "data": {
      "text/plain": "   Id         t  x0_1  y0_1      x0_2      y0_2      x0_3      y0_3\n0   0  0.000000   1.0   0.0 -0.179617  0.730085 -0.820383 -0.730085\n1   1  0.039062   1.0   0.0 -0.179617  0.730085 -0.820383 -0.730085\n2   2  0.078125   1.0   0.0 -0.179617  0.730085 -0.820383 -0.730085\n3   3  0.117188   1.0   0.0 -0.179617  0.730085 -0.820383 -0.730085\n4   4  0.156250   1.0   0.0 -0.179617  0.730085 -0.820383 -0.730085",
      "text/html": "<div>\n<style scoped>\n    .dataframe tbody tr th:only-of-type {\n        vertical-align: middle;\n    }\n\n    .dataframe tbody tr th {\n        vertical-align: top;\n    }\n\n    .dataframe thead th {\n        text-align: right;\n    }\n</style>\n<table border=\"1\" class=\"dataframe\">\n  <thead>\n    <tr style=\"text-align: right;\">\n      <th></th>\n      <th>Id</th>\n      <th>t</th>\n      <th>x0_1</th>\n      <th>y0_1</th>\n      <th>x0_2</th>\n      <th>y0_2</th>\n      <th>x0_3</th>\n      <th>y0_3</th>\n    </tr>\n  </thead>\n  <tbody>\n    <tr>\n      <th>0</th>\n      <td>0</td>\n      <td>0.000000</td>\n      <td>1.0</td>\n      <td>0.0</td>\n      <td>-0.179617</td>\n      <td>0.730085</td>\n      <td>-0.820383</td>\n      <td>-0.730085</td>\n    </tr>\n    <tr>\n      <th>1</th>\n      <td>1</td>\n      <td>0.039062</td>\n      <td>1.0</td>\n      <td>0.0</td>\n      <td>-0.179617</td>\n      <td>0.730085</td>\n      <td>-0.820383</td>\n      <td>-0.730085</td>\n    </tr>\n    <tr>\n      <th>2</th>\n      <td>2</td>\n      <td>0.078125</td>\n      <td>1.0</td>\n      <td>0.0</td>\n      <td>-0.179617</td>\n      <td>0.730085</td>\n      <td>-0.820383</td>\n      <td>-0.730085</td>\n    </tr>\n    <tr>\n      <th>3</th>\n      <td>3</td>\n      <td>0.117188</td>\n      <td>1.0</td>\n      <td>0.0</td>\n      <td>-0.179617</td>\n      <td>0.730085</td>\n      <td>-0.820383</td>\n      <td>-0.730085</td>\n    </tr>\n    <tr>\n      <th>4</th>\n      <td>4</td>\n      <td>0.156250</td>\n      <td>1.0</td>\n      <td>0.0</td>\n      <td>-0.179617</td>\n      <td>0.730085</td>\n      <td>-0.820383</td>\n      <td>-0.730085</td>\n    </tr>\n  </tbody>\n</table>\n</div>"
     },
     "execution_count": 34,
     "metadata": {},
     "output_type": "execute_result"
    }
   ],
   "source": [
    "data2.head()"
   ]
  },
  {
   "cell_type": "code",
   "execution_count": 35,
   "metadata": {},
   "outputs": [
    {
     "data": {
      "text/plain": "Index(['t', 'x_1', 'y_1', 'v_x_1', 'v_y_1', 'x_2', 'y_2', 'v_x_2', 'v_y_2',\n       'x_3', 'y_3', 'v_x_3', 'v_y_3', 'Id'],\n      dtype='object')"
     },
     "execution_count": 35,
     "metadata": {},
     "output_type": "execute_result"
    }
   ],
   "source": [
    "data.columns"
   ]
  },
  {
   "cell_type": "code",
   "execution_count": 36,
   "metadata": {},
   "outputs": [],
   "source": [
    "idx = np.hstack((0, data[data.t == 10].index.values + 1))[:-1]"
   ]
  },
  {
   "cell_type": "code",
   "execution_count": 37,
   "metadata": {},
   "outputs": [
    {
     "name": "stdout",
     "output_type": "stream",
     "text": [
      "3488\n"
     ]
    },
    {
     "data": {
      "text/plain": "[<matplotlib.lines.Line2D at 0x7fe1d520e3d0>]"
     },
     "execution_count": 37,
     "metadata": {},
     "output_type": "execute_result"
    },
    {
     "data": {
      "text/plain": "<Figure size 640x480 with 1 Axes>",
      "image/png": "[encoded data removed]"
     },
     "metadata": {},
     "output_type": "display_data"
    }
   ],
   "source": [
    "k = np.random.randint(idx.shape[0])\n",
    "print(k)\n",
    "pltidx = range(idx[k], 257 + idx[k])\n",
    "pltsquare = idx[k]\n",
    "\n",
    "plt.plot(data.x_1[pltidx], data.y_1[pltidx])\n",
    "plt.plot(data.x_2[pltidx], data.y_2[pltidx])\n",
    "plt.plot(data.x_3[pltidx], data.y_3[pltidx])\n",
    "\n",
    "plt.plot(data.x_1[pltsquare], data.y_1[pltsquare], 'ro')\n",
    "plt.plot(data.x_2[pltsquare], data.y_2[pltsquare], 'ro')\n",
    "plt.plot(data.x_3[pltsquare], data.y_3[pltsquare], 'ro')"
   ]
  },
  {
   "cell_type": "code",
   "execution_count": 38,
   "metadata": {},
   "outputs": [
    {
     "data": {
      "text/plain": "          t       x_1       y_1     v_x_1     v_y_1       x_2       y_2  \\\n0  0.000000  1.000000  0.000000  0.000000  0.000000 -0.266467  0.859196   \n1  0.039062  0.999548  0.000092 -0.023159  0.004731 -0.266261  0.858781   \n2  0.078125  0.998190  0.000370 -0.046362  0.009474 -0.265641  0.857535   \n3  0.117188  0.995925  0.000833 -0.069654  0.014239 -0.264606  0.855456   \n4  0.156250  0.992747  0.001483 -0.093080  0.019040 -0.263154  0.852540   \n\n      v_x_2     v_y_2       x_3       y_3     v_x_3     v_y_3  Id  \n0  0.000000  0.000000 -0.733533 -0.859196  0.000000  0.000000   0  \n1  0.010574 -0.021257 -0.733287 -0.858874  0.012584  0.016526   1  \n2  0.021172 -0.042552 -0.732549 -0.857905  0.025189  0.033078   2  \n3  0.031817 -0.063924 -0.731318 -0.856289  0.037837  0.049685   3  \n4  0.042533 -0.085412 -0.729592 -0.854022  0.050548  0.066372   4  ",
      "text/html": "<div>\n<style scoped>\n    .dataframe tbody tr th:only-of-type {\n        vertical-align: middle;\n    }\n\n    .dataframe tbody tr th {\n        vertical-align: top;\n    }\n\n    .dataframe thead th {\n        text-align: right;\n    }\n</style>\n<table border=\"1\" class=\"dataframe\">\n  <thead>\n    <tr style=\"text-align: right;\">\n      <th></th>\n      <th>t</th>\n      <th>x_1</th>\n      <th>y_1</th>\n      <th>v_x_1</th>\n      <th>v_y_1</th>\n      <th>x_2</th>\n      <th>y_2</th>\n      <th>v_x_2</th>\n      <th>v_y_2</th>\n      <th>x_3</th>\n      <th>y_3</th>\n      <th>v_x_3</th>\n      <th>v_y_3</th>\n      <th>Id</th>\n    </tr>\n  </thead>\n  <tbody>\n    <tr>\n      <th>0</th>\n      <td>0.000000</td>\n      <td>1.000000</td>\n      <td>0.000000</td>\n      <td>0.000000</td>\n      <td>0.000000</td>\n      <td>-0.266467</td>\n      <td>0.859196</td>\n      <td>0.000000</td>\n      <td>0.000000</td>\n      <td>-0.733533</td>\n      <td>-0.859196</td>\n      <td>0.000000</td>\n      <td>0.000000</td>\n      <td>0</td>\n    </tr>\n    <tr>\n      <th>1</th>\n      <td>0.039062</td>\n      <td>0.999548</td>\n      <td>0.000092</td>\n      <td>-0.023159</td>\n      <td>0.004731</td>\n      <td>-0.266261</td>\n      <td>0.858781</td>\n      <td>0.010574</td>\n      <td>-0.021257</td>\n      <td>-0.733287</td>\n      <td>-0.858874</td>\n      <td>0.012584</td>\n      <td>0.016526</td>\n      <td>1</td>\n    </tr>\n    <tr>\n      <th>2</th>\n      <td>0.078125</td>\n      <td>0.998190</td>\n      <td>0.000370</td>\n      <td>-0.046362</td>\n      <td>0.009474</td>\n      <td>-0.265641</td>\n      <td>0.857535</td>\n      <td>0.021172</td>\n      <td>-0.042552</td>\n      <td>-0.732549</td>\n      <td>-0.857905</td>\n      <td>0.025189</td>\n      <td>0.033078</td>\n      <td>2</td>\n    </tr>\n    <tr>\n      <th>3</th>\n      <td>0.117188</td>\n      <td>0.995925</td>\n      <td>0.000833</td>\n      <td>-0.069654</td>\n      <td>0.014239</td>\n      <td>-0.264606</td>\n      <td>0.855456</td>\n      <td>0.031817</td>\n      <td>-0.063924</td>\n      <td>-0.731318</td>\n      <td>-0.856289</td>\n      <td>0.037837</td>\n      <td>0.049685</td>\n      <td>3</td>\n    </tr>\n    <tr>\n      <th>4</th>\n      <td>0.156250</td>\n      <td>0.992747</td>\n      <td>0.001483</td>\n      <td>-0.093080</td>\n      <td>0.019040</td>\n      <td>-0.263154</td>\n      <td>0.852540</td>\n      <td>0.042533</td>\n      <td>-0.085412</td>\n      <td>-0.729592</td>\n      <td>-0.854022</td>\n      <td>0.050548</td>\n      <td>0.066372</td>\n      <td>4</td>\n    </tr>\n  </tbody>\n</table>\n</div>"
     },
     "execution_count": 38,
     "metadata": {},
     "output_type": "execute_result"
    }
   ],
   "source": [
    "data.head()"
   ]
  },
  {
   "cell_type": "code",
   "execution_count": 39,
   "metadata": {},
   "outputs": [],
   "source": [
    "data_cleaned = data.drop(columns=['v_x_1', 'v_y_1', 'v_x_2', 'v_y_2', 'v_x_3', 'v_y_3', 'Id'])"
   ]
  },
  {
   "cell_type": "code",
   "execution_count": 40,
   "metadata": {},
   "outputs": [],
   "source": [
    "# Extract the X data and bring it into a form such that you have the initial conditions \n",
    "# along with the time t at which y describes the current x and y positions\n",
    "\n",
    "X_data = data_cleaned.copy()\n",
    "for i in idx:\n",
    "    # Select the first sample's column values in the current stack\n",
    "    x_1_value = data_cleaned.loc[i, 'x_1']\n",
    "    y_1_value = data_cleaned.loc[i, 'y_1']\n",
    "    x_2_value = data_cleaned.loc[i, 'x_2']\n",
    "    y_2_value = data_cleaned.loc[i, 'y_2']\n",
    "    x_3_value = data_cleaned.loc[i, 'x_3']\n",
    "    y_3_value = data_cleaned.loc[i, 'y_3']\n",
    "    \n",
    "    # Update the column values for all 258 samples in this stack\n",
    "    X_data.loc[i:i+257, 'x_1'] = x_1_value\n",
    "    X_data.loc[i:i+257, 'y_1'] = y_1_value\n",
    "    X_data.loc[i:i+257, 'x_2'] = x_2_value\n",
    "    X_data.loc[i:i+257, 'y_2'] = y_2_value\n",
    "    X_data.loc[i:i+257, 'x_3'] = x_3_value\n",
    "    X_data.loc[i:i+257, 'y_3'] = y_3_value\n"
   ]
  },
  {
   "cell_type": "code",
   "execution_count": 41,
   "metadata": {},
   "outputs": [
    {
     "data": {
      "text/plain": "          t       x_1       y_1       x_2       y_2       x_3       y_3\n0  0.000000  1.000000  0.000000 -0.266467  0.859196 -0.733533 -0.859196\n1  0.039062  0.999548  0.000092 -0.266261  0.858781 -0.733287 -0.858874\n2  0.078125  0.998190  0.000370 -0.265641  0.857535 -0.732549 -0.857905\n3  0.117188  0.995925  0.000833 -0.264606  0.855456 -0.731318 -0.856289\n4  0.156250  0.992747  0.001483 -0.263154  0.852540 -0.729592 -0.854022",
      "text/html": "<div>\n<style scoped>\n    .dataframe tbody tr th:only-of-type {\n        vertical-align: middle;\n    }\n\n    .dataframe tbody tr th {\n        vertical-align: top;\n    }\n\n    .dataframe thead th {\n        text-align: right;\n    }\n</style>\n<table border=\"1\" class=\"dataframe\">\n  <thead>\n    <tr style=\"text-align: right;\">\n      <th></th>\n      <th>t</th>\n      <th>x_1</th>\n      <th>y_1</th>\n      <th>x_2</th>\n      <th>y_2</th>\n      <th>x_3</th>\n      <th>y_3</th>\n    </tr>\n  </thead>\n  <tbody>\n    <tr>\n      <th>0</th>\n      <td>0.000000</td>\n      <td>1.000000</td>\n      <td>0.000000</td>\n      <td>-0.266467</td>\n      <td>0.859196</td>\n      <td>-0.733533</td>\n      <td>-0.859196</td>\n    </tr>\n    <tr>\n      <th>1</th>\n      <td>0.039062</td>\n      <td>0.999548</td>\n      <td>0.000092</td>\n      <td>-0.266261</td>\n      <td>0.858781</td>\n      <td>-0.733287</td>\n      <td>-0.858874</td>\n    </tr>\n    <tr>\n      <th>2</th>\n      <td>0.078125</td>\n      <td>0.998190</td>\n      <td>0.000370</td>\n      <td>-0.265641</td>\n      <td>0.857535</td>\n      <td>-0.732549</td>\n      <td>-0.857905</td>\n    </tr>\n    <tr>\n      <th>3</th>\n      <td>0.117188</td>\n      <td>0.995925</td>\n      <td>0.000833</td>\n      <td>-0.264606</td>\n      <td>0.855456</td>\n      <td>-0.731318</td>\n      <td>-0.856289</td>\n    </tr>\n    <tr>\n      <th>4</th>\n      <td>0.156250</td>\n      <td>0.992747</td>\n      <td>0.001483</td>\n      <td>-0.263154</td>\n      <td>0.852540</td>\n      <td>-0.729592</td>\n      <td>-0.854022</td>\n    </tr>\n  </tbody>\n</table>\n</div>"
     },
     "execution_count": 41,
     "metadata": {},
     "output_type": "execute_result"
    }
   ],
   "source": [
    "y_data = data_cleaned.copy()\n",
    "y_data.head()"
   ]
  },
  {
   "cell_type": "code",
   "execution_count": 42,
   "metadata": {},
   "outputs": [],
   "source": [
    "# add a trajectory_id flag such that the data can be split into trajectories\n",
    "\n",
    "X_data_traj = transform_to_trajectories_dataframe(X_data, idx)\n",
    "y_data_traj = transform_to_trajectories_dataframe(y_data, idx)\n"
   ]
  },
  {
   "cell_type": "code",
   "execution_count": 43,
   "metadata": {},
   "outputs": [
    {
     "name": "stdout",
     "output_type": "stream",
     "text": [
      "Found 1 duplicated first samples with indices Index([3297], dtype='int64').\n",
      "Found 1 duplicated first samples with indices Index([3297], dtype='int64').\n"
     ]
    }
   ],
   "source": [
    "# remove trajectories with duplicated initial positions\n",
    "\n",
    "cleaned_X_data = remove_duplicated_trajectories(X_data_traj, trajectory_col='trajectory_id')\n",
    "cleaned_y_data = remove_duplicated_trajectories(y_data_traj, trajectory_col='trajectory_id')"
   ]
  },
  {
   "cell_type": "code",
   "execution_count": 44,
   "metadata": {},
   "outputs": [],
   "source": [
    "# columns_to_compare = ['t', 'x_1', 'x_2', 'x_3', 'y_1', 'y_2', 'y_3']\n",
    "# matching_samples = X_data_traj[(X_data_traj[columns_to_compare] ==  X_data_traj.iloc[1042906][columns_to_compare].values).all(axis=1)]\n",
    "# matching_samples[matching_samples.index.isin(idx)]"
   ]
  },
  {
   "cell_type": "code",
   "execution_count": 45,
   "metadata": {},
   "outputs": [],
   "source": [
    "# split data into training, validation and test sets\n",
    "\n",
    "X_train_2, X_val_2, X_test_2, y_train_2, y_val_2, y_test_2 = train_validate_test_split(cleaned_X_data, cleaned_y_data, validate_size= 0.1, test_size=0.1)"
   ]
  },
  {
   "cell_type": "code",
   "execution_count": 46,
   "metadata": {},
   "outputs": [],
   "source": [
    "# Remove the trajectory_id column\n",
    "\n",
    "# X_train_2 = X_train_2.drop(columns=['trajectory_id'])\n",
    "# X_val_2 = X_val_2.drop(columns=['trajectory_id'])\n",
    "# X_test_2 = X_test_2.drop(columns=['trajectory_id'])\n",
    "# y_train_2 = y_train_2.drop(columns=['trajectory_id'])\n",
    "# y_val_2 = y_val_2.drop(columns=['trajectory_id'])\n",
    "# y_test_2 = y_test_2.drop(columns=['trajectory_id'])"
   ]
  },
  {
   "cell_type": "code",
   "execution_count": 47,
   "metadata": {},
   "outputs": [],
   "source": [
    "# # Remove the trajectory_id column for all sets and t for the y_datasets\n",
    "# otherwise (the prediction will overfit) the RSME will be much different from kaggle\n",
    "\n",
    "X_train_2 = X_train_2.drop(columns=['trajectory_id'])\n",
    "X_val_2 = X_val_2.drop(columns=['trajectory_id'])\n",
    "X_test_2 = X_test_2.drop(columns=['trajectory_id'])\n",
    "y_train_2 = y_train_2.drop(columns=['trajectory_id', 't'])\n",
    "y_val_2 = y_val_2.drop(columns=['trajectory_id', 't'])\n",
    "y_test_2 = y_test_2.drop(columns=['trajectory_id', 't'])"
   ]
  },
  {
   "cell_type": "code",
   "execution_count": 48,
   "metadata": {},
   "outputs": [
    {
     "data": {
      "text/plain": "        x_1       y_1       x_2       y_2       x_3       y_3\n0  1.000000  0.000000 -0.266467  0.859196 -0.733533 -0.859196\n1  0.999548  0.000092 -0.266261  0.858781 -0.733287 -0.858874\n2  0.998190  0.000370 -0.265641  0.857535 -0.732549 -0.857905\n3  0.995925  0.000833 -0.264606  0.855456 -0.731318 -0.856289\n4  0.992747  0.001483 -0.263154  0.852540 -0.729592 -0.854022",
      "text/html": "<div>\n<style scoped>\n    .dataframe tbody tr th:only-of-type {\n        vertical-align: middle;\n    }\n\n    .dataframe tbody tr th {\n        vertical-align: top;\n    }\n\n    .dataframe thead th {\n        text-align: right;\n    }\n</style>\n<table border=\"1\" class=\"dataframe\">\n  <thead>\n    <tr style=\"text-align: right;\">\n      <th></th>\n      <th>x_1</th>\n      <th>y_1</th>\n      <th>x_2</th>\n      <th>y_2</th>\n      <th>x_3</th>\n      <th>y_3</th>\n    </tr>\n  </thead>\n  <tbody>\n    <tr>\n      <th>0</th>\n      <td>1.000000</td>\n      <td>0.000000</td>\n      <td>-0.266467</td>\n      <td>0.859196</td>\n      <td>-0.733533</td>\n      <td>-0.859196</td>\n    </tr>\n    <tr>\n      <th>1</th>\n      <td>0.999548</td>\n      <td>0.000092</td>\n      <td>-0.266261</td>\n      <td>0.858781</td>\n      <td>-0.733287</td>\n      <td>-0.858874</td>\n    </tr>\n    <tr>\n      <th>2</th>\n      <td>0.998190</td>\n      <td>0.000370</td>\n      <td>-0.265641</td>\n      <td>0.857535</td>\n      <td>-0.732549</td>\n      <td>-0.857905</td>\n    </tr>\n    <tr>\n      <th>3</th>\n      <td>0.995925</td>\n      <td>0.000833</td>\n      <td>-0.264606</td>\n      <td>0.855456</td>\n      <td>-0.731318</td>\n      <td>-0.856289</td>\n    </tr>\n    <tr>\n      <th>4</th>\n      <td>0.992747</td>\n      <td>0.001483</td>\n      <td>-0.263154</td>\n      <td>0.852540</td>\n      <td>-0.729592</td>\n      <td>-0.854022</td>\n    </tr>\n  </tbody>\n</table>\n</div>"
     },
     "execution_count": 48,
     "metadata": {},
     "output_type": "execute_result"
    }
   ],
   "source": [
    "y_train_2.head()"
   ]
  },
  {
   "cell_type": "markdown",
   "metadata": {},
   "source": [
    "## 1.2 Learn the baseline model"
   ]
  },
  {
   "cell_type": "code",
   "execution_count": 49,
   "metadata": {},
   "outputs": [
    {
     "name": "stderr",
     "output_type": "stream",
     "text": [
      "/Users/lari/opt/anaconda3/lib/python3.9/site-packages/sklearn/base.py:432: UserWarning: X has feature names, but LinearRegression was fitted without feature names\n",
      "  warnings.warn(\n"
     ]
    },
    {
     "data": {
      "text/plain": "-3311095491513582.5"
     },
     "execution_count": 49,
     "metadata": {},
     "output_type": "execute_result"
    }
   ],
   "source": [
    "# Create pipeline\n",
    "pipeline = Pipeline(steps=[\n",
    "    ('scaler', StandardScaler()), \n",
    "    ('regressor', LinearRegression())  \n",
    "])\n",
    "\n",
    "#pipeline = LinearRegression()\n",
    "\n",
    "pipeline.fit(X_train_2, y_train_2)\n",
    "pipeline['regressor'].score(X_train_2, y_train_2)\n",
    "#pipeline['regressor'].coef_\n",
    "#pipeline['regressor'].intercept_"
   ]
  },
  {
   "cell_type": "code",
   "execution_count": 50,
   "metadata": {},
   "outputs": [],
   "source": [
    "y_val_pred_2 = pipeline.predict(X_val_2)"
   ]
  },
  {
   "cell_type": "code",
   "execution_count": 51,
   "metadata": {},
   "outputs": [
    {
     "data": {
      "text/plain": "             x_1       y_1       x_2       y_2       x_3       y_3\n0       0.560240  0.052256 -0.265208 -0.073112 -0.295032  0.020856\n1       0.560240  0.052256 -0.265208 -0.073112 -0.295032  0.020856\n2       0.560240  0.052256 -0.265208 -0.073112 -0.295032  0.020856\n3       0.560240  0.052256 -0.265208 -0.073112 -0.295032  0.020856\n4       0.560240  0.052256 -0.265208 -0.073112 -0.295032  0.020856\n...          ...       ...       ...       ...       ...       ...\n125154 -2.445416  2.149573  0.848255 -1.386970  1.597161 -0.762602\n125155 -2.461823  2.184119  0.850596 -1.408390  1.611228 -0.775728\n125156 -2.451283  2.228100  0.863645 -1.434002  1.587638 -0.794098\n125157 -2.382098  2.292272  0.908164 -1.461671  1.473934 -0.830601\n125158 -2.472531  2.296868  0.911302 -1.443109  1.561230 -0.853759\n\n[125159 rows x 6 columns]",
      "text/html": "<div>\n<style scoped>\n    .dataframe tbody tr th:only-of-type {\n        vertical-align: middle;\n    }\n\n    .dataframe tbody tr th {\n        vertical-align: top;\n    }\n\n    .dataframe thead th {\n        text-align: right;\n    }\n</style>\n<table border=\"1\" class=\"dataframe\">\n  <thead>\n    <tr style=\"text-align: right;\">\n      <th></th>\n      <th>x_1</th>\n      <th>y_1</th>\n      <th>x_2</th>\n      <th>y_2</th>\n      <th>x_3</th>\n      <th>y_3</th>\n    </tr>\n  </thead>\n  <tbody>\n    <tr>\n      <th>0</th>\n      <td>0.560240</td>\n      <td>0.052256</td>\n      <td>-0.265208</td>\n      <td>-0.073112</td>\n      <td>-0.295032</td>\n      <td>0.020856</td>\n    </tr>\n    <tr>\n      <th>1</th>\n      <td>0.560240</td>\n      <td>0.052256</td>\n      <td>-0.265208</td>\n      <td>-0.073112</td>\n      <td>-0.295032</td>\n      <td>0.020856</td>\n    </tr>\n    <tr>\n      <th>2</th>\n      <td>0.560240</td>\n      <td>0.052256</td>\n      <td>-0.265208</td>\n      <td>-0.073112</td>\n      <td>-0.295032</td>\n      <td>0.020856</td>\n    </tr>\n    <tr>\n      <th>3</th>\n      <td>0.560240</td>\n      <td>0.052256</td>\n      <td>-0.265208</td>\n      <td>-0.073112</td>\n      <td>-0.295032</td>\n      <td>0.020856</td>\n    </tr>\n    <tr>\n      <th>4</th>\n      <td>0.560240</td>\n      <td>0.052256</td>\n      <td>-0.265208</td>\n      <td>-0.073112</td>\n      <td>-0.295032</td>\n      <td>0.020856</td>\n    </tr>\n    <tr>\n      <th>...</th>\n      <td>...</td>\n      <td>...</td>\n      <td>...</td>\n      <td>...</td>\n      <td>...</td>\n      <td>...</td>\n    </tr>\n    <tr>\n      <th>125154</th>\n      <td>-2.445416</td>\n      <td>2.149573</td>\n      <td>0.848255</td>\n      <td>-1.386970</td>\n      <td>1.597161</td>\n      <td>-0.762602</td>\n    </tr>\n    <tr>\n      <th>125155</th>\n      <td>-2.461823</td>\n      <td>2.184119</td>\n      <td>0.850596</td>\n      <td>-1.408390</td>\n      <td>1.611228</td>\n      <td>-0.775728</td>\n    </tr>\n    <tr>\n      <th>125156</th>\n      <td>-2.451283</td>\n      <td>2.228100</td>\n      <td>0.863645</td>\n      <td>-1.434002</td>\n      <td>1.587638</td>\n      <td>-0.794098</td>\n    </tr>\n    <tr>\n      <th>125157</th>\n      <td>-2.382098</td>\n      <td>2.292272</td>\n      <td>0.908164</td>\n      <td>-1.461671</td>\n      <td>1.473934</td>\n      <td>-0.830601</td>\n    </tr>\n    <tr>\n      <th>125158</th>\n      <td>-2.472531</td>\n      <td>2.296868</td>\n      <td>0.911302</td>\n      <td>-1.443109</td>\n      <td>1.561230</td>\n      <td>-0.853759</td>\n    </tr>\n  </tbody>\n</table>\n<p>125159 rows × 6 columns</p>\n</div>"
     },
     "execution_count": 51,
     "metadata": {},
     "output_type": "execute_result"
    }
   ],
   "source": [
    "# make a dataframe out of y_val_pred_2\n",
    "y_val_pred_2_df = pd.DataFrame(y_val_pred_2, columns=y_val_2.columns)\n",
    "y_val_pred_2_df"
   ]
  },
  {
   "cell_type": "code",
   "execution_count": 52,
   "metadata": {},
   "outputs": [
    {
     "name": "stdout",
     "output_type": "stream",
     "text": [
      "Root Mean Squared Error: 1.5568103655758387\n"
     ]
    }
   ],
   "source": [
    "rmse = np.sqrt(mean_squared_error(y_val_2, y_val_pred_2))\n",
    "print(f'Root Mean Squared Error: {rmse}')"
   ]
  },
  {
   "cell_type": "code",
   "execution_count": 53,
   "metadata": {},
   "outputs": [],
   "source": [
    "def plot_y_yhat(y_val,y_pred, plot_title = \"plot\"):\n",
    "    labels = ['x_1','y_1','x_2','y_2','x_3','y_3']\n",
    "    MAX = 500\n",
    "    if len(y_val) > MAX:\n",
    "        idx = np.random.choice(len(y_val),MAX, replace=False)\n",
    "    else:\n",
    "        idx = np.arange(len(y_val))\n",
    "    \n",
    "    plt.figure(figsize=(10,10))\n",
    "    for i in range(6):\n",
    "        x0 = np.min(y_val[idx,i])\n",
    "        x1 = np.max(y_val[idx,i])\n",
    "        plt.subplot(3, 2, i+1)\n",
    "        plt.scatter(y_val[idx,i],y_pred[idx,i])\n",
    "        plt.xlabel('True '+labels[i])\n",
    "        plt.ylabel('Predicted '+labels[i])\n",
    "        plt.plot([x0,x1],[x0,x1],color='red')\n",
    "        plt.axis('square')\n",
    "    #plt.savefig(plot_title+'.pdf')\n",
    "    plt.show()"
   ]
  },
  {
   "cell_type": "code",
   "execution_count": 54,
   "metadata": {},
   "outputs": [
    {
     "data": {
      "text/plain": "<Figure size 1000x1000 with 6 Axes>",
      "image/png": "[encoded data removed]"
     },
     "metadata": {},
     "output_type": "display_data"
    }
   ],
   "source": [
    "# make a numpy array out of y_val_2\n",
    "y_val_2_np = y_val_2.to_numpy()\n",
    "plot_y_yhat(y_val_2_np,y_val_pred_2)"
   ]
  },
  {
   "cell_type": "code",
   "execution_count": 55,
   "metadata": {},
   "outputs": [],
   "source": [
    "data2['x_1'] = data2['x0_1']\n",
    "data2['y_1'] = data2['y0_1']\n",
    "data2['x_2'] = data2['x0_2']\n",
    "data2['y_2'] = data2['y0_2']\n",
    "data2['x_3'] = data2['x0_3']\n",
    "data2['y_3'] = data2['y0_3']\n",
    "data2 = data2.drop(columns=['Id', 'x0_1', 'y0_1', 'x0_2', 'y0_2', 'x0_3', 'y0_3'])\n",
    "y_data2 = pipeline.predict(data2)"
   ]
  },
  {
   "cell_type": "code",
   "execution_count": null,
   "metadata": {
    "pycharm": {
     "is_executing": true
    }
   },
   "outputs": [],
   "source": [
    "y_data2 = pd.DataFrame(y_data2, columns=y_val_2.columns)\n",
    "y_data2['id'] = y_data2.index\n",
    "columns_titles = [\"id\",\"x_1\", \"y_1\", \"x_2\", \"y_2\", \"x_3\", \"y_3\"]\n",
    "y_data2=y_data2.reindex(columns=columns_titles)\n",
    "y_data2.to_csv('sample_submission.csv',index=False)"
   ]
  },
  {
   "cell_type": "markdown",
   "metadata": {},
   "source": [
    "# Task 2: Nonlinear models on the data - the Polynomial Regression Model"
   ]
  },
  {
   "cell_type": "markdown",
   "metadata": {},
   "source": [
    "## Task 2.1 Development"
   ]
  },
  {
   "cell_type": "code",
   "execution_count": null,
   "metadata": {
    "pycharm": {
     "is_executing": true
    }
   },
   "outputs": [],
   "source": [
    "# Create pipeline\n",
    "pipeline = Pipeline(steps=[\n",
    "    ('scaler', StandardScaler()), \n",
    "    ('regressor', LinearRegression())  \n",
    "])\n",
    "\n",
    "#pipeline = LinearRegression()\n",
    "\n",
    "pipeline.fit(X_train_2, y_train_2)\n",
    "pipeline['regressor'].score(X_train_2, y_train_2)\n",
    "#pipeline['regressor'].coef_\n",
    "#pipeline['regressor'].intercept_"
   ]
  },
  {
   "cell_type": "code",
   "execution_count": null,
   "metadata": {
    "pycharm": {
     "is_executing": true
    }
   },
   "outputs": [],
   "source": [
    "X_train, X_val, X_test, y_train, y_val, y_test = train_validate_test_split(cleaned_X_data, cleaned_y_data, validate_size= 0.1, test_size=0.1)"
   ]
  },
  {
   "cell_type": "code",
   "execution_count": null,
   "metadata": {
    "pycharm": {
     "is_executing": true
    }
   },
   "outputs": [],
   "source": [
    "def sample_trajectories(X, y, trajectory_col='trajectory_id', sample_fraction=0.01, random_state=42):\n",
    "\n",
    "    unique_trajectories = X[trajectory_col].unique()\n",
    "  \n",
    "    sampled_trajectories = resample(unique_trajectories, n_samples=int(sample_fraction * len(unique_trajectories)), random_state=random_state)\n",
    "    \n",
    "    X_sampled = X[X[trajectory_col].isin(sampled_trajectories)]\n",
    "    y_sampled = y[X[trajectory_col].isin(sampled_trajectories)]\n",
    "    \n",
    "    return X_sampled, y_sampled\n",
    "\n",
    "X_train_sampled, y_train_sampled = sample_trajectories(X_train, y_train, sample_fraction=0.01)\n",
    "X_val_sampled, y_val_sampled = sample_trajectories(X_val, y_val, sample_fraction=0.01)\n",
    "X_test_sampled, y_test_sampled = sample_trajectories(X_test, y_test, sample_fraction=0.01)"
   ]
  },
  {
   "cell_type": "code",
   "execution_count": null,
   "metadata": {
    "pycharm": {
     "is_executing": true
    }
   },
   "outputs": [],
   "source": [
    "X_train_sampled = X_train_sampled.drop(columns=['trajectory_id'])\n",
    "X_val_sampled = X_val_sampled.drop(columns=['trajectory_id'])\n",
    "X_test_sampled = X_test_sampled.drop(columns=['trajectory_id'])\n",
    "y_train_sampled = y_train_sampled.drop(columns=['trajectory_id', 't'])\n",
    "y_val_sampled = y_val_sampled.drop(columns=['trajectory_id', 't'])\n",
    "y_test_sampled = y_test_sampled.drop(columns=['trajectory_id', 't'])"
   ]
  },
  {
   "cell_type": "code",
   "execution_count": null,
   "metadata": {
    "pycharm": {
     "is_executing": true
    }
   },
   "outputs": [],
   "source": [
    "def validate_poly_regression(X_train, y_train, X_val, y_val, regressor=None, degrees=range(1,15), max_features=None):\n",
    "    \"\"\"\n",
    "    Perform polynomial regression with different polynomial degrees and plot the results.\n",
    "    \n",
    "    Parameters:\n",
    "    - X_train: Training features.\n",
    "    - y_train: Training labels.\n",
    "    - X_val: Validation features.\n",
    "    - y_val: Validation labels.\n",
    "    - degrees: List of polynomial degrees to test.\n",
    "    - max_features: Maximum number of features to use in the regression.\n",
    "    \n",
    "    Returns:\n",
    "    - The polynomial degree that gives the best validation performance.\n",
    "    \"\"\"\n",
    "    \n",
    "    if regressor is None:\n",
    "        regressor = RidgeCV(alphas=np.logspace(-6, 6, 13), store_cv_values=True)\n",
    "    \n",
    "    best_rmse = float('inf')\n",
    "    rmse_dict = {}\n",
    "    best_pipeline = None\n",
    "    \n",
    "    # Iterate through the polynomial degrees\n",
    "    for degree in degrees:\n",
    "        # Create a pipeline for polynomial regression\n",
    "        pipeline = Pipeline(steps=[\n",
    "                ('poly', PolynomialFeatures(degree=degree)),\n",
    "                ('scaler', StandardScaler()),\n",
    "                ('regressor', regressor)\n",
    "            ])\n",
    "        \n",
    "        # Fit the pipeline\n",
    "        pipeline.fit(X_train, y_train)\n",
    "        \n",
    "        # print number of features for each degree \n",
    "        poly_features = pipeline.named_steps['poly']\n",
    "        print(f'Degree: {degree}, Number of Features: {poly_features.n_output_features_}')\n",
    "        \n",
    "        if max_features is not None and poly_features.n_output_features_ > max_features:\n",
    "            print(f\"Skipping degree {degree} as it exceeds max_features={max_features}.\")\n",
    "            continue\n",
    "        \n",
    "        # Predict the labels\n",
    "        y_val_pred = pipeline.predict(X_val)\n",
    "        \n",
    "        num_features = pipeline.named_steps['poly'].n_output_features_\n",
    "        \n",
    "        rmse = np.sqrt(mean_squared_error(y_val, y_val_pred))\n",
    "        print(f'Degree: {degree}, RMSE: {rmse}')\n",
    "        \n",
    "        rmse_dict[(degree, num_features)] = rmse\n",
    "        \n",
    "        # Update the best degree if the current model is better\n",
    "        if rmse < best_rmse:\n",
    "            best_rmse = rmse\n",
    "            best_pipeline = pipeline\n",
    "        \n",
    "        if max_features and num_features > max_features:\n",
    "            break\n",
    "        \n",
    "    return rmse_dict, best_rmse, best_pipeline\n",
    "    \n",
    "    "
   ]
  },
  {
   "cell_type": "code",
   "execution_count": null,
   "metadata": {
    "pycharm": {
     "is_executing": true
    }
   },
   "outputs": [],
   "source": [
    "rmse_dict, best_rmse, best_pipeline = validate_poly_regression(X_train_sampled, y_train_sampled, X_val_sampled, y_val_sampled, regressor=None, degrees=range(1,7), max_features=None)"
   ]
  },
  {
   "cell_type": "code",
   "execution_count": null,
   "metadata": {
    "pycharm": {
     "is_executing": true
    }
   },
   "outputs": [],
   "source": [
    "    # Plot the MSE values\n",
    "    plt.figure(figsize=(10, 5))\n",
    "    plt.plot(degrees, mse_values, marker='o')\n",
    "    plt.xlabel('Polynomial Degree')\n",
    "    plt.ylabel('Mean Squared Error')\n",
    "    plt.title('Validation Performance vs. Polynomial Degree')\n",
    "    plt.grid(True)\n",
    "    plt.xticks(degrees)\n",
    "    plt.show()"
   ]
  }
 ],
 "metadata": {
  "kernelspec": {
   "display_name": "base",
   "language": "python",
   "name": "python3"
  },
  "language_info": {
   "codemirror_mode": {
    "name": "ipython",
    "version": 3
   },
   "file_extension": ".py",
   "mimetype": "text/x-python",
   "name": "python",
   "nbconvert_exporter": "python",
   "pygments_lexer": "ipython3",
   "version": "3.12.4"
  }
 },
 "nbformat": 4,
 "nbformat_minor": 2
}