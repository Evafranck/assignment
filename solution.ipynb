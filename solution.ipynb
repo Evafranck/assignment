{
 "cells": [
  {
   "cell_type": "markdown",
   "metadata": {},
   "source": [
    "# Assignment 1 - Luise Kutzner, Lara Ruschmeyer, Eva Franck"
   ]
  },
  {
   "cell_type": "code",
   "execution_count": 2,
   "metadata": {
    "ExecuteTime": {
     "end_time": "2024-10-18T11:33:17.097464Z",
     "start_time": "2024-10-18T11:33:17.092624Z"
    }
   },
   "outputs": [],
   "source": [
    "import numpy as np \n",
    "import matplotlib.pyplot as plt\n",
    "import pandas as pd\n",
    "from sklearn.utils import indexable\n",
    "from sklearn.utils import resample\n",
    "from sklearn.utils.validation import _num_samples\n",
    "from sklearn.model_selection import ShuffleSplit, StratifiedShuffleSplit\n",
    "from itertools import chain\n",
    "from sklearn.model_selection import train_test_split\n",
    "from sklearn.preprocessing import StandardScaler\n",
    "from sklearn.metrics import mean_squared_error\n",
    "from sklearn.preprocessing import PolynomialFeatures\n",
    "from sklearn.linear_model import LinearRegression\n",
    "from sklearn.pipeline import Pipeline\n",
    "from sklearn.linear_model import Ridge, RidgeCV, Lasso, LassoCV, MultiTaskLassoCV\n",
    "from sklearn.compose import ColumnTransformer\n",
    "from sklearn.preprocessing import MinMaxScaler, StandardScaler\n",
    "from math import ceil, floor\n",
    "\n",
    "from sklearn.utils import (\n",
    "    _safe_indexing,\n",
    "    check_random_state,\n",
    "    indexable,\n",
    "    metadata_routing,\n",
    ")\n"
   ]
  },
  {
   "cell_type": "markdown",
   "metadata": {},
   "source": [
    "# Task 1: Setting the Baseline"
   ]
  },
  {
   "cell_type": "code",
   "execution_count": 3,
   "metadata": {
    "ExecuteTime": {
     "end_time": "2024-10-18T11:33:17.296392Z",
     "start_time": "2024-10-18T11:33:17.290977Z"
    }
   },
   "outputs": [],
   "source": [
    "# function to transform the dataset into a DataFrame where each sample is labeled with \n",
    "# a 'trajectory_id' indicating which 258-sample trajectory it belongs to\n",
    "\n",
    "def transform_to_trajectories_dataframe(X_data, idx):\n",
    "    \n",
    "    transformed_data = []\n",
    "    \n",
    "    # iterate through the indices list to slice the dataframe into stacks\n",
    "    for i in range(len(idx) - 1):\n",
    "        # each stack corresponds to samples from idx[i] to idx[i + 1]\n",
    "        start_idx = idx[i]\n",
    "        end_idx = idx[i + 1]\n",
    "        \n",
    "        trajectory = X_data.iloc[start_idx:end_idx].copy()\n",
    "        \n",
    "        trajectory['trajectory_id'] = i\n",
    "        \n",
    "        transformed_data.append(trajectory)\n",
    "    \n",
    "    result_df = pd.concat(transformed_data, ignore_index=True)\n",
    "    \n",
    "    return result_df\n"
   ]
  },
  {
   "cell_type": "code",
   "execution_count": 4,
   "metadata": {
    "ExecuteTime": {
     "end_time": "2024-10-18T11:33:17.399187Z",
     "start_time": "2024-10-18T11:33:17.394543Z"
    }
   },
   "outputs": [],
   "source": [
    "# removes trajectories from the dataset that have duplicated initial positions \n",
    "\n",
    "def remove_duplicated_trajectories(X_data, trajectory_col='trajectory_id'):\n",
    "    \n",
    "    first_samples = X_data.groupby(trajectory_col).first().reset_index()\n",
    "    \n",
    "    duplicated_first_samples = first_samples.duplicated(subset=X_data.columns.difference([trajectory_col]), keep='first')\n",
    "\n",
    "    true_count = duplicated_first_samples.sum()\n",
    "    index = duplicated_first_samples[duplicated_first_samples].index\n",
    "    print(f\"Found {true_count} duplicated first samples with indices {index}.\")\n",
    "    \n",
    "    unique_trajectories = first_samples.loc[~duplicated_first_samples, trajectory_col]\n",
    "    \n",
    "    cleaned_data = X_data[X_data[trajectory_col].isin(unique_trajectories)]\n",
    "\n",
    "    return cleaned_data\n"
   ]
  },
  {
   "cell_type": "code",
   "execution_count": 5,
   "metadata": {
    "ExecuteTime": {
     "end_time": "2024-10-18T11:33:17.508421Z",
     "start_time": "2024-10-18T11:33:17.501151Z"
    }
   },
   "outputs": [],
   "source": [
    " # validation helper to check if the test/test sizes are meaningful with regard to \n",
    " # the size of the data (used in test split function from sklearn)\n",
    "    \n",
    "def _validate_shuffle_split(n_samples, test_size, train_size, default_test_size=None):\n",
    "   \n",
    "    if test_size is None and train_size is None:\n",
    "        test_size = default_test_size\n",
    "\n",
    "    test_size_type = np.asarray(test_size).dtype.kind\n",
    "    train_size_type = np.asarray(train_size).dtype.kind\n",
    "\n",
    "    if (\n",
    "        test_size_type == \"i\"\n",
    "        and (test_size >= n_samples or test_size <= 0)\n",
    "        or test_size_type == \"f\"\n",
    "        and (test_size <= 0 or test_size >= 1)\n",
    "    ):\n",
    "        raise ValueError(\n",
    "            \"test_size={0} should be either positive and smaller\"\n",
    "            \" than the number of samples {1} or a float in the \"\n",
    "            \"(0, 1) range\".format(test_size, n_samples)\n",
    "        )\n",
    "\n",
    "    if (\n",
    "        train_size_type == \"i\"\n",
    "        and (train_size >= n_samples or train_size <= 0)\n",
    "        or train_size_type == \"f\"\n",
    "        and (train_size <= 0 or train_size >= 1)\n",
    "    ):\n",
    "        raise ValueError(\n",
    "            \"train_size={0} should be either positive and smaller\"\n",
    "            \" than the number of samples {1} or a float in the \"\n",
    "            \"(0, 1) range\".format(train_size, n_samples)\n",
    "        )\n",
    "\n",
    "    if train_size is not None and train_size_type not in (\"i\", \"f\"):\n",
    "        raise ValueError(\"Invalid value for train_size: {}\".format(train_size))\n",
    "    if test_size is not None and test_size_type not in (\"i\", \"f\"):\n",
    "        raise ValueError(\"Invalid value for test_size: {}\".format(test_size))\n",
    "\n",
    "    if train_size_type == \"f\" and test_size_type == \"f\" and train_size + test_size > 1:\n",
    "        raise ValueError(\n",
    "            \"The sum of test_size and train_size = {}, should be in the (0, 1)\"\n",
    "            \" range. Reduce test_size and/or train_size.\".format(train_size + test_size)\n",
    "        )\n",
    "\n",
    "    if test_size_type == \"f\":\n",
    "        n_test = ceil(test_size * n_samples)\n",
    "    elif test_size_type == \"i\":\n",
    "        n_test = float(test_size)\n",
    "\n",
    "    if train_size_type == \"f\":\n",
    "        n_train = floor(train_size * n_samples)\n",
    "    elif train_size_type == \"i\":\n",
    "        n_train = float(train_size)\n",
    "\n",
    "    if train_size is None:\n",
    "        n_train = n_samples - n_test\n",
    "    elif test_size is None:\n",
    "        n_test = n_samples - n_train\n",
    "\n",
    "    if n_train + n_test > n_samples:\n",
    "        raise ValueError(\n",
    "            \"The sum of train_size and test_size = %d, \"\n",
    "            \"should be smaller than the number of \"\n",
    "            \"samples %d. Reduce test_size and/or \"\n",
    "            \"train_size.\" % (n_train + n_test, n_samples)\n",
    "        )\n",
    "\n",
    "    n_train, n_test = int(n_train), int(n_test)\n",
    "\n",
    "    if n_train == 0:\n",
    "        raise ValueError(\n",
    "            \"With n_samples={}, test_size={} and train_size={}, the \"\n",
    "            \"resulting train set will be empty. Adjust any of the \"\n",
    "            \"aforementioned parameters.\".format(n_samples, test_size, train_size)\n",
    "        )\n",
    "\n",
    "    return n_train, n_test"
   ]
  },
  {
   "cell_type": "code",
   "execution_count": 6,
   "metadata": {
    "ExecuteTime": {
     "end_time": "2024-10-18T11:33:17.608735Z",
     "start_time": "2024-10-18T11:33:17.602285Z"
    }
   },
   "outputs": [],
   "source": [
    "# Redefine split function from sklearn for training and test set based on trajectories\n",
    "\n",
    "def train_test_split_traj(*arrays, test_size=None, train_size=None, random_state=None, shuffle=True, stratify=None, trajectory_col='trajectory_id'):\n",
    "\n",
    "    n_arrays = len(arrays)\n",
    "    if n_arrays == 0:\n",
    "        raise ValueError(\"At least one array required as input\")\n",
    "\n",
    "    arrays = indexable(*arrays)\n",
    "\n",
    "    # the first array should be the dataframe with trajectory column, otherwise raise error\n",
    "    if isinstance(arrays[0], pd.DataFrame) and trajectory_col in arrays[0].columns:\n",
    "        X_data = arrays[0]\n",
    "        unique_trajectories = X_data[trajectory_col].unique()\n",
    "    else:\n",
    "        raise ValueError(f\"The first array must be a DataFrame containing the column '{trajectory_col}'.\")\n",
    "\n",
    "    n_trajectories = len(unique_trajectories)\n",
    "    \n",
    "    # determine number of trajectories for training and testing\n",
    "    n_train, n_test = _validate_shuffle_split(\n",
    "        n_trajectories, test_size, train_size, default_test_size=0.25\n",
    "    )\n",
    "\n",
    "    # shuffle trajectories if needed\n",
    "    if shuffle:\n",
    "        np.random.seed(random_state)\n",
    "        np.random.shuffle(unique_trajectories)\n",
    "\n",
    "    if stratify is not None:\n",
    "        raise ValueError(\"Stratified train/test split is not implemented for trajectories\")\n",
    "\n",
    "    # Split trajectories into training and test sets\n",
    "    train_trajectories = unique_trajectories[:n_train]\n",
    "    test_trajectories = unique_trajectories[n_train:n_train + n_test]\n",
    "\n",
    "    # Create masks for train and test trajectories\n",
    "    train_mask = X_data[trajectory_col].isin(train_trajectories)\n",
    "    test_mask = X_data[trajectory_col].isin(test_trajectories)\n",
    "\n",
    "    split_arrays = []\n",
    "    for array in arrays:\n",
    "        if isinstance(array, pd.DataFrame):\n",
    "            train_array = array[train_mask]\n",
    "            test_array = array[test_mask]\n",
    "        else:\n",
    "            train_array = array[train_mask.to_numpy()]\n",
    "            test_array = array[test_mask.to_numpy()]\n",
    "\n",
    "        split_arrays.extend([train_array, test_array])\n",
    "\n",
    "    return split_arrays\n"
   ]
  },
  {
   "cell_type": "code",
   "execution_count": 7,
   "metadata": {
    "ExecuteTime": {
     "end_time": "2024-10-18T11:33:17.624290Z",
     "start_time": "2024-10-18T11:33:17.617434Z"
    }
   },
   "outputs": [],
   "source": [
    "# splits the dataset based on trajectories identified by the trajectory_id column into training, validation and test sets\n",
    "# this or the function before\n",
    "def train_validate_test_split(*arrays, test_size=None, validate_size=None, train_size=None, random_state=None, shuffle=True, trajectory_col='trajectory_id'):\n",
    "    n_arrays = len(arrays)\n",
    "    if n_arrays == 0:\n",
    "        raise ValueError(\"At least one array required as input\")\n",
    "\n",
    "    arrays = indexable(*arrays)\n",
    "\n",
    "    if isinstance(arrays[0], pd.DataFrame) and trajectory_col in arrays[0].columns:\n",
    "        X_data = arrays[0]\n",
    "        unique_trajectories = X_data[trajectory_col].unique()\n",
    "    else:\n",
    "        raise ValueError(f\"The first array must be a DataFrame containing the column '{trajectory_col}'.\")\n",
    "\n",
    "    n_trajectories = len(unique_trajectories)\n",
    "\n",
    "    # split the data into training and (validation + test)\n",
    "    n_train, n_temp = _validate_shuffle_split(\n",
    "        n_trajectories, test_size + validate_size, train_size, default_test_size=0.25\n",
    "    )\n",
    "\n",
    "    # shuffle trajectories if needed\n",
    "    if shuffle:\n",
    "        np.random.seed(random_state)\n",
    "        np.random.shuffle(unique_trajectories)\n",
    "\n",
    "    # split into train and temporary sets\n",
    "    train_trajectories = unique_trajectories[:n_train]\n",
    "    temp_trajectories = unique_trajectories[n_train:n_train + n_temp]\n",
    "\n",
    "    # further split temporary set into validation and test sets\n",
    "    n_validate = int(validate_size * n_trajectories)\n",
    "    validate_trajectories = temp_trajectories[:n_validate]\n",
    "    test_trajectories = temp_trajectories[n_validate:]\n",
    "\n",
    "    # create masks for train, validation and test trajectories\n",
    "    train_mask = X_data[trajectory_col].isin(train_trajectories)\n",
    "    validate_mask = X_data[trajectory_col].isin(validate_trajectories)\n",
    "    test_mask = X_data[trajectory_col].isin(test_trajectories)\n",
    "\n",
    "    split_arrays = []\n",
    "    for array in arrays:\n",
    "        if isinstance(array, pd.DataFrame):\n",
    "            train_array = array[train_mask]\n",
    "            validate_array = array[validate_mask]\n",
    "            test_array = array[test_mask]\n",
    "        else:\n",
    "            train_array = array[train_mask.to_numpy()]\n",
    "            validate_array = array[validate_mask.to_numpy()]\n",
    "            test_array = array[test_mask.to_numpy()]\n",
    "\n",
    "        split_arrays.extend([train_array, validate_array, test_array])\n",
    "\n",
    "    return split_arrays\n"
   ]
  },
  {
   "cell_type": "markdown",
   "metadata": {},
   "source": [
    "## Task 1.1 Data Preparation and Validation Pipeline"
   ]
  },
  {
   "cell_type": "code",
   "execution_count": 9,
   "metadata": {
    "ExecuteTime": {
     "end_time": "2024-10-18T11:33:22.287995Z",
     "start_time": "2024-10-18T11:33:17.721792Z"
    }
   },
   "outputs": [],
   "source": [
    "data = pd.read_csv('../../mlNOVA/X_train.csv')\n",
    "#data = pd.read_csv('X_train.csv')"
   ]
  },
  {
   "cell_type": "code",
   "execution_count": 10,
   "metadata": {
    "ExecuteTime": {
     "end_time": "2024-10-18T11:33:22.440999Z",
     "start_time": "2024-10-18T11:33:22.424035Z"
    }
   },
   "outputs": [
    {
     "data": {
      "text/html": [
       "<div>\n",
       "<style scoped>\n",
       "    .dataframe tbody tr th:only-of-type {\n",
       "        vertical-align: middle;\n",
       "    }\n",
       "\n",
       "    .dataframe tbody tr th {\n",
       "        vertical-align: top;\n",
       "    }\n",
       "\n",
       "    .dataframe thead th {\n",
       "        text-align: right;\n",
       "    }\n",
       "</style>\n",
       "<table border=\"1\" class=\"dataframe\">\n",
       "  <thead>\n",
       "    <tr style=\"text-align: right;\">\n",
       "      <th></th>\n",
       "      <th>t</th>\n",
       "      <th>x_1</th>\n",
       "      <th>y_1</th>\n",
       "      <th>v_x_1</th>\n",
       "      <th>v_y_1</th>\n",
       "      <th>x_2</th>\n",
       "      <th>y_2</th>\n",
       "      <th>v_x_2</th>\n",
       "      <th>v_y_2</th>\n",
       "      <th>x_3</th>\n",
       "      <th>y_3</th>\n",
       "      <th>v_x_3</th>\n",
       "      <th>v_y_3</th>\n",
       "      <th>Id</th>\n",
       "    </tr>\n",
       "  </thead>\n",
       "  <tbody>\n",
       "    <tr>\n",
       "      <th>0</th>\n",
       "      <td>0.000000</td>\n",
       "      <td>1.000000</td>\n",
       "      <td>0.000000</td>\n",
       "      <td>0.000000</td>\n",
       "      <td>0.000000</td>\n",
       "      <td>-0.266467</td>\n",
       "      <td>0.859196</td>\n",
       "      <td>0.000000</td>\n",
       "      <td>0.000000</td>\n",
       "      <td>-0.733533</td>\n",
       "      <td>-0.859196</td>\n",
       "      <td>0.000000</td>\n",
       "      <td>0.000000</td>\n",
       "      <td>0</td>\n",
       "    </tr>\n",
       "    <tr>\n",
       "      <th>1</th>\n",
       "      <td>0.039062</td>\n",
       "      <td>0.999548</td>\n",
       "      <td>0.000092</td>\n",
       "      <td>-0.023159</td>\n",
       "      <td>0.004731</td>\n",
       "      <td>-0.266261</td>\n",
       "      <td>0.858781</td>\n",
       "      <td>0.010574</td>\n",
       "      <td>-0.021257</td>\n",
       "      <td>-0.733287</td>\n",
       "      <td>-0.858874</td>\n",
       "      <td>0.012584</td>\n",
       "      <td>0.016526</td>\n",
       "      <td>1</td>\n",
       "    </tr>\n",
       "    <tr>\n",
       "      <th>2</th>\n",
       "      <td>0.078125</td>\n",
       "      <td>0.998190</td>\n",
       "      <td>0.000370</td>\n",
       "      <td>-0.046362</td>\n",
       "      <td>0.009474</td>\n",
       "      <td>-0.265641</td>\n",
       "      <td>0.857535</td>\n",
       "      <td>0.021172</td>\n",
       "      <td>-0.042552</td>\n",
       "      <td>-0.732549</td>\n",
       "      <td>-0.857905</td>\n",
       "      <td>0.025189</td>\n",
       "      <td>0.033078</td>\n",
       "      <td>2</td>\n",
       "    </tr>\n",
       "    <tr>\n",
       "      <th>3</th>\n",
       "      <td>0.117188</td>\n",
       "      <td>0.995925</td>\n",
       "      <td>0.000833</td>\n",
       "      <td>-0.069654</td>\n",
       "      <td>0.014239</td>\n",
       "      <td>-0.264606</td>\n",
       "      <td>0.855456</td>\n",
       "      <td>0.031817</td>\n",
       "      <td>-0.063924</td>\n",
       "      <td>-0.731318</td>\n",
       "      <td>-0.856289</td>\n",
       "      <td>0.037837</td>\n",
       "      <td>0.049685</td>\n",
       "      <td>3</td>\n",
       "    </tr>\n",
       "    <tr>\n",
       "      <th>4</th>\n",
       "      <td>0.156250</td>\n",
       "      <td>0.992747</td>\n",
       "      <td>0.001483</td>\n",
       "      <td>-0.093080</td>\n",
       "      <td>0.019040</td>\n",
       "      <td>-0.263154</td>\n",
       "      <td>0.852540</td>\n",
       "      <td>0.042533</td>\n",
       "      <td>-0.085412</td>\n",
       "      <td>-0.729592</td>\n",
       "      <td>-0.854022</td>\n",
       "      <td>0.050548</td>\n",
       "      <td>0.066372</td>\n",
       "      <td>4</td>\n",
       "    </tr>\n",
       "  </tbody>\n",
       "</table>\n",
       "</div>"
      ],
      "text/plain": [
       "          t       x_1       y_1     v_x_1     v_y_1       x_2       y_2  \\\n",
       "0  0.000000  1.000000  0.000000  0.000000  0.000000 -0.266467  0.859196   \n",
       "1  0.039062  0.999548  0.000092 -0.023159  0.004731 -0.266261  0.858781   \n",
       "2  0.078125  0.998190  0.000370 -0.046362  0.009474 -0.265641  0.857535   \n",
       "3  0.117188  0.995925  0.000833 -0.069654  0.014239 -0.264606  0.855456   \n",
       "4  0.156250  0.992747  0.001483 -0.093080  0.019040 -0.263154  0.852540   \n",
       "\n",
       "      v_x_2     v_y_2       x_3       y_3     v_x_3     v_y_3  Id  \n",
       "0  0.000000  0.000000 -0.733533 -0.859196  0.000000  0.000000   0  \n",
       "1  0.010574 -0.021257 -0.733287 -0.858874  0.012584  0.016526   1  \n",
       "2  0.021172 -0.042552 -0.732549 -0.857905  0.025189  0.033078   2  \n",
       "3  0.031817 -0.063924 -0.731318 -0.856289  0.037837  0.049685   3  \n",
       "4  0.042533 -0.085412 -0.729592 -0.854022  0.050548  0.066372   4  "
      ]
     },
     "execution_count": 10,
     "metadata": {},
     "output_type": "execute_result"
    }
   ],
   "source": [
    "data.head()\n"
   ]
  },
  {
   "cell_type": "code",
   "execution_count": 12,
   "metadata": {
    "ExecuteTime": {
     "end_time": "2024-10-18T11:33:22.626932Z",
     "start_time": "2024-10-18T11:33:22.606845Z"
    }
   },
   "outputs": [
    {
     "data": {
      "text/html": [
       "<div>\n",
       "<style scoped>\n",
       "    .dataframe tbody tr th:only-of-type {\n",
       "        vertical-align: middle;\n",
       "    }\n",
       "\n",
       "    .dataframe tbody tr th {\n",
       "        vertical-align: top;\n",
       "    }\n",
       "\n",
       "    .dataframe thead th {\n",
       "        text-align: right;\n",
       "    }\n",
       "</style>\n",
       "<table border=\"1\" class=\"dataframe\">\n",
       "  <thead>\n",
       "    <tr style=\"text-align: right;\">\n",
       "      <th></th>\n",
       "      <th>t</th>\n",
       "      <th>x_1</th>\n",
       "      <th>y_1</th>\n",
       "      <th>v_x_1</th>\n",
       "      <th>v_y_1</th>\n",
       "      <th>x_2</th>\n",
       "      <th>y_2</th>\n",
       "      <th>v_x_2</th>\n",
       "      <th>v_y_2</th>\n",
       "      <th>x_3</th>\n",
       "      <th>y_3</th>\n",
       "      <th>v_x_3</th>\n",
       "      <th>v_y_3</th>\n",
       "      <th>Id</th>\n",
       "    </tr>\n",
       "  </thead>\n",
       "  <tbody>\n",
       "    <tr>\n",
       "      <th>255</th>\n",
       "      <td>9.960940</td>\n",
       "      <td>1.491492</td>\n",
       "      <td>1.199018</td>\n",
       "      <td>-0.063145</td>\n",
       "      <td>0.595242</td>\n",
       "      <td>1.018416</td>\n",
       "      <td>1.248499</td>\n",
       "      <td>0.674080</td>\n",
       "      <td>-0.034194</td>\n",
       "      <td>-2.509908</td>\n",
       "      <td>-2.447517</td>\n",
       "      <td>-0.610936</td>\n",
       "      <td>-0.561048</td>\n",
       "      <td>255</td>\n",
       "    </tr>\n",
       "    <tr>\n",
       "      <th>256</th>\n",
       "      <td>10.000000</td>\n",
       "      <td>1.485476</td>\n",
       "      <td>1.222565</td>\n",
       "      <td>-0.250131</td>\n",
       "      <td>0.609230</td>\n",
       "      <td>1.048258</td>\n",
       "      <td>1.246830</td>\n",
       "      <td>0.859066</td>\n",
       "      <td>-0.050144</td>\n",
       "      <td>-2.533734</td>\n",
       "      <td>-2.469395</td>\n",
       "      <td>-0.608935</td>\n",
       "      <td>-0.559086</td>\n",
       "      <td>256</td>\n",
       "    </tr>\n",
       "    <tr>\n",
       "      <th>257</th>\n",
       "      <td>0.000000</td>\n",
       "      <td>1.000000</td>\n",
       "      <td>0.000000</td>\n",
       "      <td>0.000000</td>\n",
       "      <td>0.000000</td>\n",
       "      <td>-0.176502</td>\n",
       "      <td>0.555739</td>\n",
       "      <td>0.000000</td>\n",
       "      <td>0.000000</td>\n",
       "      <td>-0.823498</td>\n",
       "      <td>-0.555739</td>\n",
       "      <td>0.000000</td>\n",
       "      <td>0.000000</td>\n",
       "      <td>257</td>\n",
       "    </tr>\n",
       "    <tr>\n",
       "      <th>258</th>\n",
       "      <td>0.039062</td>\n",
       "      <td>0.999392</td>\n",
       "      <td>0.000131</td>\n",
       "      <td>-0.031160</td>\n",
       "      <td>0.006723</td>\n",
       "      <td>-0.176326</td>\n",
       "      <td>0.555148</td>\n",
       "      <td>0.008985</td>\n",
       "      <td>-0.030279</td>\n",
       "      <td>-0.823065</td>\n",
       "      <td>-0.555279</td>\n",
       "      <td>0.022176</td>\n",
       "      <td>0.023556</td>\n",
       "      <td>258</td>\n",
       "    </tr>\n",
       "    <tr>\n",
       "      <th>259</th>\n",
       "      <td>0.078125</td>\n",
       "      <td>0.997564</td>\n",
       "      <td>0.000525</td>\n",
       "      <td>-0.062415</td>\n",
       "      <td>0.013460</td>\n",
       "      <td>-0.175799</td>\n",
       "      <td>0.553372</td>\n",
       "      <td>0.017992</td>\n",
       "      <td>-0.060639</td>\n",
       "      <td>-0.821765</td>\n",
       "      <td>-0.553898</td>\n",
       "      <td>0.044423</td>\n",
       "      <td>0.047179</td>\n",
       "      <td>259</td>\n",
       "    </tr>\n",
       "    <tr>\n",
       "      <th>260</th>\n",
       "      <td>0.117188</td>\n",
       "      <td>0.994513</td>\n",
       "      <td>0.001183</td>\n",
       "      <td>-0.093859</td>\n",
       "      <td>0.020224</td>\n",
       "      <td>-0.174920</td>\n",
       "      <td>0.550408</td>\n",
       "      <td>0.027043</td>\n",
       "      <td>-0.091163</td>\n",
       "      <td>-0.819593</td>\n",
       "      <td>-0.551591</td>\n",
       "      <td>0.066816</td>\n",
       "      <td>0.070939</td>\n",
       "      <td>260</td>\n",
       "    </tr>\n",
       "  </tbody>\n",
       "</table>\n",
       "</div>"
      ],
      "text/plain": [
       "             t       x_1       y_1     v_x_1     v_y_1       x_2       y_2  \\\n",
       "255   9.960940  1.491492  1.199018 -0.063145  0.595242  1.018416  1.248499   \n",
       "256  10.000000  1.485476  1.222565 -0.250131  0.609230  1.048258  1.246830   \n",
       "257   0.000000  1.000000  0.000000  0.000000  0.000000 -0.176502  0.555739   \n",
       "258   0.039062  0.999392  0.000131 -0.031160  0.006723 -0.176326  0.555148   \n",
       "259   0.078125  0.997564  0.000525 -0.062415  0.013460 -0.175799  0.553372   \n",
       "260   0.117188  0.994513  0.001183 -0.093859  0.020224 -0.174920  0.550408   \n",
       "\n",
       "        v_x_2     v_y_2       x_3       y_3     v_x_3     v_y_3   Id  \n",
       "255  0.674080 -0.034194 -2.509908 -2.447517 -0.610936 -0.561048  255  \n",
       "256  0.859066 -0.050144 -2.533734 -2.469395 -0.608935 -0.559086  256  \n",
       "257  0.000000  0.000000 -0.823498 -0.555739  0.000000  0.000000  257  \n",
       "258  0.008985 -0.030279 -0.823065 -0.555279  0.022176  0.023556  258  \n",
       "259  0.017992 -0.060639 -0.821765 -0.553898  0.044423  0.047179  259  \n",
       "260  0.027043 -0.091163 -0.819593 -0.551591  0.066816  0.070939  260  "
      ]
     },
     "execution_count": 12,
     "metadata": {},
     "output_type": "execute_result"
    }
   ],
   "source": [
    "data.loc[255:260]"
   ]
  },
  {
   "cell_type": "code",
   "execution_count": 13,
   "metadata": {
    "ExecuteTime": {
     "end_time": "2024-10-18T11:33:22.760524Z",
     "start_time": "2024-10-18T11:33:22.741217Z"
    }
   },
   "outputs": [],
   "source": [
    "# find the indices where a new trajectory starts\n",
    "idx = np.hstack((0, data[data.t == 10].index.values + 1))[:-1]"
   ]
  },
  {
   "cell_type": "code",
   "execution_count": 14,
   "metadata": {
    "ExecuteTime": {
     "end_time": "2024-10-18T11:33:23.103233Z",
     "start_time": "2024-10-18T11:33:22.888914Z"
    }
   },
   "outputs": [
    {
     "data": {
      "text/plain": [
       "[<matplotlib.lines.Line2D at 0x19fe89e0a10>]"
      ]
     },
     "execution_count": 14,
     "metadata": {},
     "output_type": "execute_result"
    },
    {
     "data": {
      "image/png": "[encoded data removed]",
      "text/plain": [
       "<Figure size 640x480 with 1 Axes>"
      ]
     },
     "metadata": {},
     "output_type": "display_data"
    }
   ],
   "source": [
    "# plot a random trajectory \n",
    "\n",
    "k = np.random.randint(idx.shape[0])\n",
    "pltidx = range(idx[k], 257 + idx[k])\n",
    "pltsquare = idx[k]\n",
    "\n",
    "plt.plot(data.x_1[pltidx], data.y_1[pltidx])\n",
    "plt.plot(data.x_2[pltidx], data.y_2[pltidx])\n",
    "plt.plot(data.x_3[pltidx], data.y_3[pltidx])\n",
    "\n",
    "plt.plot(data.x_1[pltsquare], data.y_1[pltsquare], 'ro')\n",
    "plt.plot(data.x_2[pltsquare], data.y_2[pltsquare], 'ro')\n",
    "plt.plot(data.x_3[pltsquare], data.y_3[pltsquare], 'ro')"
   ]
  },
  {
   "cell_type": "code",
   "execution_count": 15,
   "metadata": {
    "ExecuteTime": {
     "end_time": "2024-10-18T11:33:23.341130Z",
     "start_time": "2024-10-18T11:33:23.292456Z"
    }
   },
   "outputs": [],
   "source": [
    "# drop Id column as it is unnecessary for the model\n",
    "data_cleaned = data.drop(columns=['Id'])\n",
    "#'v_x_1', 'v_y_1', 'v_x_2', 'v_y_2', 'v_x_3', 'v_y_3', "
   ]
  },
  {
   "cell_type": "code",
   "execution_count": 16,
   "metadata": {
    "ExecuteTime": {
     "end_time": "2024-10-18T11:33:30.049243Z",
     "start_time": "2024-10-18T11:33:23.496103Z"
    }
   },
   "outputs": [],
   "source": [
    "# Extract the X data and bring it into a form such that you have the initial conditions \n",
    "# along with the time t at which y describes the current x and y positions\n",
    "\n",
    "X_data = data_cleaned.copy()\n",
    "for i in idx:\n",
    "    # select the first sample's column values in the current trajectory\n",
    "    x_1_value = data_cleaned.loc[i, 'x_1']\n",
    "    y_1_value = data_cleaned.loc[i, 'y_1']\n",
    "    x_2_value = data_cleaned.loc[i, 'x_2']\n",
    "    y_2_value = data_cleaned.loc[i, 'y_2']\n",
    "    x_3_value = data_cleaned.loc[i, 'x_3']\n",
    "    y_3_value = data_cleaned.loc[i, 'y_3']\n",
    "    \n",
    "    # update the column values for all 258 samples in this trajectory\n",
    "    X_data.loc[i:i+257, 'x_1'] = x_1_value\n",
    "    X_data.loc[i:i+257, 'y_1'] = y_1_value\n",
    "    X_data.loc[i:i+257, 'x_2'] = x_2_value\n",
    "    X_data.loc[i:i+257, 'y_2'] = y_2_value\n",
    "    X_data.loc[i:i+257, 'x_3'] = x_3_value\n",
    "    X_data.loc[i:i+257, 'y_3'] = y_3_value\n",
    "    X_data.loc[i:i+257, 'v_x_1'] = 0\n",
    "    X_data.loc[i:i+257, 'v_y_1'] = 0\n",
    "    X_data.loc[i:i+257, 'v_x_2'] = 0\n",
    "    X_data.loc[i:i+257, 'v_y_2'] = 0\n",
    "    X_data.loc[i:i+257, 'v_x_3'] = 0\n",
    "    X_data.loc[i:i+257, 'v_y_3'] = 0\n"
   ]
  },
  {
   "cell_type": "code",
   "execution_count": 18,
   "metadata": {
    "ExecuteTime": {
     "end_time": "2024-10-18T11:33:30.172619Z",
     "start_time": "2024-10-18T11:33:30.150983Z"
    }
   },
   "outputs": [
    {
     "data": {
      "text/html": [
       "<div>\n",
       "<style scoped>\n",
       "    .dataframe tbody tr th:only-of-type {\n",
       "        vertical-align: middle;\n",
       "    }\n",
       "\n",
       "    .dataframe tbody tr th {\n",
       "        vertical-align: top;\n",
       "    }\n",
       "\n",
       "    .dataframe thead th {\n",
       "        text-align: right;\n",
       "    }\n",
       "</style>\n",
       "<table border=\"1\" class=\"dataframe\">\n",
       "  <thead>\n",
       "    <tr style=\"text-align: right;\">\n",
       "      <th></th>\n",
       "      <th>t</th>\n",
       "      <th>x_1</th>\n",
       "      <th>y_1</th>\n",
       "      <th>v_x_1</th>\n",
       "      <th>v_y_1</th>\n",
       "      <th>x_2</th>\n",
       "      <th>y_2</th>\n",
       "      <th>v_x_2</th>\n",
       "      <th>v_y_2</th>\n",
       "      <th>x_3</th>\n",
       "      <th>y_3</th>\n",
       "      <th>v_x_3</th>\n",
       "      <th>v_y_3</th>\n",
       "    </tr>\n",
       "  </thead>\n",
       "  <tbody>\n",
       "    <tr>\n",
       "      <th>0</th>\n",
       "      <td>0.000000</td>\n",
       "      <td>1.0</td>\n",
       "      <td>0.0</td>\n",
       "      <td>0.0</td>\n",
       "      <td>0.0</td>\n",
       "      <td>-0.266467</td>\n",
       "      <td>0.859196</td>\n",
       "      <td>0.0</td>\n",
       "      <td>0.0</td>\n",
       "      <td>-0.733533</td>\n",
       "      <td>-0.859196</td>\n",
       "      <td>0.0</td>\n",
       "      <td>0.0</td>\n",
       "    </tr>\n",
       "    <tr>\n",
       "      <th>1</th>\n",
       "      <td>0.039062</td>\n",
       "      <td>1.0</td>\n",
       "      <td>0.0</td>\n",
       "      <td>0.0</td>\n",
       "      <td>0.0</td>\n",
       "      <td>-0.266467</td>\n",
       "      <td>0.859196</td>\n",
       "      <td>0.0</td>\n",
       "      <td>0.0</td>\n",
       "      <td>-0.733533</td>\n",
       "      <td>-0.859196</td>\n",
       "      <td>0.0</td>\n",
       "      <td>0.0</td>\n",
       "    </tr>\n",
       "    <tr>\n",
       "      <th>2</th>\n",
       "      <td>0.078125</td>\n",
       "      <td>1.0</td>\n",
       "      <td>0.0</td>\n",
       "      <td>0.0</td>\n",
       "      <td>0.0</td>\n",
       "      <td>-0.266467</td>\n",
       "      <td>0.859196</td>\n",
       "      <td>0.0</td>\n",
       "      <td>0.0</td>\n",
       "      <td>-0.733533</td>\n",
       "      <td>-0.859196</td>\n",
       "      <td>0.0</td>\n",
       "      <td>0.0</td>\n",
       "    </tr>\n",
       "    <tr>\n",
       "      <th>3</th>\n",
       "      <td>0.117188</td>\n",
       "      <td>1.0</td>\n",
       "      <td>0.0</td>\n",
       "      <td>0.0</td>\n",
       "      <td>0.0</td>\n",
       "      <td>-0.266467</td>\n",
       "      <td>0.859196</td>\n",
       "      <td>0.0</td>\n",
       "      <td>0.0</td>\n",
       "      <td>-0.733533</td>\n",
       "      <td>-0.859196</td>\n",
       "      <td>0.0</td>\n",
       "      <td>0.0</td>\n",
       "    </tr>\n",
       "    <tr>\n",
       "      <th>4</th>\n",
       "      <td>0.156250</td>\n",
       "      <td>1.0</td>\n",
       "      <td>0.0</td>\n",
       "      <td>0.0</td>\n",
       "      <td>0.0</td>\n",
       "      <td>-0.266467</td>\n",
       "      <td>0.859196</td>\n",
       "      <td>0.0</td>\n",
       "      <td>0.0</td>\n",
       "      <td>-0.733533</td>\n",
       "      <td>-0.859196</td>\n",
       "      <td>0.0</td>\n",
       "      <td>0.0</td>\n",
       "    </tr>\n",
       "  </tbody>\n",
       "</table>\n",
       "</div>"
      ],
      "text/plain": [
       "          t  x_1  y_1  v_x_1  v_y_1       x_2       y_2  v_x_2  v_y_2  \\\n",
       "0  0.000000  1.0  0.0    0.0    0.0 -0.266467  0.859196    0.0    0.0   \n",
       "1  0.039062  1.0  0.0    0.0    0.0 -0.266467  0.859196    0.0    0.0   \n",
       "2  0.078125  1.0  0.0    0.0    0.0 -0.266467  0.859196    0.0    0.0   \n",
       "3  0.117188  1.0  0.0    0.0    0.0 -0.266467  0.859196    0.0    0.0   \n",
       "4  0.156250  1.0  0.0    0.0    0.0 -0.266467  0.859196    0.0    0.0   \n",
       "\n",
       "        x_3       y_3  v_x_3  v_y_3  \n",
       "0 -0.733533 -0.859196    0.0    0.0  \n",
       "1 -0.733533 -0.859196    0.0    0.0  \n",
       "2 -0.733533 -0.859196    0.0    0.0  \n",
       "3 -0.733533 -0.859196    0.0    0.0  \n",
       "4 -0.733533 -0.859196    0.0    0.0  "
      ]
     },
     "execution_count": 18,
     "metadata": {},
     "output_type": "execute_result"
    }
   ],
   "source": [
    "X_data.head()"
   ]
  },
  {
   "cell_type": "code",
   "execution_count": 19,
   "metadata": {
    "ExecuteTime": {
     "end_time": "2024-10-18T11:33:30.406833Z",
     "start_time": "2024-10-18T11:33:30.309659Z"
    }
   },
   "outputs": [],
   "source": [
    "# copy the X_train data to obtain y_data dataframe which are the positions \n",
    "# and velocities of all three objects at a certain time t\n",
    "y_data = data_cleaned.copy()"
   ]
  },
  {
   "cell_type": "code",
   "execution_count": 20,
   "metadata": {
    "ExecuteTime": {
     "end_time": "2024-10-18T11:33:34.542491Z",
     "start_time": "2024-10-18T11:33:30.456809Z"
    }
   },
   "outputs": [],
   "source": [
    "# add a trajectory_id flag such that the data can be split into trajectories (function is defined above)\n",
    "X_data_traj = transform_to_trajectories_dataframe(X_data, idx)\n",
    "y_data_traj = transform_to_trajectories_dataframe(y_data, idx)\n"
   ]
  },
  {
   "cell_type": "code",
   "execution_count": 21,
   "metadata": {
    "ExecuteTime": {
     "end_time": "2024-10-18T11:33:34.851129Z",
     "start_time": "2024-10-18T11:33:34.552296Z"
    }
   },
   "outputs": [
    {
     "name": "stdout",
     "output_type": "stream",
     "text": [
      "Found 1 duplicated first samples with indices Index([3297], dtype='int64').\n",
      "Found 1 duplicated first samples with indices Index([3297], dtype='int64').\n"
     ]
    }
   ],
   "source": [
    "# remove trajectories with duplicated initial positions (function is defined above)\n",
    "cleaned_X_data = remove_duplicated_trajectories(X_data_traj, trajectory_col='trajectory_id')\n",
    "cleaned_y_data = remove_duplicated_trajectories(y_data_traj, trajectory_col='trajectory_id')"
   ]
  },
  {
   "cell_type": "code",
   "execution_count": 22,
   "metadata": {
    "ExecuteTime": {
     "end_time": "2024-10-18T11:33:35.266069Z",
     "start_time": "2024-10-18T11:33:35.032016Z"
    }
   },
   "outputs": [],
   "source": [
    "# split data into training, validation and test sets with the training size of 80%, validation size of 10% and test size of 10% (function is defined above)\n",
    "X_train, X_val, X_test, y_train, y_val, y_test = train_validate_test_split(cleaned_X_data, cleaned_y_data, validate_size= 0.1, test_size=0.1)"
   ]
  },
  {
   "cell_type": "markdown",
   "metadata": {},
   "source": [
    "Remove the trajectory_id column as it was only necessary for the splitting once with t in training and validation data, once without and once only in training data"
   ]
  },
  {
   "cell_type": "code",
   "execution_count": 23,
   "metadata": {
    "ExecuteTime": {
     "end_time": "2024-10-18T11:33:35.273587Z",
     "start_time": "2024-10-18T11:33:35.271390Z"
    }
   },
   "outputs": [],
   "source": [
    "# # Remove the trajectory_id column as it was only necessary for the splitting\n",
    "\n",
    "# X_train = X_train.drop(columns=['trajectory_id'])\n",
    "# X_val = X_val.drop(columns=['trajectory_id'])\n",
    "# X_test = X_test.drop(columns=['trajectory_id'])\n",
    "# y_train = y_train.drop(columns=['trajectory_id'])\n",
    "# y_val = y_val.drop(columns=['trajectory_id'])\n",
    "# y_test = y_test.drop(columns=['trajectory_id'])"
   ]
  },
  {
   "cell_type": "code",
   "execution_count": 58,
   "metadata": {
    "ExecuteTime": {
     "end_time": "2024-10-18T11:33:35.516783Z",
     "start_time": "2024-10-18T11:33:35.373295Z"
    }
   },
   "outputs": [],
   "source": [
    "# Remove the trajectory_id column for all sets and t for the y_datasets\n",
    "# otherwise (the prediction will overfit) the RSME will be much different from kaggle\n",
    "\n",
    "X_train = X_train.drop(columns=['trajectory_id'])\n",
    "X_val = X_val.drop(columns=['trajectory_id'])\n",
    "X_test = X_test.drop(columns=['trajectory_id'])\n",
    "y_train = y_train.drop(columns=['trajectory_id', 't'])\n",
    "y_val = y_val.drop(columns=['trajectory_id', 't'])\n",
    "y_test = y_test.drop(columns=['trajectory_id', 't'])"
   ]
  },
  {
   "cell_type": "code",
   "execution_count": 59,
   "metadata": {
    "ExecuteTime": {
     "end_time": "2024-10-18T11:33:35.605934Z",
     "start_time": "2024-10-18T11:33:35.603461Z"
    }
   },
   "outputs": [],
   "source": [
    "# X_train = X_train.drop(columns=['trajectory_id', 't'])\n",
    "# X_val = X_val.drop(columns=['trajectory_id', 't'])\n",
    "# X_test = X_test.drop(columns=['trajectory_id', 't'])\n",
    "# y_train = y_train.drop(columns=['trajectory_id', 't'])\n",
    "# y_val = y_val.drop(columns=['trajectory_id', 't'])\n",
    "# y_test = y_test.drop(columns=['trajectory_id', 't'])"
   ]
  },
  {
   "cell_type": "markdown",
   "metadata": {},
   "source": [
    "## 1.2 Learn the baseline model"
   ]
  },
  {
   "cell_type": "code",
   "execution_count": 60,
   "metadata": {
    "ExecuteTime": {
     "end_time": "2024-10-18T11:33:36.913301Z",
     "start_time": "2024-10-18T11:33:35.700265Z"
    }
   },
   "outputs": [
    {
     "name": "stderr",
     "output_type": "stream",
     "text": [
      "/Users/lari/opt/anaconda3/envs/ml/lib/python3.12/site-packages/sklearn/base.py:486: UserWarning: X has feature names, but LinearRegression was fitted without feature names\n",
      "  warnings.warn(\n"
     ]
    },
    {
     "data": {
      "text/plain": [
       "-1016609224605374.9"
      ]
     },
     "execution_count": 60,
     "metadata": {},
     "output_type": "execute_result"
    }
   ],
   "source": [
    "# create pipeline with a standard scaler and a linear regression model\n",
    "pipeline = Pipeline(steps=[\n",
    "    ('scaler', StandardScaler()), \n",
    "    ('regressor', LinearRegression())  \n",
    "])\n",
    "\n",
    "\n",
    "pipeline.fit(X_train, y_train)\n",
    "pipeline['regressor'].score(X_train, y_train)\n",
    "#pipeline['regressor'].coef_\n",
    "#pipeline['regressor'].intercept_"
   ]
  },
  {
   "cell_type": "code",
   "execution_count": 61,
   "metadata": {
    "ExecuteTime": {
     "end_time": "2024-10-18T11:33:37.050824Z",
     "start_time": "2024-10-18T11:33:37.026283Z"
    }
   },
   "outputs": [],
   "source": [
    "# predict y values for the validation set\n",
    "y_val_pred = pipeline.predict(X_val)"
   ]
  },
  {
   "cell_type": "code",
   "execution_count": 62,
   "metadata": {
    "ExecuteTime": {
     "end_time": "2024-10-18T11:33:37.171691Z",
     "start_time": "2024-10-18T11:33:37.167758Z"
    }
   },
   "outputs": [],
   "source": [
    "# # make a dataframe out of the true and predicted y values for the validation set to compare them\n",
    "# # and calculate the root mean squared error for the predicted values of the validation set \n",
    "# # in comparison to the true values and for that drop the velocities from the dataframe\n",
    "# y_val_pred_df = pd.DataFrame(y_val_pred, columns=X_val.columns)\n",
    "# y_val_pred_df.drop(columns=['t', 'v_x_1', 'v_y_1', 'v_x_2', 'v_y_2', 'v_x_3', 'v_y_3'], inplace=True)\n",
    "# y_val.drop(columns=['t', 'v_x_1', 'v_y_1', 'v_x_2', 'v_y_2', 'v_x_3', 'v_y_3'], inplace=True)\n",
    "# rmse = np.sqrt(mean_squared_error(y_val, y_val_pred_df))\n",
    "# print(f'Root Mean Squared Error: {rmse}')"
   ]
  },
  {
   "cell_type": "code",
   "execution_count": 63,
   "metadata": {
    "ExecuteTime": {
     "end_time": "2024-10-18T11:33:37.431269Z",
     "start_time": "2024-10-18T11:33:37.404161Z"
    }
   },
   "outputs": [
    {
     "name": "stdout",
     "output_type": "stream",
     "text": [
      "Root Mean Squared Error: 1.2171185307162902\n"
     ]
    }
   ],
   "source": [
    "# make a dataframe out of the true and predicted y values for the validation set to compare them\n",
    "# and calculate the root mean squared error for the predicted values of the validation set \n",
    "# in comparison to the true values and for that drop the velocities from the dataframe\n",
    "X_val_without_t = X_val.drop(columns=['t'])\n",
    "y_val_pred_df = pd.DataFrame(y_val_pred, columns=X_val_without_t.columns)\n",
    "y_val_pred_df.drop(columns=['v_x_1', 'v_y_1', 'v_x_2', 'v_y_2', 'v_x_3', 'v_y_3'], inplace=True)\n",
    "y_val.drop(columns=['v_x_1', 'v_y_1', 'v_x_2', 'v_y_2', 'v_x_3', 'v_y_3'], inplace=True)\n",
    "rmse = np.sqrt(mean_squared_error(y_val, y_val_pred_df))\n",
    "print(f'Root Mean Squared Error: {rmse}')"
   ]
  },
  {
   "cell_type": "code",
   "execution_count": 64,
   "metadata": {
    "ExecuteTime": {
     "end_time": "2024-10-18T11:33:37.455701Z",
     "start_time": "2024-10-18T11:33:37.452238Z"
    }
   },
   "outputs": [],
   "source": [
    "# # make a dataframe out of the true and predicted y values for the validation set to compare them\n",
    "# # and calculate the root mean squared error for the predicted values of the validation set \n",
    "# # in comparison to the true values and for that drop the velocities from the dataframe\n",
    "# y_val_pred_df = pd.DataFrame(y_val_pred, columns=X_val.columns)\n",
    "# y_val_pred_df.drop(columns=['v_x_1', 'v_y_1', 'v_x_2', 'v_y_2', 'v_x_3', 'v_y_3'], inplace=True)\n",
    "# y_val.drop(columns=['v_x_1', 'v_y_1', 'v_x_2', 'v_y_2', 'v_x_3', 'v_y_3'], inplace=True)\n",
    "# rmse = np.sqrt(mean_squared_error(y_val, y_val_pred_df))\n",
    "# print(f'Root Mean Squared Error: {rmse}')"
   ]
  },
  {
   "cell_type": "code",
   "execution_count": 65,
   "metadata": {
    "ExecuteTime": {
     "end_time": "2024-10-18T11:33:37.566250Z",
     "start_time": "2024-10-18T11:33:37.561118Z"
    }
   },
   "outputs": [],
   "source": [
    "# function to plot the true values against the predicted values for the validation set\n",
    "\n",
    "def plot_y_yhat(y_val,y_pred, plot_title = \"plot\"):\n",
    "    labels = ['x_1','y_1','x_2','y_2','x_3','y_3']\n",
    "    MAX = 500\n",
    "    if len(y_val) > MAX:\n",
    "        idx = np.random.choice(len(y_val),MAX, replace=False)\n",
    "    else:\n",
    "        idx = np.arange(len(y_val))\n",
    "    \n",
    "    plt.figure(figsize=(10,10))\n",
    "    for i in range(6):\n",
    "        x0 = np.min(y_val[idx,i])\n",
    "        x1 = np.max(y_val[idx,i])\n",
    "        plt.subplot(3, 2, i+1)\n",
    "        plt.scatter(y_val[idx,i],y_pred[idx,i])\n",
    "        plt.xlabel('True '+labels[i])\n",
    "        plt.ylabel('Predicted '+labels[i])\n",
    "        plt.plot([x0,x1],[x0,x1],color='red')\n",
    "        plt.axis('square')\n",
    "    #plt.savefig(plot_title+'.pdf')\n",
    "    plt.show()"
   ]
  },
  {
   "cell_type": "code",
   "execution_count": 66,
   "metadata": {
    "ExecuteTime": {
     "end_time": "2024-10-18T11:33:38.201080Z",
     "start_time": "2024-10-18T11:33:37.670597Z"
    }
   },
   "outputs": [
    {
     "data": {
      "image/png": "[encoded data removed]",
      "text/plain": [
       "<Figure size 1000x1000 with 6 Axes>"
      ]
     },
     "metadata": {},
     "output_type": "display_data"
    }
   ],
   "source": [
    "# make a numpy array out of y_val and plot it against the predicted values with the function above\n",
    "y_val_np = y_val.to_numpy()\n",
    "y_pred_np = y_val_pred_df.to_numpy()\n",
    "plot_y_yhat(y_val_np,y_val_pred)"
   ]
  },
  {
   "cell_type": "code",
   "execution_count": 67,
   "metadata": {
    "ExecuteTime": {
     "end_time": "2024-10-18T11:33:57.085599Z",
     "start_time": "2024-10-18T11:33:38.310438Z"
    }
   },
   "outputs": [],
   "source": [
    "# bring the data that we should apply the model on in the right format\n",
    "# and predict the y values with our model\n",
    "data2 = pd.read_csv('../mlNOVA/X_test.csv')\n",
    "\n",
    "data2['x_1'] = data2['x0_1']\n",
    "data2['y_1'] = data2['y0_1']\n",
    "data2['v_x_1'] = 0\n",
    "data2['v_y_1'] = 0\n",
    "data2['x_2'] = data2['x0_2']\n",
    "data2['y_2'] = data2['y0_2']\n",
    "data2['v_x_2'] = 0\n",
    "data2['v_y_2'] = 0\n",
    "data2['x_3'] = data2['x0_3']\n",
    "data2['y_3'] = data2['y0_3']\n",
    "data2['v_x_3'] = 0\n",
    "data2['v_y_3'] = 0\n",
    "\n",
    "data2 = data2.drop(columns=['Id', 'x0_1', 'y0_1', 'x0_2', 'y0_2', 'x0_3', 'y0_3'])\n",
    "\n",
    "\n",
    "y_data2 = pipeline.predict(data2)\n",
    "\n",
    "# save y values for the data we should test the model on in the right format for kaggle\n",
    "y_data2 = pd.DataFrame(y_data2, columns=X_val_without_t.columns)\n",
    "y_data2['id'] = y_data2.index\n",
    "\n",
    "columns_titles = ['id', 't', 'x_1', 'y_1', 'v_x_1', 'v_y_1', 'x_2', 'y_2', 'v_x_2', 'v_y_2',\n",
    "       'x_3', 'y_3', 'v_x_3', 'v_y_3'] \n",
    "y_data2=y_data2.reindex(columns=columns_titles)\n",
    "y_data2.drop(columns=['t', 'v_x_1', 'v_y_1', 'v_x_2', 'v_y_2', 'v_x_3', 'v_y_3'], inplace=True)\n",
    "y_data2.to_csv('sample_submission.csv',index=False)"
   ]
  },
  {
   "cell_type": "code",
   "execution_count": 68,
   "metadata": {
    "ExecuteTime": {
     "end_time": "2024-10-18T11:33:57.221157Z",
     "start_time": "2024-10-18T11:33:57.215670Z"
    }
   },
   "outputs": [],
   "source": [
    "# # bring the data that we should apply the model on in the right format\n",
    "# # and predict the y values with our model\n",
    "# data2 = pd.read_csv('../mlNOVA/X_test.csv')\n",
    "\n",
    "# data2['x_1'] = data2['x0_1']\n",
    "# data2['y_1'] = data2['y0_1']\n",
    "# data2['v_x_1'] = 0\n",
    "# data2['v_y_1'] = 0\n",
    "# data2['x_2'] = data2['x0_2']\n",
    "# data2['y_2'] = data2['y0_2']\n",
    "# data2['v_x_2'] = 0\n",
    "# data2['v_y_2'] = 0\n",
    "# data2['x_3'] = data2['x0_3']\n",
    "# data2['y_3'] = data2['y0_3']\n",
    "# data2['v_x_3'] = 0\n",
    "# data2['v_y_3'] = 0\n",
    "\n",
    "# data2 = data2.drop(columns=['Id', 't', 'x0_1', 'y0_1', 'x0_2', 'y0_2', 'x0_3', 'y0_3'])\n",
    "\n",
    "\n",
    "# y_data2 = pipeline.predict(data2)\n",
    "\n",
    "# # save y values for the data we should test the model on in the right format for kaggle\n",
    "# y_data2 = pd.DataFrame(y_data2, columns=X_val.columns)\n",
    "# y_data2['id'] = y_data2.index\n",
    "\n",
    "# columns_titles = ['id', 'x_1', 'y_1', 'v_x_1', 'v_y_1', 'x_2', 'y_2', 'v_x_2', 'v_y_2',\n",
    "#        'x_3', 'y_3', 'v_x_3', 'v_y_3'] \n",
    "# y_data2=y_data2.reindex(columns=columns_titles)\n",
    "# y_data2.drop(columns=['v_x_1', 'v_y_1', 'v_x_2', 'v_y_2', 'v_x_3', 'v_y_3'], inplace=True)\n",
    "# y_data2.to_csv('sample_submission.csv',index=False)"
   ]
  },
  {
   "cell_type": "markdown",
   "metadata": {},
   "source": [
    "# Task 2: Nonlinear models on the data - the Polynomial Regression Model"
   ]
  },
  {
   "cell_type": "markdown",
   "metadata": {},
   "source": [
    "## Task 2.1 Development"
   ]
  },
  {
   "cell_type": "code",
   "execution_count": 69,
   "metadata": {
    "ExecuteTime": {
     "end_time": "2024-10-18T11:33:57.785330Z",
     "start_time": "2024-10-18T11:33:57.380587Z"
    }
   },
   "outputs": [],
   "source": [
    "# split the data again into training, validation and test sets with the training size of 80%, validation size of 10% and test size of 10%\n",
    "X_train, X_val, X_test, y_train, y_val, y_test = train_validate_test_split(cleaned_X_data, cleaned_y_data, validate_size= 0.1, test_size=0.1)"
   ]
  },
  {
   "cell_type": "code",
   "execution_count": 70,
   "metadata": {
    "ExecuteTime": {
     "end_time": "2024-10-18T11:33:58.184737Z",
     "start_time": "2024-10-18T11:33:58.158312Z"
    }
   },
   "outputs": [
    {
     "data": {
      "text/html": [
       "<div>\n",
       "<style scoped>\n",
       "    .dataframe tbody tr th:only-of-type {\n",
       "        vertical-align: middle;\n",
       "    }\n",
       "\n",
       "    .dataframe tbody tr th {\n",
       "        vertical-align: top;\n",
       "    }\n",
       "\n",
       "    .dataframe thead th {\n",
       "        text-align: right;\n",
       "    }\n",
       "</style>\n",
       "<table border=\"1\" class=\"dataframe\">\n",
       "  <thead>\n",
       "    <tr style=\"text-align: right;\">\n",
       "      <th></th>\n",
       "      <th>t</th>\n",
       "      <th>x_1</th>\n",
       "      <th>y_1</th>\n",
       "      <th>v_x_1</th>\n",
       "      <th>v_y_1</th>\n",
       "      <th>x_2</th>\n",
       "      <th>y_2</th>\n",
       "      <th>v_x_2</th>\n",
       "      <th>v_y_2</th>\n",
       "      <th>x_3</th>\n",
       "      <th>y_3</th>\n",
       "      <th>v_x_3</th>\n",
       "      <th>v_y_3</th>\n",
       "      <th>trajectory_id</th>\n",
       "    </tr>\n",
       "  </thead>\n",
       "  <tbody>\n",
       "    <tr>\n",
       "      <th>2570</th>\n",
       "      <td>0.000000</td>\n",
       "      <td>1.000000</td>\n",
       "      <td>0.000000</td>\n",
       "      <td>0.000000</td>\n",
       "      <td>0.000000</td>\n",
       "      <td>-0.278797</td>\n",
       "      <td>0.495081</td>\n",
       "      <td>0.000000</td>\n",
       "      <td>0.000000</td>\n",
       "      <td>-0.721203</td>\n",
       "      <td>-0.495081</td>\n",
       "      <td>0.000000</td>\n",
       "      <td>0.000000</td>\n",
       "      <td>8</td>\n",
       "    </tr>\n",
       "    <tr>\n",
       "      <th>2571</th>\n",
       "      <td>0.039062</td>\n",
       "      <td>0.999393</td>\n",
       "      <td>0.000081</td>\n",
       "      <td>-0.031091</td>\n",
       "      <td>0.004134</td>\n",
       "      <td>-0.278683</td>\n",
       "      <td>0.494342</td>\n",
       "      <td>0.005820</td>\n",
       "      <td>-0.037850</td>\n",
       "      <td>-0.720710</td>\n",
       "      <td>-0.494423</td>\n",
       "      <td>0.025271</td>\n",
       "      <td>0.033716</td>\n",
       "      <td>8</td>\n",
       "    </tr>\n",
       "    <tr>\n",
       "      <th>2572</th>\n",
       "      <td>0.078125</td>\n",
       "      <td>0.997570</td>\n",
       "      <td>0.000323</td>\n",
       "      <td>-0.062275</td>\n",
       "      <td>0.008268</td>\n",
       "      <td>-0.278342</td>\n",
       "      <td>0.492122</td>\n",
       "      <td>0.011615</td>\n",
       "      <td>-0.075862</td>\n",
       "      <td>-0.719228</td>\n",
       "      <td>-0.492445</td>\n",
       "      <td>0.050660</td>\n",
       "      <td>0.067594</td>\n",
       "      <td>8</td>\n",
       "    </tr>\n",
       "    <tr>\n",
       "      <th>2573</th>\n",
       "      <td>0.117188</td>\n",
       "      <td>0.994525</td>\n",
       "      <td>0.000727</td>\n",
       "      <td>-0.093648</td>\n",
       "      <td>0.012405</td>\n",
       "      <td>-0.277776</td>\n",
       "      <td>0.488411</td>\n",
       "      <td>0.017361</td>\n",
       "      <td>-0.114203</td>\n",
       "      <td>-0.716749</td>\n",
       "      <td>-0.489138</td>\n",
       "      <td>0.076287</td>\n",
       "      <td>0.101798</td>\n",
       "      <td>8</td>\n",
       "    </tr>\n",
       "    <tr>\n",
       "      <th>2574</th>\n",
       "      <td>0.156250</td>\n",
       "      <td>0.990250</td>\n",
       "      <td>0.001292</td>\n",
       "      <td>-0.125306</td>\n",
       "      <td>0.016544</td>\n",
       "      <td>-0.276987</td>\n",
       "      <td>0.483193</td>\n",
       "      <td>0.023026</td>\n",
       "      <td>-0.153048</td>\n",
       "      <td>-0.713263</td>\n",
       "      <td>-0.484485</td>\n",
       "      <td>0.102280</td>\n",
       "      <td>0.136505</td>\n",
       "      <td>8</td>\n",
       "    </tr>\n",
       "    <tr>\n",
       "      <th>...</th>\n",
       "      <td>...</td>\n",
       "      <td>...</td>\n",
       "      <td>...</td>\n",
       "      <td>...</td>\n",
       "      <td>...</td>\n",
       "      <td>...</td>\n",
       "      <td>...</td>\n",
       "      <td>...</td>\n",
       "      <td>...</td>\n",
       "      <td>...</td>\n",
       "      <td>...</td>\n",
       "      <td>...</td>\n",
       "      <td>...</td>\n",
       "      <td>...</td>\n",
       "    </tr>\n",
       "    <tr>\n",
       "      <th>1284738</th>\n",
       "      <td>9.843750</td>\n",
       "      <td>-0.408051</td>\n",
       "      <td>-0.012284</td>\n",
       "      <td>1.189426</td>\n",
       "      <td>-0.815697</td>\n",
       "      <td>-0.424418</td>\n",
       "      <td>-0.404970</td>\n",
       "      <td>-0.307460</td>\n",
       "      <td>1.010425</td>\n",
       "      <td>0.832469</td>\n",
       "      <td>0.417254</td>\n",
       "      <td>-0.881966</td>\n",
       "      <td>-0.194728</td>\n",
       "      <td>4051</td>\n",
       "    </tr>\n",
       "    <tr>\n",
       "      <th>1284739</th>\n",
       "      <td>9.882810</td>\n",
       "      <td>-0.361738</td>\n",
       "      <td>-0.049591</td>\n",
       "      <td>1.169348</td>\n",
       "      <td>-1.114156</td>\n",
       "      <td>-0.435557</td>\n",
       "      <td>-0.359714</td>\n",
       "      <td>-0.249920</td>\n",
       "      <td>1.326808</td>\n",
       "      <td>0.797296</td>\n",
       "      <td>0.409304</td>\n",
       "      <td>-0.919429</td>\n",
       "      <td>-0.212652</td>\n",
       "      <td>4051</td>\n",
       "    </tr>\n",
       "    <tr>\n",
       "      <th>1284740</th>\n",
       "      <td>9.921880</td>\n",
       "      <td>-0.318596</td>\n",
       "      <td>-0.101519</td>\n",
       "      <td>0.993035</td>\n",
       "      <td>-1.583569</td>\n",
       "      <td>-0.441999</td>\n",
       "      <td>-0.299089</td>\n",
       "      <td>-0.032856</td>\n",
       "      <td>1.816586</td>\n",
       "      <td>0.760596</td>\n",
       "      <td>0.400609</td>\n",
       "      <td>-0.960179</td>\n",
       "      <td>-0.233017</td>\n",
       "      <td>4051</td>\n",
       "    </tr>\n",
       "    <tr>\n",
       "      <th>1284741</th>\n",
       "      <td>9.960940</td>\n",
       "      <td>-0.292853</td>\n",
       "      <td>-0.176693</td>\n",
       "      <td>0.083473</td>\n",
       "      <td>-2.268009</td>\n",
       "      <td>-0.429385</td>\n",
       "      <td>-0.214368</td>\n",
       "      <td>0.920770</td>\n",
       "      <td>2.524340</td>\n",
       "      <td>0.722238</td>\n",
       "      <td>0.391061</td>\n",
       "      <td>-1.004243</td>\n",
       "      <td>-0.256331</td>\n",
       "      <td>4051</td>\n",
       "    </tr>\n",
       "    <tr>\n",
       "      <th>1284742</th>\n",
       "      <td>10.000000</td>\n",
       "      <td>-0.334211</td>\n",
       "      <td>-0.251147</td>\n",
       "      <td>-1.915656</td>\n",
       "      <td>-0.884303</td>\n",
       "      <td>-0.347886</td>\n",
       "      <td>-0.129399</td>\n",
       "      <td>2.967301</td>\n",
       "      <td>1.166792</td>\n",
       "      <td>0.682097</td>\n",
       "      <td>0.380546</td>\n",
       "      <td>-1.051645</td>\n",
       "      <td>-0.282489</td>\n",
       "      <td>4051</td>\n",
       "    </tr>\n",
       "  </tbody>\n",
       "</table>\n",
       "<p>126444 rows × 14 columns</p>\n",
       "</div>"
      ],
      "text/plain": [
       "                 t       x_1       y_1     v_x_1     v_y_1       x_2  \\\n",
       "2570      0.000000  1.000000  0.000000  0.000000  0.000000 -0.278797   \n",
       "2571      0.039062  0.999393  0.000081 -0.031091  0.004134 -0.278683   \n",
       "2572      0.078125  0.997570  0.000323 -0.062275  0.008268 -0.278342   \n",
       "2573      0.117188  0.994525  0.000727 -0.093648  0.012405 -0.277776   \n",
       "2574      0.156250  0.990250  0.001292 -0.125306  0.016544 -0.276987   \n",
       "...            ...       ...       ...       ...       ...       ...   \n",
       "1284738   9.843750 -0.408051 -0.012284  1.189426 -0.815697 -0.424418   \n",
       "1284739   9.882810 -0.361738 -0.049591  1.169348 -1.114156 -0.435557   \n",
       "1284740   9.921880 -0.318596 -0.101519  0.993035 -1.583569 -0.441999   \n",
       "1284741   9.960940 -0.292853 -0.176693  0.083473 -2.268009 -0.429385   \n",
       "1284742  10.000000 -0.334211 -0.251147 -1.915656 -0.884303 -0.347886   \n",
       "\n",
       "              y_2     v_x_2     v_y_2       x_3       y_3     v_x_3     v_y_3  \\\n",
       "2570     0.495081  0.000000  0.000000 -0.721203 -0.495081  0.000000  0.000000   \n",
       "2571     0.494342  0.005820 -0.037850 -0.720710 -0.494423  0.025271  0.033716   \n",
       "2572     0.492122  0.011615 -0.075862 -0.719228 -0.492445  0.050660  0.067594   \n",
       "2573     0.488411  0.017361 -0.114203 -0.716749 -0.489138  0.076287  0.101798   \n",
       "2574     0.483193  0.023026 -0.153048 -0.713263 -0.484485  0.102280  0.136505   \n",
       "...           ...       ...       ...       ...       ...       ...       ...   \n",
       "1284738 -0.404970 -0.307460  1.010425  0.832469  0.417254 -0.881966 -0.194728   \n",
       "1284739 -0.359714 -0.249920  1.326808  0.797296  0.409304 -0.919429 -0.212652   \n",
       "1284740 -0.299089 -0.032856  1.816586  0.760596  0.400609 -0.960179 -0.233017   \n",
       "1284741 -0.214368  0.920770  2.524340  0.722238  0.391061 -1.004243 -0.256331   \n",
       "1284742 -0.129399  2.967301  1.166792  0.682097  0.380546 -1.051645 -0.282489   \n",
       "\n",
       "         trajectory_id  \n",
       "2570                 8  \n",
       "2571                 8  \n",
       "2572                 8  \n",
       "2573                 8  \n",
       "2574                 8  \n",
       "...                ...  \n",
       "1284738           4051  \n",
       "1284739           4051  \n",
       "1284740           4051  \n",
       "1284741           4051  \n",
       "1284742           4051  \n",
       "\n",
       "[126444 rows x 14 columns]"
      ]
     },
     "execution_count": 70,
     "metadata": {},
     "output_type": "execute_result"
    }
   ],
   "source": [
    "y_val"
   ]
  },
  {
   "cell_type": "code",
   "execution_count": 71,
   "metadata": {
    "ExecuteTime": {
     "end_time": "2024-10-18T11:33:58.347520Z",
     "start_time": "2024-10-18T11:33:58.255515Z"
    }
   },
   "outputs": [],
   "source": [
    "# sample 1% of the sets\n",
    "\n",
    "def sample_trajectories(X, y, trajectory_col='trajectory_id', sample_fraction=0.01, random_state=42):\n",
    "\n",
    "    unique_trajectories = X[trajectory_col].unique()\n",
    "  \n",
    "    sampled_trajectories = resample(unique_trajectories, n_samples=int(sample_fraction * len(unique_trajectories)), random_state=random_state)\n",
    "    \n",
    "    X_sampled = X[X[trajectory_col].isin(sampled_trajectories)]\n",
    "    y_sampled = y[X[trajectory_col].isin(sampled_trajectories)]\n",
    "    \n",
    "    return X_sampled, y_sampled\n",
    "\n",
    "X_train_sampled, y_train_sampled = sample_trajectories(X_train, y_train, sample_fraction=0.01)\n",
    "X_val_sampled, y_val_sampled = sample_trajectories(X_val, y_val, sample_fraction=0.01)\n",
    "X_test_sampled, y_test_sampled = sample_trajectories(X_test, y_test, sample_fraction=0.01)"
   ]
  },
  {
   "cell_type": "code",
   "execution_count": 72,
   "metadata": {
    "ExecuteTime": {
     "end_time": "2024-10-18T11:33:58.441166Z",
     "start_time": "2024-10-18T11:33:58.417009Z"
    }
   },
   "outputs": [
    {
     "data": {
      "text/html": [
       "<div>\n",
       "<style scoped>\n",
       "    .dataframe tbody tr th:only-of-type {\n",
       "        vertical-align: middle;\n",
       "    }\n",
       "\n",
       "    .dataframe tbody tr th {\n",
       "        vertical-align: top;\n",
       "    }\n",
       "\n",
       "    .dataframe thead th {\n",
       "        text-align: right;\n",
       "    }\n",
       "</style>\n",
       "<table border=\"1\" class=\"dataframe\">\n",
       "  <thead>\n",
       "    <tr style=\"text-align: right;\">\n",
       "      <th></th>\n",
       "      <th>t</th>\n",
       "      <th>x_1</th>\n",
       "      <th>y_1</th>\n",
       "      <th>v_x_1</th>\n",
       "      <th>v_y_1</th>\n",
       "      <th>x_2</th>\n",
       "      <th>y_2</th>\n",
       "      <th>v_x_2</th>\n",
       "      <th>v_y_2</th>\n",
       "      <th>x_3</th>\n",
       "      <th>y_3</th>\n",
       "      <th>v_x_3</th>\n",
       "      <th>v_y_3</th>\n",
       "      <th>trajectory_id</th>\n",
       "    </tr>\n",
       "  </thead>\n",
       "  <tbody>\n",
       "    <tr>\n",
       "      <th>303774</th>\n",
       "      <td>0.000000</td>\n",
       "      <td>1.000000</td>\n",
       "      <td>0.000000</td>\n",
       "      <td>0.000000</td>\n",
       "      <td>0.000000</td>\n",
       "      <td>-0.431960</td>\n",
       "      <td>0.033431</td>\n",
       "      <td>0.00000</td>\n",
       "      <td>0.000000</td>\n",
       "      <td>-0.568040</td>\n",
       "      <td>-0.033431</td>\n",
       "      <td>0.000000</td>\n",
       "      <td>0.000000</td>\n",
       "      <td>962</td>\n",
       "    </tr>\n",
       "    <tr>\n",
       "      <th>303775</th>\n",
       "      <td>0.039062</td>\n",
       "      <td>0.999319</td>\n",
       "      <td>0.000002</td>\n",
       "      <td>-0.034875</td>\n",
       "      <td>0.000077</td>\n",
       "      <td>-0.468287</td>\n",
       "      <td>0.015396</td>\n",
       "      <td>-2.47452</td>\n",
       "      <td>-1.224854</td>\n",
       "      <td>-0.531032</td>\n",
       "      <td>-0.015398</td>\n",
       "      <td>2.509394</td>\n",
       "      <td>1.224777</td>\n",
       "      <td>962</td>\n",
       "    </tr>\n",
       "    <tr>\n",
       "      <th>303776</th>\n",
       "      <td>0.000000</td>\n",
       "      <td>0.000000</td>\n",
       "      <td>0.000000</td>\n",
       "      <td>0.000000</td>\n",
       "      <td>0.000000</td>\n",
       "      <td>0.000000</td>\n",
       "      <td>0.000000</td>\n",
       "      <td>0.00000</td>\n",
       "      <td>0.000000</td>\n",
       "      <td>0.000000</td>\n",
       "      <td>0.000000</td>\n",
       "      <td>0.000000</td>\n",
       "      <td>0.000000</td>\n",
       "      <td>962</td>\n",
       "    </tr>\n",
       "    <tr>\n",
       "      <th>303777</th>\n",
       "      <td>0.000000</td>\n",
       "      <td>0.000000</td>\n",
       "      <td>0.000000</td>\n",
       "      <td>0.000000</td>\n",
       "      <td>0.000000</td>\n",
       "      <td>0.000000</td>\n",
       "      <td>0.000000</td>\n",
       "      <td>0.00000</td>\n",
       "      <td>0.000000</td>\n",
       "      <td>0.000000</td>\n",
       "      <td>0.000000</td>\n",
       "      <td>0.000000</td>\n",
       "      <td>0.000000</td>\n",
       "      <td>962</td>\n",
       "    </tr>\n",
       "    <tr>\n",
       "      <th>303778</th>\n",
       "      <td>0.000000</td>\n",
       "      <td>0.000000</td>\n",
       "      <td>0.000000</td>\n",
       "      <td>0.000000</td>\n",
       "      <td>0.000000</td>\n",
       "      <td>0.000000</td>\n",
       "      <td>0.000000</td>\n",
       "      <td>0.00000</td>\n",
       "      <td>0.000000</td>\n",
       "      <td>0.000000</td>\n",
       "      <td>0.000000</td>\n",
       "      <td>0.000000</td>\n",
       "      <td>0.000000</td>\n",
       "      <td>962</td>\n",
       "    </tr>\n",
       "  </tbody>\n",
       "</table>\n",
       "</div>"
      ],
      "text/plain": [
       "               t       x_1       y_1     v_x_1     v_y_1       x_2       y_2  \\\n",
       "303774  0.000000  1.000000  0.000000  0.000000  0.000000 -0.431960  0.033431   \n",
       "303775  0.039062  0.999319  0.000002 -0.034875  0.000077 -0.468287  0.015396   \n",
       "303776  0.000000  0.000000  0.000000  0.000000  0.000000  0.000000  0.000000   \n",
       "303777  0.000000  0.000000  0.000000  0.000000  0.000000  0.000000  0.000000   \n",
       "303778  0.000000  0.000000  0.000000  0.000000  0.000000  0.000000  0.000000   \n",
       "\n",
       "          v_x_2     v_y_2       x_3       y_3     v_x_3     v_y_3  \\\n",
       "303774  0.00000  0.000000 -0.568040 -0.033431  0.000000  0.000000   \n",
       "303775 -2.47452 -1.224854 -0.531032 -0.015398  2.509394  1.224777   \n",
       "303776  0.00000  0.000000  0.000000  0.000000  0.000000  0.000000   \n",
       "303777  0.00000  0.000000  0.000000  0.000000  0.000000  0.000000   \n",
       "303778  0.00000  0.000000  0.000000  0.000000  0.000000  0.000000   \n",
       "\n",
       "        trajectory_id  \n",
       "303774            962  \n",
       "303775            962  \n",
       "303776            962  \n",
       "303777            962  \n",
       "303778            962  "
      ]
     },
     "execution_count": 72,
     "metadata": {},
     "output_type": "execute_result"
    }
   ],
   "source": [
    "y_val_sampled.head()"
   ]
  },
  {
   "cell_type": "code",
   "execution_count": 73,
   "metadata": {
    "ExecuteTime": {
     "end_time": "2024-10-18T11:33:58.579829Z",
     "start_time": "2024-10-18T11:33:58.567818Z"
    }
   },
   "outputs": [],
   "source": [
    "# # Remove the trajectory_id column for all sets and t for the y_datasets\n",
    "# otherwise (the prediction will overfit) the RSME will be much different from kaggle\n",
    "X_train_sampled = X_train_sampled.drop(columns=['trajectory_id'])\n",
    "X_val_sampled = X_val_sampled.drop(columns=['trajectory_id'])\n",
    "X_test_sampled = X_test_sampled.drop(columns=['trajectory_id'])\n",
    "y_train_sampled = y_train_sampled.drop(columns=['trajectory_id', 't'])\n",
    "y_val_sampled = y_val_sampled.drop(columns=['trajectory_id', 't'])\n",
    "y_test_sampled = y_test_sampled.drop(columns=['trajectory_id', 't'])"
   ]
  },
  {
   "cell_type": "code",
   "execution_count": 74,
   "metadata": {
    "ExecuteTime": {
     "end_time": "2024-10-18T11:33:58.698452Z",
     "start_time": "2024-10-18T11:33:58.673258Z"
    }
   },
   "outputs": [
    {
     "data": {
      "text/html": [
       "<div>\n",
       "<style scoped>\n",
       "    .dataframe tbody tr th:only-of-type {\n",
       "        vertical-align: middle;\n",
       "    }\n",
       "\n",
       "    .dataframe tbody tr th {\n",
       "        vertical-align: top;\n",
       "    }\n",
       "\n",
       "    .dataframe thead th {\n",
       "        text-align: right;\n",
       "    }\n",
       "</style>\n",
       "<table border=\"1\" class=\"dataframe\">\n",
       "  <thead>\n",
       "    <tr style=\"text-align: right;\">\n",
       "      <th></th>\n",
       "      <th>x_1</th>\n",
       "      <th>y_1</th>\n",
       "      <th>v_x_1</th>\n",
       "      <th>v_y_1</th>\n",
       "      <th>x_2</th>\n",
       "      <th>y_2</th>\n",
       "      <th>v_x_2</th>\n",
       "      <th>v_y_2</th>\n",
       "      <th>x_3</th>\n",
       "      <th>y_3</th>\n",
       "      <th>v_x_3</th>\n",
       "      <th>v_y_3</th>\n",
       "    </tr>\n",
       "  </thead>\n",
       "  <tbody>\n",
       "    <tr>\n",
       "      <th>303774</th>\n",
       "      <td>1.000000</td>\n",
       "      <td>0.000000</td>\n",
       "      <td>0.000000</td>\n",
       "      <td>0.000000</td>\n",
       "      <td>-0.431960</td>\n",
       "      <td>0.033431</td>\n",
       "      <td>0.000000</td>\n",
       "      <td>0.000000</td>\n",
       "      <td>-0.568040</td>\n",
       "      <td>-0.033431</td>\n",
       "      <td>0.000000</td>\n",
       "      <td>0.000000</td>\n",
       "    </tr>\n",
       "    <tr>\n",
       "      <th>303775</th>\n",
       "      <td>0.999319</td>\n",
       "      <td>0.000002</td>\n",
       "      <td>-0.034875</td>\n",
       "      <td>0.000077</td>\n",
       "      <td>-0.468287</td>\n",
       "      <td>0.015396</td>\n",
       "      <td>-2.474520</td>\n",
       "      <td>-1.224854</td>\n",
       "      <td>-0.531032</td>\n",
       "      <td>-0.015398</td>\n",
       "      <td>2.509394</td>\n",
       "      <td>1.224777</td>\n",
       "    </tr>\n",
       "    <tr>\n",
       "      <th>303776</th>\n",
       "      <td>0.000000</td>\n",
       "      <td>0.000000</td>\n",
       "      <td>0.000000</td>\n",
       "      <td>0.000000</td>\n",
       "      <td>0.000000</td>\n",
       "      <td>0.000000</td>\n",
       "      <td>0.000000</td>\n",
       "      <td>0.000000</td>\n",
       "      <td>0.000000</td>\n",
       "      <td>0.000000</td>\n",
       "      <td>0.000000</td>\n",
       "      <td>0.000000</td>\n",
       "    </tr>\n",
       "    <tr>\n",
       "      <th>303777</th>\n",
       "      <td>0.000000</td>\n",
       "      <td>0.000000</td>\n",
       "      <td>0.000000</td>\n",
       "      <td>0.000000</td>\n",
       "      <td>0.000000</td>\n",
       "      <td>0.000000</td>\n",
       "      <td>0.000000</td>\n",
       "      <td>0.000000</td>\n",
       "      <td>0.000000</td>\n",
       "      <td>0.000000</td>\n",
       "      <td>0.000000</td>\n",
       "      <td>0.000000</td>\n",
       "    </tr>\n",
       "    <tr>\n",
       "      <th>303778</th>\n",
       "      <td>0.000000</td>\n",
       "      <td>0.000000</td>\n",
       "      <td>0.000000</td>\n",
       "      <td>0.000000</td>\n",
       "      <td>0.000000</td>\n",
       "      <td>0.000000</td>\n",
       "      <td>0.000000</td>\n",
       "      <td>0.000000</td>\n",
       "      <td>0.000000</td>\n",
       "      <td>0.000000</td>\n",
       "      <td>0.000000</td>\n",
       "      <td>0.000000</td>\n",
       "    </tr>\n",
       "    <tr>\n",
       "      <th>...</th>\n",
       "      <td>...</td>\n",
       "      <td>...</td>\n",
       "      <td>...</td>\n",
       "      <td>...</td>\n",
       "      <td>...</td>\n",
       "      <td>...</td>\n",
       "      <td>...</td>\n",
       "      <td>...</td>\n",
       "      <td>...</td>\n",
       "      <td>...</td>\n",
       "      <td>...</td>\n",
       "      <td>...</td>\n",
       "    </tr>\n",
       "    <tr>\n",
       "      <th>1142103</th>\n",
       "      <td>-1.423530</td>\n",
       "      <td>1.301105</td>\n",
       "      <td>0.127118</td>\n",
       "      <td>0.078017</td>\n",
       "      <td>0.680313</td>\n",
       "      <td>-0.935695</td>\n",
       "      <td>0.678598</td>\n",
       "      <td>0.097079</td>\n",
       "      <td>0.743217</td>\n",
       "      <td>-0.365410</td>\n",
       "      <td>-0.805717</td>\n",
       "      <td>-0.175096</td>\n",
       "    </tr>\n",
       "    <tr>\n",
       "      <th>1142104</th>\n",
       "      <td>-1.418428</td>\n",
       "      <td>1.304031</td>\n",
       "      <td>0.134112</td>\n",
       "      <td>0.071783</td>\n",
       "      <td>0.706946</td>\n",
       "      <td>-0.929484</td>\n",
       "      <td>0.682989</td>\n",
       "      <td>0.222357</td>\n",
       "      <td>0.711482</td>\n",
       "      <td>-0.374546</td>\n",
       "      <td>-0.817101</td>\n",
       "      <td>-0.294140</td>\n",
       "    </tr>\n",
       "    <tr>\n",
       "      <th>1142105</th>\n",
       "      <td>-1.413052</td>\n",
       "      <td>1.306712</td>\n",
       "      <td>0.141126</td>\n",
       "      <td>0.065485</td>\n",
       "      <td>0.733498</td>\n",
       "      <td>-0.918199</td>\n",
       "      <td>0.674000</td>\n",
       "      <td>0.357157</td>\n",
       "      <td>0.679554</td>\n",
       "      <td>-0.388513</td>\n",
       "      <td>-0.815126</td>\n",
       "      <td>-0.422642</td>\n",
       "    </tr>\n",
       "    <tr>\n",
       "      <th>1142106</th>\n",
       "      <td>-1.407402</td>\n",
       "      <td>1.309146</td>\n",
       "      <td>0.148155</td>\n",
       "      <td>0.059118</td>\n",
       "      <td>0.759380</td>\n",
       "      <td>-0.901439</td>\n",
       "      <td>0.647867</td>\n",
       "      <td>0.502890</td>\n",
       "      <td>0.648023</td>\n",
       "      <td>-0.407707</td>\n",
       "      <td>-0.796022</td>\n",
       "      <td>-0.562008</td>\n",
       "    </tr>\n",
       "    <tr>\n",
       "      <th>1142107</th>\n",
       "      <td>-1.401477</td>\n",
       "      <td>1.311330</td>\n",
       "      <td>0.155190</td>\n",
       "      <td>0.052679</td>\n",
       "      <td>0.783816</td>\n",
       "      <td>-0.878751</td>\n",
       "      <td>0.598871</td>\n",
       "      <td>0.660850</td>\n",
       "      <td>0.617661</td>\n",
       "      <td>-0.432578</td>\n",
       "      <td>-0.754061</td>\n",
       "      <td>-0.713529</td>\n",
       "    </tr>\n",
       "  </tbody>\n",
       "</table>\n",
       "<p>1285 rows × 12 columns</p>\n",
       "</div>"
      ],
      "text/plain": [
       "              x_1       y_1     v_x_1     v_y_1       x_2       y_2     v_x_2  \\\n",
       "303774   1.000000  0.000000  0.000000  0.000000 -0.431960  0.033431  0.000000   \n",
       "303775   0.999319  0.000002 -0.034875  0.000077 -0.468287  0.015396 -2.474520   \n",
       "303776   0.000000  0.000000  0.000000  0.000000  0.000000  0.000000  0.000000   \n",
       "303777   0.000000  0.000000  0.000000  0.000000  0.000000  0.000000  0.000000   \n",
       "303778   0.000000  0.000000  0.000000  0.000000  0.000000  0.000000  0.000000   \n",
       "...           ...       ...       ...       ...       ...       ...       ...   \n",
       "1142103 -1.423530  1.301105  0.127118  0.078017  0.680313 -0.935695  0.678598   \n",
       "1142104 -1.418428  1.304031  0.134112  0.071783  0.706946 -0.929484  0.682989   \n",
       "1142105 -1.413052  1.306712  0.141126  0.065485  0.733498 -0.918199  0.674000   \n",
       "1142106 -1.407402  1.309146  0.148155  0.059118  0.759380 -0.901439  0.647867   \n",
       "1142107 -1.401477  1.311330  0.155190  0.052679  0.783816 -0.878751  0.598871   \n",
       "\n",
       "            v_y_2       x_3       y_3     v_x_3     v_y_3  \n",
       "303774   0.000000 -0.568040 -0.033431  0.000000  0.000000  \n",
       "303775  -1.224854 -0.531032 -0.015398  2.509394  1.224777  \n",
       "303776   0.000000  0.000000  0.000000  0.000000  0.000000  \n",
       "303777   0.000000  0.000000  0.000000  0.000000  0.000000  \n",
       "303778   0.000000  0.000000  0.000000  0.000000  0.000000  \n",
       "...           ...       ...       ...       ...       ...  \n",
       "1142103  0.097079  0.743217 -0.365410 -0.805717 -0.175096  \n",
       "1142104  0.222357  0.711482 -0.374546 -0.817101 -0.294140  \n",
       "1142105  0.357157  0.679554 -0.388513 -0.815126 -0.422642  \n",
       "1142106  0.502890  0.648023 -0.407707 -0.796022 -0.562008  \n",
       "1142107  0.660850  0.617661 -0.432578 -0.754061 -0.713529  \n",
       "\n",
       "[1285 rows x 12 columns]"
      ]
     },
     "execution_count": 74,
     "metadata": {},
     "output_type": "execute_result"
    }
   ],
   "source": [
    "y_val_sampled"
   ]
  },
  {
   "cell_type": "code",
   "execution_count": 75,
   "metadata": {
    "ExecuteTime": {
     "end_time": "2024-10-18T11:33:58.892570Z",
     "start_time": "2024-10-18T11:33:58.881042Z"
    }
   },
   "outputs": [],
   "source": [
    "# perform polynomial regression with different polynomial degrees and different regressors\n",
    "def validate_poly_regression(X_train, y_train, X_val, y_val, regressor=None, degrees=range(1,15), max_features=None):\n",
    "    \n",
    "    if regressor is None:\n",
    "        regressor = LinearRegression()\n",
    "    elif regressor == 'MultiTaskLassoCV':\n",
    "        regressor = MultiTaskLassoCV(alphas=np.logspace(-6, 6, 10), cv = 5)\n",
    "    elif regressor == 'RidgeCV':\n",
    "        regressor = RidgeCV(alphas=np.logspace(-6, 6, 10), store_cv_values=True)\n",
    "    else:\n",
    "        raise ValueError(\"Invalid regressor type.\")\n",
    "    \n",
    "    best_rmse = float('inf')\n",
    "    rmse_dict = {}\n",
    "    best_pipeline = None\n",
    "\n",
    "    \n",
    "    # iterate through the polynomial degrees\n",
    "    for degree in degrees:\n",
    "        # pipeline for polynomial regression\n",
    "        pipeline = Pipeline(steps=[\n",
    "                ('poly', PolynomialFeatures(degree=degree)),\n",
    "                ('scaler', StandardScaler()),\n",
    "                ('regressor', regressor)\n",
    "            ])\n",
    "        \n",
    "        pipeline.fit(X_train, y_train)\n",
    "        \n",
    "        # number of features for each degree\n",
    "        poly_features = pipeline.named_steps['poly']\n",
    "        print(f'Degree: {degree}, Number of Features: {poly_features.n_output_features_}')\n",
    "        \n",
    "        if max_features is not None and poly_features.n_output_features_ > max_features:\n",
    "            print(f\"Skipping degree {degree} as it exceeds max_features={max_features}.\")\n",
    "            continue\n",
    "        \n",
    "        y_val_pred = pipeline.predict(X_val)\n",
    "        \n",
    "        num_features = pipeline.named_steps['poly'].n_output_features_\n",
    "        \n",
    "        X_val_without_t = X_val.drop(columns=['t'])\n",
    "        y_val_pred_df = pd.DataFrame(y_val_pred, columns=X_val_without_t.columns)\n",
    "        y_val_pred_df.drop(columns=['v_x_1', 'v_y_1', 'v_x_2', 'v_y_2', 'v_x_3', 'v_y_3'], inplace=True)\n",
    "        y_val_eval = y_val.copy()\n",
    "        y_val_eval.drop(columns=['v_x_1', 'v_y_1', 'v_x_2', 'v_y_2', 'v_x_3', 'v_y_3'], inplace=True)\n",
    "\n",
    "        rmse = np.sqrt(mean_squared_error(y_val_eval, y_val_pred_df))\n",
    "        print(f'Degree: {degree}, RMSE: {rmse}')\n",
    "        \n",
    "        rmse_dict[degree] = rmse\n",
    "        \n",
    "        # update the best degree if the current model is better\n",
    "        if rmse < best_rmse:\n",
    "            best_rmse = rmse\n",
    "            best_pipeline = pipeline\n",
    "        \n",
    "        if max_features is not None and num_features > max_features:\n",
    "            break\n",
    "        \n",
    "    return rmse_dict, best_rmse, best_pipeline\n",
    "    \n",
    "    "
   ]
  },
  {
   "cell_type": "code",
   "execution_count": 76,
   "metadata": {
    "ExecuteTime": {
     "end_time": "2024-10-18T11:33:59.066222Z",
     "start_time": "2024-10-18T11:33:59.043494Z"
    }
   },
   "outputs": [
    {
     "data": {
      "text/html": [
       "<div>\n",
       "<style scoped>\n",
       "    .dataframe tbody tr th:only-of-type {\n",
       "        vertical-align: middle;\n",
       "    }\n",
       "\n",
       "    .dataframe tbody tr th {\n",
       "        vertical-align: top;\n",
       "    }\n",
       "\n",
       "    .dataframe thead th {\n",
       "        text-align: right;\n",
       "    }\n",
       "</style>\n",
       "<table border=\"1\" class=\"dataframe\">\n",
       "  <thead>\n",
       "    <tr style=\"text-align: right;\">\n",
       "      <th></th>\n",
       "      <th>x_1</th>\n",
       "      <th>y_1</th>\n",
       "      <th>v_x_1</th>\n",
       "      <th>v_y_1</th>\n",
       "      <th>x_2</th>\n",
       "      <th>y_2</th>\n",
       "      <th>v_x_2</th>\n",
       "      <th>v_y_2</th>\n",
       "      <th>x_3</th>\n",
       "      <th>y_3</th>\n",
       "      <th>v_x_3</th>\n",
       "      <th>v_y_3</th>\n",
       "    </tr>\n",
       "  </thead>\n",
       "  <tbody>\n",
       "    <tr>\n",
       "      <th>303774</th>\n",
       "      <td>1.000000</td>\n",
       "      <td>0.000000</td>\n",
       "      <td>0.000000</td>\n",
       "      <td>0.000000</td>\n",
       "      <td>-0.431960</td>\n",
       "      <td>0.033431</td>\n",
       "      <td>0.000000</td>\n",
       "      <td>0.000000</td>\n",
       "      <td>-0.568040</td>\n",
       "      <td>-0.033431</td>\n",
       "      <td>0.000000</td>\n",
       "      <td>0.000000</td>\n",
       "    </tr>\n",
       "    <tr>\n",
       "      <th>303775</th>\n",
       "      <td>0.999319</td>\n",
       "      <td>0.000002</td>\n",
       "      <td>-0.034875</td>\n",
       "      <td>0.000077</td>\n",
       "      <td>-0.468287</td>\n",
       "      <td>0.015396</td>\n",
       "      <td>-2.474520</td>\n",
       "      <td>-1.224854</td>\n",
       "      <td>-0.531032</td>\n",
       "      <td>-0.015398</td>\n",
       "      <td>2.509394</td>\n",
       "      <td>1.224777</td>\n",
       "    </tr>\n",
       "    <tr>\n",
       "      <th>303776</th>\n",
       "      <td>0.000000</td>\n",
       "      <td>0.000000</td>\n",
       "      <td>0.000000</td>\n",
       "      <td>0.000000</td>\n",
       "      <td>0.000000</td>\n",
       "      <td>0.000000</td>\n",
       "      <td>0.000000</td>\n",
       "      <td>0.000000</td>\n",
       "      <td>0.000000</td>\n",
       "      <td>0.000000</td>\n",
       "      <td>0.000000</td>\n",
       "      <td>0.000000</td>\n",
       "    </tr>\n",
       "    <tr>\n",
       "      <th>303777</th>\n",
       "      <td>0.000000</td>\n",
       "      <td>0.000000</td>\n",
       "      <td>0.000000</td>\n",
       "      <td>0.000000</td>\n",
       "      <td>0.000000</td>\n",
       "      <td>0.000000</td>\n",
       "      <td>0.000000</td>\n",
       "      <td>0.000000</td>\n",
       "      <td>0.000000</td>\n",
       "      <td>0.000000</td>\n",
       "      <td>0.000000</td>\n",
       "      <td>0.000000</td>\n",
       "    </tr>\n",
       "    <tr>\n",
       "      <th>303778</th>\n",
       "      <td>0.000000</td>\n",
       "      <td>0.000000</td>\n",
       "      <td>0.000000</td>\n",
       "      <td>0.000000</td>\n",
       "      <td>0.000000</td>\n",
       "      <td>0.000000</td>\n",
       "      <td>0.000000</td>\n",
       "      <td>0.000000</td>\n",
       "      <td>0.000000</td>\n",
       "      <td>0.000000</td>\n",
       "      <td>0.000000</td>\n",
       "      <td>0.000000</td>\n",
       "    </tr>\n",
       "    <tr>\n",
       "      <th>...</th>\n",
       "      <td>...</td>\n",
       "      <td>...</td>\n",
       "      <td>...</td>\n",
       "      <td>...</td>\n",
       "      <td>...</td>\n",
       "      <td>...</td>\n",
       "      <td>...</td>\n",
       "      <td>...</td>\n",
       "      <td>...</td>\n",
       "      <td>...</td>\n",
       "      <td>...</td>\n",
       "      <td>...</td>\n",
       "    </tr>\n",
       "    <tr>\n",
       "      <th>1142103</th>\n",
       "      <td>-1.423530</td>\n",
       "      <td>1.301105</td>\n",
       "      <td>0.127118</td>\n",
       "      <td>0.078017</td>\n",
       "      <td>0.680313</td>\n",
       "      <td>-0.935695</td>\n",
       "      <td>0.678598</td>\n",
       "      <td>0.097079</td>\n",
       "      <td>0.743217</td>\n",
       "      <td>-0.365410</td>\n",
       "      <td>-0.805717</td>\n",
       "      <td>-0.175096</td>\n",
       "    </tr>\n",
       "    <tr>\n",
       "      <th>1142104</th>\n",
       "      <td>-1.418428</td>\n",
       "      <td>1.304031</td>\n",
       "      <td>0.134112</td>\n",
       "      <td>0.071783</td>\n",
       "      <td>0.706946</td>\n",
       "      <td>-0.929484</td>\n",
       "      <td>0.682989</td>\n",
       "      <td>0.222357</td>\n",
       "      <td>0.711482</td>\n",
       "      <td>-0.374546</td>\n",
       "      <td>-0.817101</td>\n",
       "      <td>-0.294140</td>\n",
       "    </tr>\n",
       "    <tr>\n",
       "      <th>1142105</th>\n",
       "      <td>-1.413052</td>\n",
       "      <td>1.306712</td>\n",
       "      <td>0.141126</td>\n",
       "      <td>0.065485</td>\n",
       "      <td>0.733498</td>\n",
       "      <td>-0.918199</td>\n",
       "      <td>0.674000</td>\n",
       "      <td>0.357157</td>\n",
       "      <td>0.679554</td>\n",
       "      <td>-0.388513</td>\n",
       "      <td>-0.815126</td>\n",
       "      <td>-0.422642</td>\n",
       "    </tr>\n",
       "    <tr>\n",
       "      <th>1142106</th>\n",
       "      <td>-1.407402</td>\n",
       "      <td>1.309146</td>\n",
       "      <td>0.148155</td>\n",
       "      <td>0.059118</td>\n",
       "      <td>0.759380</td>\n",
       "      <td>-0.901439</td>\n",
       "      <td>0.647867</td>\n",
       "      <td>0.502890</td>\n",
       "      <td>0.648023</td>\n",
       "      <td>-0.407707</td>\n",
       "      <td>-0.796022</td>\n",
       "      <td>-0.562008</td>\n",
       "    </tr>\n",
       "    <tr>\n",
       "      <th>1142107</th>\n",
       "      <td>-1.401477</td>\n",
       "      <td>1.311330</td>\n",
       "      <td>0.155190</td>\n",
       "      <td>0.052679</td>\n",
       "      <td>0.783816</td>\n",
       "      <td>-0.878751</td>\n",
       "      <td>0.598871</td>\n",
       "      <td>0.660850</td>\n",
       "      <td>0.617661</td>\n",
       "      <td>-0.432578</td>\n",
       "      <td>-0.754061</td>\n",
       "      <td>-0.713529</td>\n",
       "    </tr>\n",
       "  </tbody>\n",
       "</table>\n",
       "<p>1285 rows × 12 columns</p>\n",
       "</div>"
      ],
      "text/plain": [
       "              x_1       y_1     v_x_1     v_y_1       x_2       y_2     v_x_2  \\\n",
       "303774   1.000000  0.000000  0.000000  0.000000 -0.431960  0.033431  0.000000   \n",
       "303775   0.999319  0.000002 -0.034875  0.000077 -0.468287  0.015396 -2.474520   \n",
       "303776   0.000000  0.000000  0.000000  0.000000  0.000000  0.000000  0.000000   \n",
       "303777   0.000000  0.000000  0.000000  0.000000  0.000000  0.000000  0.000000   \n",
       "303778   0.000000  0.000000  0.000000  0.000000  0.000000  0.000000  0.000000   \n",
       "...           ...       ...       ...       ...       ...       ...       ...   \n",
       "1142103 -1.423530  1.301105  0.127118  0.078017  0.680313 -0.935695  0.678598   \n",
       "1142104 -1.418428  1.304031  0.134112  0.071783  0.706946 -0.929484  0.682989   \n",
       "1142105 -1.413052  1.306712  0.141126  0.065485  0.733498 -0.918199  0.674000   \n",
       "1142106 -1.407402  1.309146  0.148155  0.059118  0.759380 -0.901439  0.647867   \n",
       "1142107 -1.401477  1.311330  0.155190  0.052679  0.783816 -0.878751  0.598871   \n",
       "\n",
       "            v_y_2       x_3       y_3     v_x_3     v_y_3  \n",
       "303774   0.000000 -0.568040 -0.033431  0.000000  0.000000  \n",
       "303775  -1.224854 -0.531032 -0.015398  2.509394  1.224777  \n",
       "303776   0.000000  0.000000  0.000000  0.000000  0.000000  \n",
       "303777   0.000000  0.000000  0.000000  0.000000  0.000000  \n",
       "303778   0.000000  0.000000  0.000000  0.000000  0.000000  \n",
       "...           ...       ...       ...       ...       ...  \n",
       "1142103  0.097079  0.743217 -0.365410 -0.805717 -0.175096  \n",
       "1142104  0.222357  0.711482 -0.374546 -0.817101 -0.294140  \n",
       "1142105  0.357157  0.679554 -0.388513 -0.815126 -0.422642  \n",
       "1142106  0.502890  0.648023 -0.407707 -0.796022 -0.562008  \n",
       "1142107  0.660850  0.617661 -0.432578 -0.754061 -0.713529  \n",
       "\n",
       "[1285 rows x 12 columns]"
      ]
     },
     "execution_count": 76,
     "metadata": {},
     "output_type": "execute_result"
    }
   ],
   "source": [
    "y_val_sampled"
   ]
  },
  {
   "cell_type": "code",
   "execution_count": 77,
   "metadata": {
    "ExecuteTime": {
     "end_time": "2024-10-18T11:33:59.419304Z",
     "start_time": "2024-10-18T11:33:59.275618Z"
    }
   },
   "outputs": [
    {
     "name": "stdout",
     "output_type": "stream",
     "text": [
      "Degree: 1, Number of Features: 14\n",
      "Degree: 1, RMSE: 0.7863041487878727\n",
      "Degree: 2, Number of Features: 105\n",
      "Degree: 2, RMSE: 1.393909709317703\n"
     ]
    }
   ],
   "source": [
    "# validate the polynomial regression with degrees from 1 to 7 and linear regressor\n",
    "rmse_dict_linear, best_rmse_linear, best_pipeline_linear = validate_poly_regression(X_train_sampled, y_train_sampled, X_val_sampled, y_val_sampled, regressor=None, degrees=range(1,3), max_features=None)"
   ]
  },
  {
   "cell_type": "code",
   "execution_count": 78,
   "metadata": {
    "ExecuteTime": {
     "end_time": "2024-10-18T11:37:26.416993Z",
     "start_time": "2024-10-18T11:33:59.555184Z"
    }
   },
   "outputs": [
    {
     "name": "stderr",
     "output_type": "stream",
     "text": [
      "/Users/lari/opt/anaconda3/envs/ml/lib/python3.12/site-packages/sklearn/linear_model/_coordinate_descent.py:675: ConvergenceWarning: Objective did not converge. You might want to increase the number of iterations. Duality gap: 2027.0962113896385, tolerance: 26.91444205740759\n",
      "  model = cd_fast.enet_coordinate_descent_multi_task(\n",
      "/Users/lari/opt/anaconda3/envs/ml/lib/python3.12/site-packages/sklearn/linear_model/_coordinate_descent.py:675: ConvergenceWarning: Objective did not converge. You might want to increase the number of iterations. Duality gap: 2439.6618074571306, tolerance: 26.91444205740759\n",
      "  model = cd_fast.enet_coordinate_descent_multi_task(\n",
      "/Users/lari/opt/anaconda3/envs/ml/lib/python3.12/site-packages/sklearn/linear_model/_coordinate_descent.py:675: ConvergenceWarning: Objective did not converge. You might want to increase the number of iterations. Duality gap: 2471.4539811330324, tolerance: 26.91444205740759\n",
      "  model = cd_fast.enet_coordinate_descent_multi_task(\n",
      "/Users/lari/opt/anaconda3/envs/ml/lib/python3.12/site-packages/sklearn/linear_model/_coordinate_descent.py:675: ConvergenceWarning: Objective did not converge. You might want to increase the number of iterations. Duality gap: 28.99457472920767, tolerance: 28.53194748142204\n",
      "  model = cd_fast.enet_coordinate_descent_multi_task(\n",
      "/Users/lari/opt/anaconda3/envs/ml/lib/python3.12/site-packages/sklearn/linear_model/_coordinate_descent.py:675: ConvergenceWarning: Objective did not converge. You might want to increase the number of iterations. Duality gap: 29.063773901114473, tolerance: 28.53194748142204\n",
      "  model = cd_fast.enet_coordinate_descent_multi_task(\n",
      "/Users/lari/opt/anaconda3/envs/ml/lib/python3.12/site-packages/sklearn/linear_model/_coordinate_descent.py:675: ConvergenceWarning: Objective did not converge. You might want to increase the number of iterations. Duality gap: 167.55865443736548, tolerance: 29.358581332856232\n",
      "  model = cd_fast.enet_coordinate_descent_multi_task(\n",
      "/Users/lari/opt/anaconda3/envs/ml/lib/python3.12/site-packages/sklearn/linear_model/_coordinate_descent.py:675: ConvergenceWarning: Objective did not converge. You might want to increase the number of iterations. Duality gap: 137.43577891692985, tolerance: 29.358581332856232\n",
      "  model = cd_fast.enet_coordinate_descent_multi_task(\n",
      "/Users/lari/opt/anaconda3/envs/ml/lib/python3.12/site-packages/sklearn/linear_model/_coordinate_descent.py:675: ConvergenceWarning: Objective did not converge. You might want to increase the number of iterations. Duality gap: 130.3538719889475, tolerance: 29.358581332856232\n",
      "  model = cd_fast.enet_coordinate_descent_multi_task(\n",
      "/Users/lari/opt/anaconda3/envs/ml/lib/python3.12/site-packages/sklearn/linear_model/_coordinate_descent.py:675: ConvergenceWarning: Objective did not converge. You might want to increase the number of iterations. Duality gap: 130.00897110643564, tolerance: 29.358581332856232\n",
      "  model = cd_fast.enet_coordinate_descent_multi_task(\n",
      "/Users/lari/opt/anaconda3/envs/ml/lib/python3.12/site-packages/sklearn/linear_model/_coordinate_descent.py:675: ConvergenceWarning: Objective did not converge. You might want to increase the number of iterations. Duality gap: 36.639961009292165, tolerance: 23.968217642855826\n",
      "  model = cd_fast.enet_coordinate_descent_multi_task(\n",
      "/Users/lari/opt/anaconda3/envs/ml/lib/python3.12/site-packages/sklearn/linear_model/_coordinate_descent.py:675: ConvergenceWarning: Objective did not converge. You might want to increase the number of iterations. Duality gap: 36.049948943866184, tolerance: 23.968217642855826\n",
      "  model = cd_fast.enet_coordinate_descent_multi_task(\n",
      "/Users/lari/opt/anaconda3/envs/ml/lib/python3.12/site-packages/sklearn/linear_model/_coordinate_descent.py:675: ConvergenceWarning: Objective did not converge. You might want to increase the number of iterations. Duality gap: 44.16688638305641, tolerance: 23.968217642855826\n",
      "  model = cd_fast.enet_coordinate_descent_multi_task(\n",
      "/Users/lari/opt/anaconda3/envs/ml/lib/python3.12/site-packages/sklearn/linear_model/_coordinate_descent.py:675: ConvergenceWarning: Objective did not converge. You might want to increase the number of iterations. Duality gap: 13.721727945972816, tolerance: 13.402529056866154\n",
      "  model = cd_fast.enet_coordinate_descent_multi_task(\n",
      "/Users/lari/opt/anaconda3/envs/ml/lib/python3.12/site-packages/sklearn/linear_model/_coordinate_descent.py:675: ConvergenceWarning: Objective did not converge. You might want to increase the number of iterations. Duality gap: 13.82104572778917, tolerance: 13.402529056866154\n",
      "  model = cd_fast.enet_coordinate_descent_multi_task(\n"
     ]
    },
    {
     "name": "stdout",
     "output_type": "stream",
     "text": [
      "Degree: 1, Number of Features: 14\n",
      "Degree: 1, RMSE: 0.6319531080889604\n"
     ]
    },
    {
     "name": "stderr",
     "output_type": "stream",
     "text": [
      "/Users/lari/opt/anaconda3/envs/ml/lib/python3.12/site-packages/sklearn/linear_model/_coordinate_descent.py:675: ConvergenceWarning: Objective did not converge. You might want to increase the number of iterations. Duality gap: 9730.447613533295, tolerance: 26.91444205740759\n",
      "  model = cd_fast.enet_coordinate_descent_multi_task(\n",
      "/Users/lari/opt/anaconda3/envs/ml/lib/python3.12/site-packages/sklearn/linear_model/_coordinate_descent.py:675: ConvergenceWarning: Objective did not converge. You might want to increase the number of iterations. Duality gap: 85026.99818477998, tolerance: 26.91444205740759\n",
      "  model = cd_fast.enet_coordinate_descent_multi_task(\n",
      "/Users/lari/opt/anaconda3/envs/ml/lib/python3.12/site-packages/sklearn/linear_model/_coordinate_descent.py:675: ConvergenceWarning: Objective did not converge. You might want to increase the number of iterations. Duality gap: 101536.03889806644, tolerance: 26.91444205740759\n",
      "  model = cd_fast.enet_coordinate_descent_multi_task(\n",
      "/Users/lari/opt/anaconda3/envs/ml/lib/python3.12/site-packages/sklearn/linear_model/_coordinate_descent.py:675: ConvergenceWarning: Objective did not converge. You might want to increase the number of iterations. Duality gap: 102483.24911360317, tolerance: 26.91444205740759\n",
      "  model = cd_fast.enet_coordinate_descent_multi_task(\n",
      "/Users/lari/opt/anaconda3/envs/ml/lib/python3.12/site-packages/sklearn/linear_model/_coordinate_descent.py:675: ConvergenceWarning: Objective did not converge. You might want to increase the number of iterations. Duality gap: 10986.035257062904, tolerance: 28.53194748142204\n",
      "  model = cd_fast.enet_coordinate_descent_multi_task(\n",
      "/Users/lari/opt/anaconda3/envs/ml/lib/python3.12/site-packages/sklearn/linear_model/_coordinate_descent.py:675: ConvergenceWarning: Objective did not converge. You might want to increase the number of iterations. Duality gap: 83259.82678714639, tolerance: 28.53194748142204\n",
      "  model = cd_fast.enet_coordinate_descent_multi_task(\n",
      "/Users/lari/opt/anaconda3/envs/ml/lib/python3.12/site-packages/sklearn/linear_model/_coordinate_descent.py:675: ConvergenceWarning: Objective did not converge. You might want to increase the number of iterations. Duality gap: 107187.23975777486, tolerance: 28.53194748142204\n",
      "  model = cd_fast.enet_coordinate_descent_multi_task(\n",
      "/Users/lari/opt/anaconda3/envs/ml/lib/python3.12/site-packages/sklearn/linear_model/_coordinate_descent.py:675: ConvergenceWarning: Objective did not converge. You might want to increase the number of iterations. Duality gap: 108716.71309697215, tolerance: 28.53194748142204\n",
      "  model = cd_fast.enet_coordinate_descent_multi_task(\n",
      "/Users/lari/opt/anaconda3/envs/ml/lib/python3.12/site-packages/sklearn/linear_model/_coordinate_descent.py:675: ConvergenceWarning: Objective did not converge. You might want to increase the number of iterations. Duality gap: 3144.478905080701, tolerance: 29.358581332856232\n",
      "  model = cd_fast.enet_coordinate_descent_multi_task(\n",
      "/Users/lari/opt/anaconda3/envs/ml/lib/python3.12/site-packages/sklearn/linear_model/_coordinate_descent.py:675: ConvergenceWarning: Objective did not converge. You might want to increase the number of iterations. Duality gap: 103810.97249397586, tolerance: 29.358581332856232\n",
      "  model = cd_fast.enet_coordinate_descent_multi_task(\n",
      "/Users/lari/opt/anaconda3/envs/ml/lib/python3.12/site-packages/sklearn/linear_model/_coordinate_descent.py:675: ConvergenceWarning: Objective did not converge. You might want to increase the number of iterations. Duality gap: 113966.7675949592, tolerance: 29.358581332856232\n",
      "  model = cd_fast.enet_coordinate_descent_multi_task(\n",
      "/Users/lari/opt/anaconda3/envs/ml/lib/python3.12/site-packages/sklearn/linear_model/_coordinate_descent.py:675: ConvergenceWarning: Objective did not converge. You might want to increase the number of iterations. Duality gap: 114300.37777517307, tolerance: 29.358581332856232\n",
      "  model = cd_fast.enet_coordinate_descent_multi_task(\n",
      "/Users/lari/opt/anaconda3/envs/ml/lib/python3.12/site-packages/sklearn/linear_model/_coordinate_descent.py:675: ConvergenceWarning: Objective did not converge. You might want to increase the number of iterations. Duality gap: 1778.5034736227244, tolerance: 23.968217642855826\n",
      "  model = cd_fast.enet_coordinate_descent_multi_task(\n",
      "/Users/lari/opt/anaconda3/envs/ml/lib/python3.12/site-packages/sklearn/linear_model/_coordinate_descent.py:675: ConvergenceWarning: Objective did not converge. You might want to increase the number of iterations. Duality gap: 14765.18121532083, tolerance: 23.968217642855826\n",
      "  model = cd_fast.enet_coordinate_descent_multi_task(\n",
      "/Users/lari/opt/anaconda3/envs/ml/lib/python3.12/site-packages/sklearn/linear_model/_coordinate_descent.py:675: ConvergenceWarning: Objective did not converge. You might want to increase the number of iterations. Duality gap: 15311.565567000987, tolerance: 23.968217642855826\n",
      "  model = cd_fast.enet_coordinate_descent_multi_task(\n",
      "/Users/lari/opt/anaconda3/envs/ml/lib/python3.12/site-packages/sklearn/linear_model/_coordinate_descent.py:675: ConvergenceWarning: Objective did not converge. You might want to increase the number of iterations. Duality gap: 2453.4626652258303, tolerance: 13.402529056866154\n",
      "  model = cd_fast.enet_coordinate_descent_multi_task(\n",
      "/Users/lari/opt/anaconda3/envs/ml/lib/python3.12/site-packages/sklearn/linear_model/_coordinate_descent.py:675: ConvergenceWarning: Objective did not converge. You might want to increase the number of iterations. Duality gap: 38047.38547339129, tolerance: 13.402529056866154\n",
      "  model = cd_fast.enet_coordinate_descent_multi_task(\n",
      "/Users/lari/opt/anaconda3/envs/ml/lib/python3.12/site-packages/sklearn/linear_model/_coordinate_descent.py:675: ConvergenceWarning: Objective did not converge. You might want to increase the number of iterations. Duality gap: 44508.535812410264, tolerance: 13.402529056866154\n",
      "  model = cd_fast.enet_coordinate_descent_multi_task(\n"
     ]
    },
    {
     "name": "stdout",
     "output_type": "stream",
     "text": [
      "Degree: 2, Number of Features: 105\n",
      "Degree: 2, RMSE: 0.6319531080889604\n"
     ]
    },
    {
     "name": "stderr",
     "output_type": "stream",
     "text": [
      "/Users/lari/opt/anaconda3/envs/ml/lib/python3.12/site-packages/sklearn/linear_model/_coordinate_descent.py:675: ConvergenceWarning: Objective did not converge. You might want to increase the number of iterations. Duality gap: 44747.70619887872, tolerance: 13.402529056866154\n",
      "  model = cd_fast.enet_coordinate_descent_multi_task(\n"
     ]
    }
   ],
   "source": [
    "# validate the polynomial regression with degrees from 1 to 7 and Lasso regressor\n",
    "rmse_dict_lasso, best_rmse_lasso, best_pipeline_lasso = validate_poly_regression(X_train_sampled, y_train_sampled, X_val_sampled, y_val_sampled, regressor='MultiTaskLassoCV', degrees=range(1,3), max_features=None)"
   ]
  },
  {
   "cell_type": "code",
   "execution_count": 79,
   "metadata": {
    "ExecuteTime": {
     "end_time": "2024-10-18T11:37:26.884919Z",
     "start_time": "2024-10-18T11:37:26.472755Z"
    }
   },
   "outputs": [
    {
     "name": "stderr",
     "output_type": "stream",
     "text": [
      "/Users/lari/opt/anaconda3/envs/ml/lib/python3.12/site-packages/sklearn/linear_model/_ridge.py:2341: FutureWarning: 'store_cv_values' is deprecated in version 1.5 and will be removed in 1.7. Use 'store_cv_results' instead.\n",
      "  warnings.warn(\n"
     ]
    },
    {
     "name": "stdout",
     "output_type": "stream",
     "text": [
      "Degree: 1, Number of Features: 14\n",
      "Degree: 1, RMSE: 0.7315480943451348\n",
      "Degree: 2, Number of Features: 105\n",
      "Degree: 2, RMSE: 0.9789970799690156\n"
     ]
    },
    {
     "name": "stderr",
     "output_type": "stream",
     "text": [
      "/Users/lari/opt/anaconda3/envs/ml/lib/python3.12/site-packages/sklearn/linear_model/_ridge.py:2341: FutureWarning: 'store_cv_values' is deprecated in version 1.5 and will be removed in 1.7. Use 'store_cv_results' instead.\n",
      "  warnings.warn(\n"
     ]
    }
   ],
   "source": [
    "# validate the polynomial regression with degrees from 1 to 7 and RidgeCV regressor\n",
    "rmse_dict_ridge, best_rmse_ridge, best_pipeline_ridge = validate_poly_regression(X_train_sampled, y_train_sampled, X_val_sampled, y_val_sampled, regressor='RidgeCV', degrees=range(1,3), max_features=None)"
   ]
  },
  {
   "cell_type": "code",
   "execution_count": 80,
   "metadata": {
    "ExecuteTime": {
     "end_time": "2024-10-18T11:37:27.059866Z",
     "start_time": "2024-10-18T11:37:27.053157Z"
    }
   },
   "outputs": [
    {
     "data": {
      "text/plain": [
       "{1: 0.7863041487878727, 2: 1.393909709317703}"
      ]
     },
     "execution_count": 80,
     "metadata": {},
     "output_type": "execute_result"
    }
   ],
   "source": [
    "rmse_dict_linear"
   ]
  },
  {
   "cell_type": "code",
   "execution_count": 81,
   "metadata": {
    "ExecuteTime": {
     "end_time": "2024-10-18T11:37:27.365423Z",
     "start_time": "2024-10-18T11:37:27.208310Z"
    }
   },
   "outputs": [
    {
     "data": {
      "image/png": "[encoded data removed]",
      "text/plain": [
       "<Figure size 1000x600 with 1 Axes>"
      ]
     },
     "metadata": {},
     "output_type": "display_data"
    }
   ],
   "source": [
    "# make a plot of the distribution of the different polynomial degrees\n",
    "\n",
    "plt.figure(figsize=(10,6))\n",
    "plt.plot(*zip(*rmse_dict_linear.items()), label='Linear Regression')\n",
    "#plt.plot(, values, label='Lasso Regression')\n",
    "#plt.plot(*zip(*rmse_dict_ridge.items()), label='Ridge Regression')\n",
    "plt.xlabel('Degree')\n",
    "plt.ylabel('RMSE')\n",
    "plt.title('RMSE vs. Degree')\n",
    "plt.legend()\n",
    "plt.show()"
   ]
  },
  {
   "cell_type": "markdown",
   "metadata": {},
   "source": []
  },
  {
   "cell_type": "markdown",
   "metadata": {},
   "source": [
    "# Task 4: Nonparamentric Model — the k-Nearest Neighbors Regressor"
   ]
  },
  {
   "cell_type": "markdown",
   "metadata": {},
   "source": [
    "## Task 4.1 Development"
   ]
  },
  {
   "cell_type": "code",
   "execution_count": 85,
   "metadata": {
    "ExecuteTime": {
     "end_time": "2024-10-18T12:09:33.379058Z",
     "start_time": "2024-10-18T12:09:33.118082Z"
    }
   },
   "outputs": [],
   "source": [
    "import time\n",
    "from sklearn.neighbors import KNeighborsRegressor"
   ]
  },
  {
   "cell_type": "code",
   "execution_count": 86,
   "metadata": {
    "ExecuteTime": {
     "end_time": "2024-10-18T12:09:34.452932Z",
     "start_time": "2024-10-18T12:09:34.447343Z"
    }
   },
   "outputs": [],
   "source": [
    "def validate_knn_regression(X_train, y_train, X_val, y_val, k=range(1,15)):\n",
    "    results = {\n",
    "        'k': [],\n",
    "        'train_time': [],\n",
    "        'inference_time': [],\n",
    "        'validation_error': []\n",
    "    }\n",
    "    \n",
    "    for i in k:\n",
    "        # Create the kNN model\n",
    "        knn = KNeighborsRegressor(n_neighbors=i)\n",
    "        \n",
    "        # Measure training time\n",
    "        start_train = time.time()\n",
    "        knn.fit(X_train, y_train)\n",
    "        end_train = time.time()\n",
    "        train_time = end_train - start_train\n",
    "        \n",
    "        # Measure inference time\n",
    "        start_inference = time.time()\n",
    "        y_pred = knn.predict(X_val)\n",
    "        end_inference = time.time()\n",
    "        inference_time = end_inference - start_inference\n",
    "        \n",
    "        # Calculate the validation error\n",
    "        error = mean_squared_error(y_val, y_pred)\n",
    "        \n",
    "        # Save results\n",
    "        results['k'].append(i)\n",
    "        results['train_time'].append(train_time)\n",
    "        results['inference_time'].append(inference_time)\n",
    "        results['validation_error'].append(error)\n",
    "    \n",
    "    # Convert the results to a DataFrame for easier analysis\n",
    "    results_df = pd.DataFrame(results)\n",
    "    return results_df"
   ]
  },
  {
   "cell_type": "code",
   "execution_count": 87,
   "metadata": {
    "ExecuteTime": {
     "end_time": "2024-10-18T12:10:22.025563Z",
     "start_time": "2024-10-18T12:09:35.187828Z"
    }
   },
   "outputs": [
    {
     "data": {
      "text/html": [
       "<div>\n",
       "<style scoped>\n",
       "    .dataframe tbody tr th:only-of-type {\n",
       "        vertical-align: middle;\n",
       "    }\n",
       "\n",
       "    .dataframe tbody tr th {\n",
       "        vertical-align: top;\n",
       "    }\n",
       "\n",
       "    .dataframe thead th {\n",
       "        text-align: right;\n",
       "    }\n",
       "</style>\n",
       "<table border=\"1\" class=\"dataframe\">\n",
       "  <thead>\n",
       "    <tr style=\"text-align: right;\">\n",
       "      <th></th>\n",
       "      <th>k</th>\n",
       "      <th>train_time</th>\n",
       "      <th>inference_time</th>\n",
       "      <th>validation_error</th>\n",
       "    </tr>\n",
       "  </thead>\n",
       "  <tbody>\n",
       "    <tr>\n",
       "      <th>0</th>\n",
       "      <td>1</td>\n",
       "      <td>2.554412</td>\n",
       "      <td>1.574513</td>\n",
       "      <td>2.167230</td>\n",
       "    </tr>\n",
       "    <tr>\n",
       "      <th>1</th>\n",
       "      <td>2</td>\n",
       "      <td>1.391850</td>\n",
       "      <td>1.522968</td>\n",
       "      <td>2.087229</td>\n",
       "    </tr>\n",
       "    <tr>\n",
       "      <th>2</th>\n",
       "      <td>3</td>\n",
       "      <td>1.341897</td>\n",
       "      <td>1.560511</td>\n",
       "      <td>2.053689</td>\n",
       "    </tr>\n",
       "    <tr>\n",
       "      <th>3</th>\n",
       "      <td>4</td>\n",
       "      <td>1.493847</td>\n",
       "      <td>1.601127</td>\n",
       "      <td>2.030414</td>\n",
       "    </tr>\n",
       "    <tr>\n",
       "      <th>4</th>\n",
       "      <td>5</td>\n",
       "      <td>1.592819</td>\n",
       "      <td>1.769062</td>\n",
       "      <td>2.013991</td>\n",
       "    </tr>\n",
       "    <tr>\n",
       "      <th>5</th>\n",
       "      <td>6</td>\n",
       "      <td>1.316650</td>\n",
       "      <td>1.743138</td>\n",
       "      <td>1.995605</td>\n",
       "    </tr>\n",
       "    <tr>\n",
       "      <th>6</th>\n",
       "      <td>7</td>\n",
       "      <td>1.358885</td>\n",
       "      <td>1.661973</td>\n",
       "      <td>1.983916</td>\n",
       "    </tr>\n",
       "    <tr>\n",
       "      <th>7</th>\n",
       "      <td>8</td>\n",
       "      <td>1.280445</td>\n",
       "      <td>1.699717</td>\n",
       "      <td>1.972138</td>\n",
       "    </tr>\n",
       "    <tr>\n",
       "      <th>8</th>\n",
       "      <td>9</td>\n",
       "      <td>1.334814</td>\n",
       "      <td>1.810347</td>\n",
       "      <td>1.965978</td>\n",
       "    </tr>\n",
       "    <tr>\n",
       "      <th>9</th>\n",
       "      <td>10</td>\n",
       "      <td>1.394548</td>\n",
       "      <td>1.905711</td>\n",
       "      <td>1.959383</td>\n",
       "    </tr>\n",
       "    <tr>\n",
       "      <th>10</th>\n",
       "      <td>11</td>\n",
       "      <td>1.225309</td>\n",
       "      <td>1.764217</td>\n",
       "      <td>1.953789</td>\n",
       "    </tr>\n",
       "    <tr>\n",
       "      <th>11</th>\n",
       "      <td>12</td>\n",
       "      <td>1.308469</td>\n",
       "      <td>1.803214</td>\n",
       "      <td>1.945547</td>\n",
       "    </tr>\n",
       "    <tr>\n",
       "      <th>12</th>\n",
       "      <td>13</td>\n",
       "      <td>1.383292</td>\n",
       "      <td>2.269403</td>\n",
       "      <td>1.940057</td>\n",
       "    </tr>\n",
       "    <tr>\n",
       "      <th>13</th>\n",
       "      <td>14</td>\n",
       "      <td>1.698834</td>\n",
       "      <td>2.798044</td>\n",
       "      <td>1.932111</td>\n",
       "    </tr>\n",
       "  </tbody>\n",
       "</table>\n",
       "</div>"
      ],
      "text/plain": [
       "     k  train_time  inference_time  validation_error\n",
       "0    1    2.554412        1.574513          2.167230\n",
       "1    2    1.391850        1.522968          2.087229\n",
       "2    3    1.341897        1.560511          2.053689\n",
       "3    4    1.493847        1.601127          2.030414\n",
       "4    5    1.592819        1.769062          2.013991\n",
       "5    6    1.316650        1.743138          1.995605\n",
       "6    7    1.358885        1.661973          1.983916\n",
       "7    8    1.280445        1.699717          1.972138\n",
       "8    9    1.334814        1.810347          1.965978\n",
       "9   10    1.394548        1.905711          1.959383\n",
       "10  11    1.225309        1.764217          1.953789\n",
       "11  12    1.308469        1.803214          1.945547\n",
       "12  13    1.383292        2.269403          1.940057\n",
       "13  14    1.698834        2.798044          1.932111"
      ]
     },
     "execution_count": 87,
     "metadata": {},
     "output_type": "execute_result"
    }
   ],
   "source": [
    "validate_knn_regression(X_train, y_train, X_val, y_val, k=range(1,15))"
   ]
  },
  {
   "cell_type": "code",
   "execution_count": 88,
   "metadata": {
    "ExecuteTime": {
     "end_time": "2024-10-18T12:11:36.991640Z",
     "start_time": "2024-10-18T12:10:53.088352Z"
    }
   },
   "outputs": [
    {
     "data": {
      "image/png": "[encoded data removed]",
      "text/plain": [
       "<Figure size 1000x600 with 1 Axes>"
      ]
     },
     "metadata": {},
     "output_type": "display_data"
    },
    {
     "data": {
      "image/png": "[encoded data removed]",
      "text/plain": [
       "<Figure size 1000x600 with 1 Axes>"
      ]
     },
     "metadata": {},
     "output_type": "display_data"
    }
   ],
   "source": [
    "results_df = validate_knn_regression(X_train, y_train, X_val, y_val)\n",
    "\n",
    "# Plot training time vs k\n",
    "plt.figure(figsize=(10, 6))\n",
    "plt.plot(results_df['k'], results_df['train_time'], label='Training Time')\n",
    "plt.plot(results_df['k'], results_df['inference_time'], label='Inference Time')\n",
    "plt.xlabel('k (Number of Neighbors)')\n",
    "plt.ylabel('Time (seconds)')\n",
    "plt.title('Training and Inference Times vs. k')\n",
    "plt.legend()\n",
    "plt.show()\n",
    "\n",
    "# Plot validation error vs k\n",
    "plt.figure(figsize=(10, 6))\n",
    "plt.plot(results_df['k'], results_df['validation_error'], label='Validation Error')\n",
    "plt.xlabel('k (Number of Neighbors)')\n",
    "plt.ylabel('Mean Squared Error')\n",
    "plt.title('Validation Error vs. k')\n",
    "plt.legend()\n",
    "plt.show()"
   ]
  },
  {
   "cell_type": "code",
   "execution_count": null,
   "metadata": {},
   "outputs": [],
   "source": []
  }
 ],
 "metadata": {
  "kernelspec": {
   "display_name": "base",
   "language": "python",
   "name": "python3"
  },
  "language_info": {
   "codemirror_mode": {
    "name": "ipython",
    "version": 3
   },
   "file_extension": ".py",
   "mimetype": "text/x-python",
   "name": "python",
   "nbconvert_exporter": "python",
   "pygments_lexer": "ipython3",
   "version": "3.12.4"
  }
 },
 "nbformat": 4,
 "nbformat_minor": 2
}
