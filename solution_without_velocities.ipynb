{
 "cells": [
  {
   "cell_type": "markdown",
   "metadata": {},
   "source": [
    "# Assignment 1 - Luise Kutzner, Lara Ruschmeyer, Eva Franck"
   ]
  },
  {
   "cell_type": "code",
   "metadata": {
    "ExecuteTime": {
     "end_time": "2024-10-15T07:47:32.117328Z",
     "start_time": "2024-10-15T07:47:27.711310Z"
    }
   },
   "source": [
    "import numpy as np \n",
    "import matplotlib.pyplot as plt\n",
    "import pandas as pd\n",
    "from sklearn.utils import indexable\n",
    "from sklearn.utils import resample\n",
    "from sklearn.utils.validation import _num_samples\n",
    "from sklearn.model_selection import ShuffleSplit, StratifiedShuffleSplit\n",
    "from itertools import chain\n",
    "from sklearn.model_selection import train_test_split\n",
    "from sklearn.preprocessing import StandardScaler\n",
    "from sklearn.metrics import mean_squared_error\n",
    "from sklearn.preprocessing import PolynomialFeatures\n",
    "from sklearn.linear_model import LinearRegression\n",
    "from sklearn.pipeline import Pipeline\n",
    "from sklearn.linear_model import Ridge, RidgeCV, Lasso, LassoCV, MultiTaskLassoCV\n",
    "from sklearn.compose import ColumnTransformer\n",
    "from sklearn.preprocessing import MinMaxScaler, StandardScaler\n",
    "from math import ceil, floor\n",
    "\n",
    "from sklearn.utils import (\n",
    "    _safe_indexing,\n",
    "    check_random_state,\n",
    "    indexable,\n",
    "    metadata_routing,\n",
    ")\n"
   ],
   "outputs": [],
   "execution_count": 1
  },
  {
   "cell_type": "markdown",
   "metadata": {},
   "source": [
    "# Task 1: Setting the Baseline"
   ]
  },
  {
   "cell_type": "code",
   "metadata": {
    "ExecuteTime": {
     "end_time": "2024-10-15T07:47:32.176925Z",
     "start_time": "2024-10-15T07:47:32.168904Z"
    }
   },
   "source": [
    "# function to transform the dataset into a DataFrame where each sample is labeled with \n",
    "# a 'trajectory_id' indicating which 258-sample trajectory it belongs to\n",
    "\n",
    "def transform_to_trajectories_dataframe(X_data, idx):\n",
    "    \n",
    "    transformed_data = []\n",
    "    \n",
    "    # iterate through the indices list to slice the dataframe into stacks\n",
    "    for i in range(len(idx) - 1):\n",
    "        # each stack corresponds to samples from idx[i] to idx[i + 1]\n",
    "        start_idx = idx[i]\n",
    "        end_idx = idx[i + 1]\n",
    "        \n",
    "        trajectory = X_data.iloc[start_idx:end_idx].copy()\n",
    "        \n",
    "        trajectory['trajectory_id'] = i\n",
    "        \n",
    "        transformed_data.append(trajectory)\n",
    "    \n",
    "    result_df = pd.concat(transformed_data, ignore_index=True)\n",
    "    \n",
    "    return result_df\n"
   ],
   "outputs": [],
   "execution_count": 2
  },
  {
   "cell_type": "code",
   "metadata": {
    "ExecuteTime": {
     "end_time": "2024-10-15T07:47:32.323214Z",
     "start_time": "2024-10-15T07:47:32.315772Z"
    }
   },
   "source": [
    "# removes trajectories from the dataset that have duplicated initial positions \n",
    "\n",
    "def remove_duplicated_trajectories(X_data, trajectory_col='trajectory_id'):\n",
    "    \n",
    "    first_samples = X_data.groupby(trajectory_col).first().reset_index()\n",
    "    \n",
    "    duplicated_first_samples = first_samples.duplicated(subset=X_data.columns.difference([trajectory_col]), keep='first')\n",
    "\n",
    "    true_count = duplicated_first_samples.sum()\n",
    "    index = duplicated_first_samples[duplicated_first_samples].index\n",
    "    print(f\"Found {true_count} duplicated first samples with indices {index}.\")\n",
    "    \n",
    "    unique_trajectories = first_samples.loc[~duplicated_first_samples, trajectory_col]\n",
    "    \n",
    "    cleaned_data = X_data[X_data[trajectory_col].isin(unique_trajectories)]\n",
    "\n",
    "    return cleaned_data\n"
   ],
   "outputs": [],
   "execution_count": 3
  },
  {
   "cell_type": "code",
   "metadata": {
    "ExecuteTime": {
     "end_time": "2024-10-15T07:47:32.352091Z",
     "start_time": "2024-10-15T07:47:32.338606Z"
    }
   },
   "source": [
    " # validation helper to check if the test/test sizes are meaningful with regard to \n",
    " # the size of the data (used in test split function from sklearn)\n",
    "    \n",
    "def _validate_shuffle_split(n_samples, test_size, train_size, default_test_size=None):\n",
    "   \n",
    "    if test_size is None and train_size is None:\n",
    "        test_size = default_test_size\n",
    "\n",
    "    test_size_type = np.asarray(test_size).dtype.kind\n",
    "    train_size_type = np.asarray(train_size).dtype.kind\n",
    "\n",
    "    if (\n",
    "        test_size_type == \"i\"\n",
    "        and (test_size >= n_samples or test_size <= 0)\n",
    "        or test_size_type == \"f\"\n",
    "        and (test_size <= 0 or test_size >= 1)\n",
    "    ):\n",
    "        raise ValueError(\n",
    "            \"test_size={0} should be either positive and smaller\"\n",
    "            \" than the number of samples {1} or a float in the \"\n",
    "            \"(0, 1) range\".format(test_size, n_samples)\n",
    "        )\n",
    "\n",
    "    if (\n",
    "        train_size_type == \"i\"\n",
    "        and (train_size >= n_samples or train_size <= 0)\n",
    "        or train_size_type == \"f\"\n",
    "        and (train_size <= 0 or train_size >= 1)\n",
    "    ):\n",
    "        raise ValueError(\n",
    "            \"train_size={0} should be either positive and smaller\"\n",
    "            \" than the number of samples {1} or a float in the \"\n",
    "            \"(0, 1) range\".format(train_size, n_samples)\n",
    "        )\n",
    "\n",
    "    if train_size is not None and train_size_type not in (\"i\", \"f\"):\n",
    "        raise ValueError(\"Invalid value for train_size: {}\".format(train_size))\n",
    "    if test_size is not None and test_size_type not in (\"i\", \"f\"):\n",
    "        raise ValueError(\"Invalid value for test_size: {}\".format(test_size))\n",
    "\n",
    "    if train_size_type == \"f\" and test_size_type == \"f\" and train_size + test_size > 1:\n",
    "        raise ValueError(\n",
    "            \"The sum of test_size and train_size = {}, should be in the (0, 1)\"\n",
    "            \" range. Reduce test_size and/or train_size.\".format(train_size + test_size)\n",
    "        )\n",
    "\n",
    "    if test_size_type == \"f\":\n",
    "        n_test = ceil(test_size * n_samples)\n",
    "    elif test_size_type == \"i\":\n",
    "        n_test = float(test_size)\n",
    "\n",
    "    if train_size_type == \"f\":\n",
    "        n_train = floor(train_size * n_samples)\n",
    "    elif train_size_type == \"i\":\n",
    "        n_train = float(train_size)\n",
    "\n",
    "    if train_size is None:\n",
    "        n_train = n_samples - n_test\n",
    "    elif test_size is None:\n",
    "        n_test = n_samples - n_train\n",
    "\n",
    "    if n_train + n_test > n_samples:\n",
    "        raise ValueError(\n",
    "            \"The sum of train_size and test_size = %d, \"\n",
    "            \"should be smaller than the number of \"\n",
    "            \"samples %d. Reduce test_size and/or \"\n",
    "            \"train_size.\" % (n_train + n_test, n_samples)\n",
    "        )\n",
    "\n",
    "    n_train, n_test = int(n_train), int(n_test)\n",
    "\n",
    "    if n_train == 0:\n",
    "        raise ValueError(\n",
    "            \"With n_samples={}, test_size={} and train_size={}, the \"\n",
    "            \"resulting train set will be empty. Adjust any of the \"\n",
    "            \"aforementioned parameters.\".format(n_samples, test_size, train_size)\n",
    "        )\n",
    "\n",
    "    return n_train, n_test"
   ],
   "outputs": [],
   "execution_count": 4
  },
  {
   "cell_type": "code",
   "metadata": {
    "ExecuteTime": {
     "end_time": "2024-10-15T07:47:32.380078Z",
     "start_time": "2024-10-15T07:47:32.368647Z"
    }
   },
   "source": [
    "# Redefine split function from sklearn for training and test set based on trajectories\n",
    "\n",
    "def train_test_split_traj(*arrays, test_size=None, train_size=None, random_state=None, shuffle=True, stratify=None, trajectory_col='trajectory_id'):\n",
    "\n",
    "    n_arrays = len(arrays)\n",
    "    if n_arrays == 0:\n",
    "        raise ValueError(\"At least one array required as input\")\n",
    "\n",
    "    arrays = indexable(*arrays)\n",
    "\n",
    "    # the first array should be the dataframe with trajectory column, otherwise raise error\n",
    "    if isinstance(arrays[0], pd.DataFrame) and trajectory_col in arrays[0].columns:\n",
    "        X_data = arrays[0]\n",
    "        unique_trajectories = X_data[trajectory_col].unique()\n",
    "    else:\n",
    "        raise ValueError(f\"The first array must be a DataFrame containing the column '{trajectory_col}'.\")\n",
    "\n",
    "    n_trajectories = len(unique_trajectories)\n",
    "    \n",
    "    # determine number of trajectories for training and testing\n",
    "    n_train, n_test = _validate_shuffle_split(\n",
    "        n_trajectories, test_size, train_size, default_test_size=0.25\n",
    "    )\n",
    "\n",
    "    # shuffle trajectories if needed\n",
    "    if shuffle:\n",
    "        np.random.seed(random_state)\n",
    "        np.random.shuffle(unique_trajectories)\n",
    "\n",
    "    if stratify is not None:\n",
    "        raise ValueError(\"Stratified train/test split is not implemented for trajectories\")\n",
    "\n",
    "    # Split trajectories into training and test sets\n",
    "    train_trajectories = unique_trajectories[:n_train]\n",
    "    test_trajectories = unique_trajectories[n_train:n_train + n_test]\n",
    "\n",
    "    # Create masks for train and test trajectories\n",
    "    train_mask = X_data[trajectory_col].isin(train_trajectories)\n",
    "    test_mask = X_data[trajectory_col].isin(test_trajectories)\n",
    "\n",
    "    split_arrays = []\n",
    "    for array in arrays:\n",
    "        if isinstance(array, pd.DataFrame):\n",
    "            train_array = array[train_mask]\n",
    "            test_array = array[test_mask]\n",
    "        else:\n",
    "            train_array = array[train_mask.to_numpy()]\n",
    "            test_array = array[test_mask.to_numpy()]\n",
    "\n",
    "        split_arrays.extend([train_array, test_array])\n",
    "\n",
    "    return split_arrays\n"
   ],
   "outputs": [],
   "execution_count": 5
  },
  {
   "cell_type": "code",
   "metadata": {
    "ExecuteTime": {
     "end_time": "2024-10-15T07:47:32.407634Z",
     "start_time": "2024-10-15T07:47:32.395073Z"
    }
   },
   "source": [
    "# splits the dataset based on trajectories identified by the trajectory_id column into training, validation and test sets\n",
    "# this or the function before\n",
    "def train_validate_test_split(*arrays, test_size=None, validate_size=None, train_size=None, random_state=None, shuffle=True, trajectory_col='trajectory_id'):\n",
    "    n_arrays = len(arrays)\n",
    "    if n_arrays == 0:\n",
    "        raise ValueError(\"At least one array required as input\")\n",
    "\n",
    "    arrays = indexable(*arrays)\n",
    "\n",
    "    if isinstance(arrays[0], pd.DataFrame) and trajectory_col in arrays[0].columns:\n",
    "        X_data = arrays[0]\n",
    "        unique_trajectories = X_data[trajectory_col].unique()\n",
    "    else:\n",
    "        raise ValueError(f\"The first array must be a DataFrame containing the column '{trajectory_col}'.\")\n",
    "\n",
    "    n_trajectories = len(unique_trajectories)\n",
    "\n",
    "    # split the data into training and (validation + test)\n",
    "    n_train, n_temp = _validate_shuffle_split(\n",
    "        n_trajectories, test_size + validate_size, train_size, default_test_size=0.25\n",
    "    )\n",
    "\n",
    "    # shuffle trajectories if needed\n",
    "    if shuffle:\n",
    "        np.random.seed(random_state)\n",
    "        np.random.shuffle(unique_trajectories)\n",
    "\n",
    "    # split into train and temporary sets\n",
    "    train_trajectories = unique_trajectories[:n_train]\n",
    "    temp_trajectories = unique_trajectories[n_train:n_train + n_temp]\n",
    "\n",
    "    # further split temporary set into validation and test sets\n",
    "    n_validate = int(validate_size * n_trajectories)\n",
    "    validate_trajectories = temp_trajectories[:n_validate]\n",
    "    test_trajectories = temp_trajectories[n_validate:]\n",
    "\n",
    "    # create masks for train, validation and test trajectories\n",
    "    train_mask = X_data[trajectory_col].isin(train_trajectories)\n",
    "    validate_mask = X_data[trajectory_col].isin(validate_trajectories)\n",
    "    test_mask = X_data[trajectory_col].isin(test_trajectories)\n",
    "\n",
    "    split_arrays = []\n",
    "    for array in arrays:\n",
    "        if isinstance(array, pd.DataFrame):\n",
    "            train_array = array[train_mask]\n",
    "            validate_array = array[validate_mask]\n",
    "            test_array = array[test_mask]\n",
    "        else:\n",
    "            train_array = array[train_mask.to_numpy()]\n",
    "            validate_array = array[validate_mask.to_numpy()]\n",
    "            test_array = array[test_mask.to_numpy()]\n",
    "\n",
    "        split_arrays.extend([train_array, validate_array, test_array])\n",
    "\n",
    "    return split_arrays\n"
   ],
   "outputs": [],
   "execution_count": 6
  },
  {
   "cell_type": "markdown",
   "metadata": {},
   "source": [
    "## Task 1.1 Data Preparation and Validation Pipeline"
   ]
  },
  {
   "cell_type": "code",
   "metadata": {
    "ExecuteTime": {
     "end_time": "2024-10-15T07:47:52.911803Z",
     "start_time": "2024-10-15T07:47:32.428231Z"
    }
   },
   "source": [
    "#data = pd.read_csv('../mlNOVA/X_train.csv')\n",
    "data = pd.read_csv('X_train.csv')"
   ],
   "outputs": [],
   "execution_count": 7
  },
  {
   "cell_type": "code",
   "metadata": {
    "ExecuteTime": {
     "end_time": "2024-10-15T07:47:52.980955Z",
     "start_time": "2024-10-15T07:47:52.947492Z"
    }
   },
   "source": [
    "data.head()\n"
   ],
   "outputs": [
    {
     "data": {
      "text/plain": [
       "          t       x_1       y_1     v_x_1     v_y_1       x_2       y_2  \\\n",
       "0  0.000000  1.000000  0.000000  0.000000  0.000000 -0.266467  0.859196   \n",
       "1  0.039062  0.999548  0.000092 -0.023159  0.004731 -0.266261  0.858781   \n",
       "2  0.078125  0.998190  0.000370 -0.046362  0.009474 -0.265641  0.857535   \n",
       "3  0.117188  0.995925  0.000833 -0.069654  0.014239 -0.264606  0.855456   \n",
       "4  0.156250  0.992747  0.001483 -0.093080  0.019040 -0.263154  0.852540   \n",
       "\n",
       "      v_x_2     v_y_2       x_3       y_3     v_x_3     v_y_3  Id  \n",
       "0  0.000000  0.000000 -0.733533 -0.859196  0.000000  0.000000   0  \n",
       "1  0.010574 -0.021257 -0.733287 -0.858874  0.012584  0.016526   1  \n",
       "2  0.021172 -0.042552 -0.732549 -0.857905  0.025189  0.033078   2  \n",
       "3  0.031817 -0.063924 -0.731318 -0.856289  0.037837  0.049685   3  \n",
       "4  0.042533 -0.085412 -0.729592 -0.854022  0.050548  0.066372   4  "
      ],
      "text/html": [
       "<div>\n",
       "<style scoped>\n",
       "    .dataframe tbody tr th:only-of-type {\n",
       "        vertical-align: middle;\n",
       "    }\n",
       "\n",
       "    .dataframe tbody tr th {\n",
       "        vertical-align: top;\n",
       "    }\n",
       "\n",
       "    .dataframe thead th {\n",
       "        text-align: right;\n",
       "    }\n",
       "</style>\n",
       "<table border=\"1\" class=\"dataframe\">\n",
       "  <thead>\n",
       "    <tr style=\"text-align: right;\">\n",
       "      <th></th>\n",
       "      <th>t</th>\n",
       "      <th>x_1</th>\n",
       "      <th>y_1</th>\n",
       "      <th>v_x_1</th>\n",
       "      <th>v_y_1</th>\n",
       "      <th>x_2</th>\n",
       "      <th>y_2</th>\n",
       "      <th>v_x_2</th>\n",
       "      <th>v_y_2</th>\n",
       "      <th>x_3</th>\n",
       "      <th>y_3</th>\n",
       "      <th>v_x_3</th>\n",
       "      <th>v_y_3</th>\n",
       "      <th>Id</th>\n",
       "    </tr>\n",
       "  </thead>\n",
       "  <tbody>\n",
       "    <tr>\n",
       "      <th>0</th>\n",
       "      <td>0.000000</td>\n",
       "      <td>1.000000</td>\n",
       "      <td>0.000000</td>\n",
       "      <td>0.000000</td>\n",
       "      <td>0.000000</td>\n",
       "      <td>-0.266467</td>\n",
       "      <td>0.859196</td>\n",
       "      <td>0.000000</td>\n",
       "      <td>0.000000</td>\n",
       "      <td>-0.733533</td>\n",
       "      <td>-0.859196</td>\n",
       "      <td>0.000000</td>\n",
       "      <td>0.000000</td>\n",
       "      <td>0</td>\n",
       "    </tr>\n",
       "    <tr>\n",
       "      <th>1</th>\n",
       "      <td>0.039062</td>\n",
       "      <td>0.999548</td>\n",
       "      <td>0.000092</td>\n",
       "      <td>-0.023159</td>\n",
       "      <td>0.004731</td>\n",
       "      <td>-0.266261</td>\n",
       "      <td>0.858781</td>\n",
       "      <td>0.010574</td>\n",
       "      <td>-0.021257</td>\n",
       "      <td>-0.733287</td>\n",
       "      <td>-0.858874</td>\n",
       "      <td>0.012584</td>\n",
       "      <td>0.016526</td>\n",
       "      <td>1</td>\n",
       "    </tr>\n",
       "    <tr>\n",
       "      <th>2</th>\n",
       "      <td>0.078125</td>\n",
       "      <td>0.998190</td>\n",
       "      <td>0.000370</td>\n",
       "      <td>-0.046362</td>\n",
       "      <td>0.009474</td>\n",
       "      <td>-0.265641</td>\n",
       "      <td>0.857535</td>\n",
       "      <td>0.021172</td>\n",
       "      <td>-0.042552</td>\n",
       "      <td>-0.732549</td>\n",
       "      <td>-0.857905</td>\n",
       "      <td>0.025189</td>\n",
       "      <td>0.033078</td>\n",
       "      <td>2</td>\n",
       "    </tr>\n",
       "    <tr>\n",
       "      <th>3</th>\n",
       "      <td>0.117188</td>\n",
       "      <td>0.995925</td>\n",
       "      <td>0.000833</td>\n",
       "      <td>-0.069654</td>\n",
       "      <td>0.014239</td>\n",
       "      <td>-0.264606</td>\n",
       "      <td>0.855456</td>\n",
       "      <td>0.031817</td>\n",
       "      <td>-0.063924</td>\n",
       "      <td>-0.731318</td>\n",
       "      <td>-0.856289</td>\n",
       "      <td>0.037837</td>\n",
       "      <td>0.049685</td>\n",
       "      <td>3</td>\n",
       "    </tr>\n",
       "    <tr>\n",
       "      <th>4</th>\n",
       "      <td>0.156250</td>\n",
       "      <td>0.992747</td>\n",
       "      <td>0.001483</td>\n",
       "      <td>-0.093080</td>\n",
       "      <td>0.019040</td>\n",
       "      <td>-0.263154</td>\n",
       "      <td>0.852540</td>\n",
       "      <td>0.042533</td>\n",
       "      <td>-0.085412</td>\n",
       "      <td>-0.729592</td>\n",
       "      <td>-0.854022</td>\n",
       "      <td>0.050548</td>\n",
       "      <td>0.066372</td>\n",
       "      <td>4</td>\n",
       "    </tr>\n",
       "  </tbody>\n",
       "</table>\n",
       "</div>"
      ]
     },
     "execution_count": 8,
     "metadata": {},
     "output_type": "execute_result"
    }
   ],
   "execution_count": 8
  },
  {
   "cell_type": "code",
   "metadata": {
    "ExecuteTime": {
     "end_time": "2024-10-15T07:47:53.119104Z",
     "start_time": "2024-10-15T07:47:53.092402Z"
    }
   },
   "source": [
    "data.loc[255:260]"
   ],
   "outputs": [
    {
     "data": {
      "text/plain": [
       "             t       x_1       y_1     v_x_1     v_y_1       x_2       y_2  \\\n",
       "255   9.960940  1.491492  1.199018 -0.063145  0.595242  1.018416  1.248499   \n",
       "256  10.000000  1.485476  1.222565 -0.250131  0.609230  1.048258  1.246830   \n",
       "257   0.000000  1.000000  0.000000  0.000000  0.000000 -0.176502  0.555739   \n",
       "258   0.039062  0.999392  0.000131 -0.031160  0.006723 -0.176326  0.555148   \n",
       "259   0.078125  0.997564  0.000525 -0.062415  0.013460 -0.175799  0.553372   \n",
       "260   0.117188  0.994513  0.001183 -0.093859  0.020224 -0.174920  0.550408   \n",
       "\n",
       "        v_x_2     v_y_2       x_3       y_3     v_x_3     v_y_3   Id  \n",
       "255  0.674080 -0.034194 -2.509908 -2.447517 -0.610936 -0.561048  255  \n",
       "256  0.859066 -0.050144 -2.533734 -2.469395 -0.608935 -0.559086  256  \n",
       "257  0.000000  0.000000 -0.823498 -0.555739  0.000000  0.000000  257  \n",
       "258  0.008985 -0.030279 -0.823065 -0.555279  0.022176  0.023556  258  \n",
       "259  0.017992 -0.060639 -0.821765 -0.553898  0.044423  0.047179  259  \n",
       "260  0.027043 -0.091163 -0.819593 -0.551591  0.066816  0.070939  260  "
      ],
      "text/html": [
       "<div>\n",
       "<style scoped>\n",
       "    .dataframe tbody tr th:only-of-type {\n",
       "        vertical-align: middle;\n",
       "    }\n",
       "\n",
       "    .dataframe tbody tr th {\n",
       "        vertical-align: top;\n",
       "    }\n",
       "\n",
       "    .dataframe thead th {\n",
       "        text-align: right;\n",
       "    }\n",
       "</style>\n",
       "<table border=\"1\" class=\"dataframe\">\n",
       "  <thead>\n",
       "    <tr style=\"text-align: right;\">\n",
       "      <th></th>\n",
       "      <th>t</th>\n",
       "      <th>x_1</th>\n",
       "      <th>y_1</th>\n",
       "      <th>v_x_1</th>\n",
       "      <th>v_y_1</th>\n",
       "      <th>x_2</th>\n",
       "      <th>y_2</th>\n",
       "      <th>v_x_2</th>\n",
       "      <th>v_y_2</th>\n",
       "      <th>x_3</th>\n",
       "      <th>y_3</th>\n",
       "      <th>v_x_3</th>\n",
       "      <th>v_y_3</th>\n",
       "      <th>Id</th>\n",
       "    </tr>\n",
       "  </thead>\n",
       "  <tbody>\n",
       "    <tr>\n",
       "      <th>255</th>\n",
       "      <td>9.960940</td>\n",
       "      <td>1.491492</td>\n",
       "      <td>1.199018</td>\n",
       "      <td>-0.063145</td>\n",
       "      <td>0.595242</td>\n",
       "      <td>1.018416</td>\n",
       "      <td>1.248499</td>\n",
       "      <td>0.674080</td>\n",
       "      <td>-0.034194</td>\n",
       "      <td>-2.509908</td>\n",
       "      <td>-2.447517</td>\n",
       "      <td>-0.610936</td>\n",
       "      <td>-0.561048</td>\n",
       "      <td>255</td>\n",
       "    </tr>\n",
       "    <tr>\n",
       "      <th>256</th>\n",
       "      <td>10.000000</td>\n",
       "      <td>1.485476</td>\n",
       "      <td>1.222565</td>\n",
       "      <td>-0.250131</td>\n",
       "      <td>0.609230</td>\n",
       "      <td>1.048258</td>\n",
       "      <td>1.246830</td>\n",
       "      <td>0.859066</td>\n",
       "      <td>-0.050144</td>\n",
       "      <td>-2.533734</td>\n",
       "      <td>-2.469395</td>\n",
       "      <td>-0.608935</td>\n",
       "      <td>-0.559086</td>\n",
       "      <td>256</td>\n",
       "    </tr>\n",
       "    <tr>\n",
       "      <th>257</th>\n",
       "      <td>0.000000</td>\n",
       "      <td>1.000000</td>\n",
       "      <td>0.000000</td>\n",
       "      <td>0.000000</td>\n",
       "      <td>0.000000</td>\n",
       "      <td>-0.176502</td>\n",
       "      <td>0.555739</td>\n",
       "      <td>0.000000</td>\n",
       "      <td>0.000000</td>\n",
       "      <td>-0.823498</td>\n",
       "      <td>-0.555739</td>\n",
       "      <td>0.000000</td>\n",
       "      <td>0.000000</td>\n",
       "      <td>257</td>\n",
       "    </tr>\n",
       "    <tr>\n",
       "      <th>258</th>\n",
       "      <td>0.039062</td>\n",
       "      <td>0.999392</td>\n",
       "      <td>0.000131</td>\n",
       "      <td>-0.031160</td>\n",
       "      <td>0.006723</td>\n",
       "      <td>-0.176326</td>\n",
       "      <td>0.555148</td>\n",
       "      <td>0.008985</td>\n",
       "      <td>-0.030279</td>\n",
       "      <td>-0.823065</td>\n",
       "      <td>-0.555279</td>\n",
       "      <td>0.022176</td>\n",
       "      <td>0.023556</td>\n",
       "      <td>258</td>\n",
       "    </tr>\n",
       "    <tr>\n",
       "      <th>259</th>\n",
       "      <td>0.078125</td>\n",
       "      <td>0.997564</td>\n",
       "      <td>0.000525</td>\n",
       "      <td>-0.062415</td>\n",
       "      <td>0.013460</td>\n",
       "      <td>-0.175799</td>\n",
       "      <td>0.553372</td>\n",
       "      <td>0.017992</td>\n",
       "      <td>-0.060639</td>\n",
       "      <td>-0.821765</td>\n",
       "      <td>-0.553898</td>\n",
       "      <td>0.044423</td>\n",
       "      <td>0.047179</td>\n",
       "      <td>259</td>\n",
       "    </tr>\n",
       "    <tr>\n",
       "      <th>260</th>\n",
       "      <td>0.117188</td>\n",
       "      <td>0.994513</td>\n",
       "      <td>0.001183</td>\n",
       "      <td>-0.093859</td>\n",
       "      <td>0.020224</td>\n",
       "      <td>-0.174920</td>\n",
       "      <td>0.550408</td>\n",
       "      <td>0.027043</td>\n",
       "      <td>-0.091163</td>\n",
       "      <td>-0.819593</td>\n",
       "      <td>-0.551591</td>\n",
       "      <td>0.066816</td>\n",
       "      <td>0.070939</td>\n",
       "      <td>260</td>\n",
       "    </tr>\n",
       "  </tbody>\n",
       "</table>\n",
       "</div>"
      ]
     },
     "execution_count": 9,
     "metadata": {},
     "output_type": "execute_result"
    }
   ],
   "execution_count": 9
  },
  {
   "cell_type": "code",
   "metadata": {
    "ExecuteTime": {
     "end_time": "2024-10-15T07:47:53.316577Z",
     "start_time": "2024-10-15T07:47:53.289461Z"
    }
   },
   "source": [
    "# find the indices where a new trajectory starts\n",
    "idx = np.hstack((0, data[data.t == 10].index.values + 1))[:-1]"
   ],
   "outputs": [],
   "execution_count": 10
  },
  {
   "cell_type": "code",
   "metadata": {
    "ExecuteTime": {
     "end_time": "2024-10-15T07:47:53.920317Z",
     "start_time": "2024-10-15T07:47:53.548868Z"
    }
   },
   "source": [
    "# plot a random trajectory \n",
    "\n",
    "k = np.random.randint(idx.shape[0])\n",
    "pltidx = range(idx[k], 257 + idx[k])\n",
    "pltsquare = idx[k]\n",
    "\n",
    "plt.plot(data.x_1[pltidx], data.y_1[pltidx])\n",
    "plt.plot(data.x_2[pltidx], data.y_2[pltidx])\n",
    "plt.plot(data.x_3[pltidx], data.y_3[pltidx])\n",
    "\n",
    "plt.plot(data.x_1[pltsquare], data.y_1[pltsquare], 'ro')\n",
    "plt.plot(data.x_2[pltsquare], data.y_2[pltsquare], 'ro')\n",
    "plt.plot(data.x_3[pltsquare], data.y_3[pltsquare], 'ro')"
   ],
   "outputs": [
    {
     "data": {
      "text/plain": [
       "[<matplotlib.lines.Line2D at 0x135817fb0>]"
      ]
     },
     "execution_count": 11,
     "metadata": {},
     "output_type": "execute_result"
    },
    {
     "data": {
      "text/plain": [
       "<Figure size 640x480 with 1 Axes>"
      ],
      "image/png": "[encoded data removed]"
     },
     "metadata": {},
     "output_type": "display_data"
    }
   ],
   "execution_count": 11
  },
  {
   "cell_type": "code",
   "metadata": {
    "ExecuteTime": {
     "end_time": "2024-10-15T07:47:54.134856Z",
     "start_time": "2024-10-15T07:47:54.059452Z"
    }
   },
   "source": [
    "# drop Id column as it is unnecessary for the model\n",
    "data_cleaned = data.drop(columns=['Id','v_x_1', 'v_y_1', 'v_x_2', 'v_y_2', 'v_x_3', 'v_y_3'])"
   ],
   "outputs": [],
   "execution_count": 12
  },
  {
   "cell_type": "code",
   "metadata": {
    "ExecuteTime": {
     "end_time": "2024-10-15T07:48:00.424609Z",
     "start_time": "2024-10-15T07:47:54.316404Z"
    }
   },
   "source": [
    "# Extract the X data and bring it into a form such that you have the initial conditions \n",
    "# along with the time t at which y describes the current x and y positions\n",
    "\n",
    "X_data = data_cleaned.copy()\n",
    "for i in idx:\n",
    "    # select the first sample's column values in the current trajectory\n",
    "    x_1_value = data_cleaned.loc[i, 'x_1']\n",
    "    y_1_value = data_cleaned.loc[i, 'y_1']\n",
    "    x_2_value = data_cleaned.loc[i, 'x_2']\n",
    "    y_2_value = data_cleaned.loc[i, 'y_2']\n",
    "    x_3_value = data_cleaned.loc[i, 'x_3']\n",
    "    y_3_value = data_cleaned.loc[i, 'y_3']\n",
    "    \n",
    "    # update the column values for all 258 samples in this trajectory\n",
    "    X_data.loc[i:i+257, 'x_1'] = x_1_value\n",
    "    X_data.loc[i:i+257, 'y_1'] = y_1_value\n",
    "    X_data.loc[i:i+257, 'x_2'] = x_2_value\n",
    "    X_data.loc[i:i+257, 'y_2'] = y_2_value\n",
    "    X_data.loc[i:i+257, 'x_3'] = x_3_value\n",
    "    X_data.loc[i:i+257, 'y_3'] = y_3_value\n"
   ],
   "outputs": [],
   "execution_count": 13
  },
  {
   "cell_type": "code",
   "metadata": {
    "ExecuteTime": {
     "end_time": "2024-10-15T07:48:00.523617Z",
     "start_time": "2024-10-15T07:48:00.459336Z"
    }
   },
   "source": [
    "# copy the X_train data to obtain y_data dataframe which are the positions \n",
    "# and velocities of all three objects at a certain time t\n",
    "y_data = data_cleaned.copy()"
   ],
   "outputs": [],
   "execution_count": 14
  },
  {
   "cell_type": "code",
   "metadata": {
    "ExecuteTime": {
     "end_time": "2024-10-15T07:48:04.633403Z",
     "start_time": "2024-10-15T07:48:00.570138Z"
    }
   },
   "source": [
    "# add a trajectory_id flag such that the data can be split into trajectories (function is defined above)\n",
    "X_data_traj = transform_to_trajectories_dataframe(X_data, idx)\n",
    "y_data_traj = transform_to_trajectories_dataframe(y_data, idx)\n"
   ],
   "outputs": [],
   "execution_count": 15
  },
  {
   "cell_type": "code",
   "metadata": {
    "ExecuteTime": {
     "end_time": "2024-10-15T07:48:05.073093Z",
     "start_time": "2024-10-15T07:48:04.686107Z"
    }
   },
   "source": [
    "# remove trajectories with duplicated initial positions (function is defined above)\n",
    "cleaned_X_data = remove_duplicated_trajectories(X_data_traj, trajectory_col='trajectory_id')\n",
    "cleaned_y_data = remove_duplicated_trajectories(y_data_traj, trajectory_col='trajectory_id')"
   ],
   "outputs": [
    {
     "name": "stdout",
     "output_type": "stream",
     "text": [
      "Found 1 duplicated first samples with indices Index([3297], dtype='int64').\n",
      "Found 1 duplicated first samples with indices Index([3297], dtype='int64').\n"
     ]
    }
   ],
   "execution_count": 16
  },
  {
   "cell_type": "code",
   "metadata": {
    "ExecuteTime": {
     "end_time": "2024-10-15T07:48:05.401138Z",
     "start_time": "2024-10-15T07:48:05.138243Z"
    }
   },
   "source": [
    "# split data into training, validation and test sets with the training size of 80%, validation size of 10% and test size of 10% (function is defined above)\n",
    "X_train, X_val, X_test, y_train, y_val, y_test = train_validate_test_split(cleaned_X_data, cleaned_y_data, validate_size= 0.1, test_size=0.1)"
   ],
   "outputs": [],
   "execution_count": 17
  },
  {
   "cell_type": "markdown",
   "metadata": {},
   "source": [
    "Remove the trajectory_id column as it was only necessary for the splitting once with t in training and validation data, once without and once only in training data"
   ]
  },
  {
   "cell_type": "code",
   "metadata": {
    "ExecuteTime": {
     "end_time": "2024-10-15T07:48:05.486406Z",
     "start_time": "2024-10-15T07:48:05.481522Z"
    }
   },
   "source": [
    "# # Remove the trajectory_id column as it was only necessary for the splitting\n",
    "\n",
    "# X_train = X_train.drop(columns=['trajectory_id'])\n",
    "# X_val = X_val.drop(columns=['trajectory_id'])\n",
    "# X_test = X_test.drop(columns=['trajectory_id'])\n",
    "# y_train = y_train.drop(columns=['trajectory_id'])\n",
    "# y_val = y_val.drop(columns=['trajectory_id'])\n",
    "# y_test = y_test.drop(columns=['trajectory_id'])"
   ],
   "outputs": [],
   "execution_count": 18
  },
  {
   "cell_type": "code",
   "metadata": {
    "ExecuteTime": {
     "end_time": "2024-10-15T07:48:05.773881Z",
     "start_time": "2024-10-15T07:48:05.667389Z"
    }
   },
   "source": [
    "# Remove the trajectory_id column for all sets and t for the y_datasets\n",
    "# otherwise (the prediction will overfit) the RSME will be much different from kaggle\n",
    "\n",
    "X_train = X_train.drop(columns=['trajectory_id'])\n",
    "X_val = X_val.drop(columns=['trajectory_id'])\n",
    "X_test = X_test.drop(columns=['trajectory_id'])\n",
    "y_train = y_train.drop(columns=['trajectory_id', 't'])\n",
    "y_val = y_val.drop(columns=['trajectory_id', 't'])\n",
    "y_test = y_test.drop(columns=['trajectory_id', 't'])"
   ],
   "outputs": [],
   "execution_count": 19
  },
  {
   "cell_type": "code",
   "metadata": {
    "ExecuteTime": {
     "end_time": "2024-10-15T07:48:05.787402Z",
     "start_time": "2024-10-15T07:48:05.783156Z"
    }
   },
   "source": [
    "# X_train = X_train.drop(columns=['trajectory_id', 't'])\n",
    "# X_val = X_val.drop(columns=['trajectory_id', 't'])\n",
    "# X_test = X_test.drop(columns=['trajectory_id', 't'])\n",
    "# y_train = y_train.drop(columns=['trajectory_id', 't'])\n",
    "# y_val = y_val.drop(columns=['trajectory_id', 't'])\n",
    "# y_test = y_test.drop(columns=['trajectory_id', 't'])"
   ],
   "outputs": [],
   "execution_count": 20
  },
  {
   "cell_type": "markdown",
   "metadata": {},
   "source": [
    "## 1.2 Learn the baseline model"
   ]
  },
  {
   "cell_type": "code",
   "metadata": {
    "ExecuteTime": {
     "end_time": "2024-10-15T07:48:06.769106Z",
     "start_time": "2024-10-15T07:48:05.886081Z"
    }
   },
   "source": [
    "# create pipeline with a standard scaler and a linear regression model\n",
    "pipeline = Pipeline(steps=[\n",
    "    ('scaler', StandardScaler()), \n",
    "    ('regressor', LinearRegression())  \n",
    "])\n",
    "\n",
    "\n",
    "pipeline.fit(X_train, y_train)\n",
    "pipeline['regressor'].score(X_train, y_train)\n",
    "#pipeline['regressor'].coef_\n",
    "#pipeline['regressor'].intercept_"
   ],
   "outputs": [
    {
     "name": "stderr",
     "output_type": "stream",
     "text": [
      "/Users/lari/opt/anaconda3/envs/ml/lib/python3.12/site-packages/sklearn/base.py:486: UserWarning: X has feature names, but LinearRegression was fitted without feature names\n",
      "  warnings.warn(\n"
     ]
    },
    {
     "data": {
      "text/plain": [
       "-2264978050496300.5"
      ]
     },
     "execution_count": 21,
     "metadata": {},
     "output_type": "execute_result"
    }
   ],
   "execution_count": 21
  },
  {
   "cell_type": "code",
   "metadata": {
    "ExecuteTime": {
     "end_time": "2024-10-15T07:48:06.906814Z",
     "start_time": "2024-10-15T07:48:06.880204Z"
    }
   },
   "source": [
    "# predict y values for the validation set\n",
    "y_val_pred = pipeline.predict(X_val)"
   ],
   "outputs": [],
   "execution_count": 22
  },
  {
   "cell_type": "code",
   "metadata": {
    "ExecuteTime": {
     "end_time": "2024-10-15T07:48:07.015946Z",
     "start_time": "2024-10-15T07:48:07.010439Z"
    }
   },
   "source": [
    "# # make a dataframe out of the true and predicted y values for the validation set to compare them\n",
    "# # and calculate the root mean squared error for the predicted values of the validation set \n",
    "# # in comparison to the true values and for that drop the velocities from the dataframe\n",
    "# y_val_pred_df = pd.DataFrame(y_val_pred, columns=X_val.columns)\n",
    "# y_val_pred_df.drop(columns=['t'], inplace=True)\n",
    "# y_val.drop(columns=['t'], inplace=True)\n",
    "# rmse = np.sqrt(mean_squared_error(y_val, y_val_pred_df))\n",
    "# print(f'Root Mean Squared Error: {rmse}')"
   ],
   "outputs": [],
   "execution_count": 23
  },
  {
   "cell_type": "code",
   "metadata": {
    "ExecuteTime": {
     "end_time": "2024-10-15T07:48:07.251952Z",
     "start_time": "2024-10-15T07:48:07.228923Z"
    }
   },
   "source": [
    "# make a dataframe out of the true and predicted y values for the validation set to compare them\n",
    "# and calculate the root mean squared error for the predicted values of the validation set \n",
    "# in comparison to the true values and for that drop the velocities from the dataframe\n",
    "X_val_without_t = X_val.copy()\n",
    "X_val_without_t = X_val_without_t.drop(columns=['t'])\n",
    "y_val_pred_df = pd.DataFrame(y_val_pred, columns=X_val_without_t.columns)\n",
    "rmse = np.sqrt(mean_squared_error(y_val, y_val_pred_df))\n",
    "print(f'Root Mean Squared Error: {rmse}')"
   ],
   "outputs": [
    {
     "name": "stdout",
     "output_type": "stream",
     "text": [
      "Root Mean Squared Error: 1.4458398277621305\n"
     ]
    }
   ],
   "execution_count": 24
  },
  {
   "cell_type": "code",
   "metadata": {
    "ExecuteTime": {
     "end_time": "2024-10-15T07:48:07.294700Z",
     "start_time": "2024-10-15T07:48:07.290073Z"
    }
   },
   "source": [
    "# # make a dataframe out of the true and predicted y values for the validation set to compare them\n",
    "# # and calculate the root mean squared error for the predicted values of the validation set \n",
    "# # in comparison to the true values and for that drop the velocities from the dataframe\n",
    "# y_val_pred_df = pd.DataFrame(y_val_pred, columns=X_val.columns)\n",
    "# rmse = np.sqrt(mean_squared_error(y_val, y_val_pred_df))\n",
    "# print(f'Root Mean Squared Error: {rmse}')"
   ],
   "outputs": [],
   "execution_count": 25
  },
  {
   "cell_type": "code",
   "metadata": {
    "ExecuteTime": {
     "end_time": "2024-10-15T07:48:07.452395Z",
     "start_time": "2024-10-15T07:48:07.435153Z"
    }
   },
   "source": [
    "y_val_pred_df.head()"
   ],
   "outputs": [
    {
     "data": {
      "text/plain": [
       "        x_1       y_1       x_2       y_2       x_3       y_3\n",
       "0  0.511674  0.011738 -0.124526  0.107479 -0.387148 -0.119218\n",
       "1  0.506629  0.011180 -0.124095  0.104993 -0.382534 -0.116173\n",
       "2  0.501583  0.010621 -0.123663  0.102507 -0.377920 -0.113129\n",
       "3  0.496538  0.010063 -0.123231  0.100021 -0.373307 -0.110084\n",
       "4  0.491493  0.009505 -0.122800  0.097535 -0.368693 -0.107039"
      ],
      "text/html": [
       "<div>\n",
       "<style scoped>\n",
       "    .dataframe tbody tr th:only-of-type {\n",
       "        vertical-align: middle;\n",
       "    }\n",
       "\n",
       "    .dataframe tbody tr th {\n",
       "        vertical-align: top;\n",
       "    }\n",
       "\n",
       "    .dataframe thead th {\n",
       "        text-align: right;\n",
       "    }\n",
       "</style>\n",
       "<table border=\"1\" class=\"dataframe\">\n",
       "  <thead>\n",
       "    <tr style=\"text-align: right;\">\n",
       "      <th></th>\n",
       "      <th>x_1</th>\n",
       "      <th>y_1</th>\n",
       "      <th>x_2</th>\n",
       "      <th>y_2</th>\n",
       "      <th>x_3</th>\n",
       "      <th>y_3</th>\n",
       "    </tr>\n",
       "  </thead>\n",
       "  <tbody>\n",
       "    <tr>\n",
       "      <th>0</th>\n",
       "      <td>0.511674</td>\n",
       "      <td>0.011738</td>\n",
       "      <td>-0.124526</td>\n",
       "      <td>0.107479</td>\n",
       "      <td>-0.387148</td>\n",
       "      <td>-0.119218</td>\n",
       "    </tr>\n",
       "    <tr>\n",
       "      <th>1</th>\n",
       "      <td>0.506629</td>\n",
       "      <td>0.011180</td>\n",
       "      <td>-0.124095</td>\n",
       "      <td>0.104993</td>\n",
       "      <td>-0.382534</td>\n",
       "      <td>-0.116173</td>\n",
       "    </tr>\n",
       "    <tr>\n",
       "      <th>2</th>\n",
       "      <td>0.501583</td>\n",
       "      <td>0.010621</td>\n",
       "      <td>-0.123663</td>\n",
       "      <td>0.102507</td>\n",
       "      <td>-0.377920</td>\n",
       "      <td>-0.113129</td>\n",
       "    </tr>\n",
       "    <tr>\n",
       "      <th>3</th>\n",
       "      <td>0.496538</td>\n",
       "      <td>0.010063</td>\n",
       "      <td>-0.123231</td>\n",
       "      <td>0.100021</td>\n",
       "      <td>-0.373307</td>\n",
       "      <td>-0.110084</td>\n",
       "    </tr>\n",
       "    <tr>\n",
       "      <th>4</th>\n",
       "      <td>0.491493</td>\n",
       "      <td>0.009505</td>\n",
       "      <td>-0.122800</td>\n",
       "      <td>0.097535</td>\n",
       "      <td>-0.368693</td>\n",
       "      <td>-0.107039</td>\n",
       "    </tr>\n",
       "  </tbody>\n",
       "</table>\n",
       "</div>"
      ]
     },
     "execution_count": 26,
     "metadata": {},
     "output_type": "execute_result"
    }
   ],
   "execution_count": 26
  },
  {
   "cell_type": "code",
   "metadata": {
    "ExecuteTime": {
     "end_time": "2024-10-15T07:48:07.618105Z",
     "start_time": "2024-10-15T07:48:07.609006Z"
    }
   },
   "source": [
    "# function to plot the true values against the predicted values for the validation set\n",
    "\n",
    "def plot_y_yhat(y_val,y_pred, plot_title = \"plot\"):\n",
    "    labels = ['x_1','y_1','x_2','y_2','x_3','y_3']\n",
    "    MAX = 500\n",
    "    if len(y_val) > MAX:\n",
    "        idx = np.random.choice(len(y_val),MAX, replace=False)\n",
    "    else:\n",
    "        idx = np.arange(len(y_val))\n",
    "    \n",
    "    plt.figure(figsize=(10,10))\n",
    "    for i in range(6):\n",
    "        x0 = np.min(y_val[idx,i])\n",
    "        x1 = np.max(y_val[idx,i])\n",
    "        plt.subplot(3, 2, i+1)\n",
    "        plt.scatter(y_val[idx,i],y_pred[idx,i])\n",
    "        plt.xlabel('True '+labels[i])\n",
    "        plt.ylabel('Predicted '+labels[i])\n",
    "        plt.plot([x0,x1],[x0,x1],color='red')\n",
    "        plt.axis('square')\n",
    "    #plt.savefig(plot_title+'.pdf')\n",
    "    plt.show()"
   ],
   "outputs": [],
   "execution_count": 27
  },
  {
   "cell_type": "code",
   "metadata": {
    "ExecuteTime": {
     "end_time": "2024-10-15T07:48:09.448453Z",
     "start_time": "2024-10-15T07:48:07.703079Z"
    }
   },
   "source": [
    "# make a numpy array out of y_val and plot it against the predicted values with the function above\n",
    "y_val_np = y_val.to_numpy()\n",
    "y_pred_np = y_val_pred_df.to_numpy()\n",
    "plot_y_yhat(y_val_np,y_val_pred)"
   ],
   "outputs": [
    {
     "data": {
      "text/plain": [
       "<Figure size 1000x1000 with 6 Axes>"
      ],
      "image/png": "[encoded data removed]"
     },
     "metadata": {},
     "output_type": "display_data"
    }
   ],
   "execution_count": 28
  },
  {
   "cell_type": "code",
   "metadata": {
    "ExecuteTime": {
     "end_time": "2024-10-15T07:48:11.892055Z",
     "start_time": "2024-10-15T07:48:09.496207Z"
    }
   },
   "source": [
    "# bring the data that we should apply the model on in the right format\n",
    "# and predict the y values with our model\n",
    "data2 = pd.read_csv('../mlNOVA/X_test.csv')\n",
    "\n",
    "data2['x_1'] = data2['x0_1']\n",
    "data2['y_1'] = data2['y0_1']\n",
    "data2['x_2'] = data2['x0_2']\n",
    "data2['y_2'] = data2['y0_2']\n",
    "data2['x_3'] = data2['x0_3']\n",
    "data2['y_3'] = data2['y0_3']\n",
    "\n",
    "data2 = data2.drop(columns=['Id', 'x0_1', 'y0_1', 'x0_2', 'y0_2', 'x0_3', 'y0_3'])\n",
    "\n",
    "\n",
    "y_data2 = pipeline.predict(data2)\n",
    "\n",
    "# save y values for the data we should test the model on in the right format for kaggle\n",
    "y_data2 = pd.DataFrame(y_data2, columns=X_val_without_t.columns)\n",
    "y_data2['id'] = y_data2.index\n",
    "\n",
    "columns_titles = ['id', 'x_1', 'y_1', 'x_2', 'y_2',\n",
    "       'x_3', 'y_3'] \n",
    "y_data2=y_data2.reindex(columns=columns_titles)\n",
    "y_data2.to_csv('sample_submission.csv',index=False)"
   ],
   "outputs": [
    {
     "ename": "FileNotFoundError",
     "evalue": "[Errno 2] No such file or directory: '../mlNOVA/X_test.csv'",
     "output_type": "error",
     "traceback": [
      "\u001B[0;31m---------------------------------------------------------------------------\u001B[0m",
      "\u001B[0;31mFileNotFoundError\u001B[0m                         Traceback (most recent call last)",
      "Cell \u001B[0;32mIn[29], line 3\u001B[0m\n\u001B[1;32m      1\u001B[0m \u001B[38;5;66;03m# bring the data that we should apply the model on in the right format\u001B[39;00m\n\u001B[1;32m      2\u001B[0m \u001B[38;5;66;03m# and predict the y values with our model\u001B[39;00m\n\u001B[0;32m----> 3\u001B[0m data2 \u001B[38;5;241m=\u001B[39m pd\u001B[38;5;241m.\u001B[39mread_csv(\u001B[38;5;124m'\u001B[39m\u001B[38;5;124m../mlNOVA/X_test.csv\u001B[39m\u001B[38;5;124m'\u001B[39m)\n\u001B[1;32m      5\u001B[0m data2[\u001B[38;5;124m'\u001B[39m\u001B[38;5;124mx_1\u001B[39m\u001B[38;5;124m'\u001B[39m] \u001B[38;5;241m=\u001B[39m data2[\u001B[38;5;124m'\u001B[39m\u001B[38;5;124mx0_1\u001B[39m\u001B[38;5;124m'\u001B[39m]\n\u001B[1;32m      6\u001B[0m data2[\u001B[38;5;124m'\u001B[39m\u001B[38;5;124my_1\u001B[39m\u001B[38;5;124m'\u001B[39m] \u001B[38;5;241m=\u001B[39m data2[\u001B[38;5;124m'\u001B[39m\u001B[38;5;124my0_1\u001B[39m\u001B[38;5;124m'\u001B[39m]\n",
      "File \u001B[0;32m~/opt/anaconda3/envs/ml/lib/python3.12/site-packages/pandas/io/parsers/readers.py:1026\u001B[0m, in \u001B[0;36mread_csv\u001B[0;34m(filepath_or_buffer, sep, delimiter, header, names, index_col, usecols, dtype, engine, converters, true_values, false_values, skipinitialspace, skiprows, skipfooter, nrows, na_values, keep_default_na, na_filter, verbose, skip_blank_lines, parse_dates, infer_datetime_format, keep_date_col, date_parser, date_format, dayfirst, cache_dates, iterator, chunksize, compression, thousands, decimal, lineterminator, quotechar, quoting, doublequote, escapechar, comment, encoding, encoding_errors, dialect, on_bad_lines, delim_whitespace, low_memory, memory_map, float_precision, storage_options, dtype_backend)\u001B[0m\n\u001B[1;32m   1013\u001B[0m kwds_defaults \u001B[38;5;241m=\u001B[39m _refine_defaults_read(\n\u001B[1;32m   1014\u001B[0m     dialect,\n\u001B[1;32m   1015\u001B[0m     delimiter,\n\u001B[0;32m   (...)\u001B[0m\n\u001B[1;32m   1022\u001B[0m     dtype_backend\u001B[38;5;241m=\u001B[39mdtype_backend,\n\u001B[1;32m   1023\u001B[0m )\n\u001B[1;32m   1024\u001B[0m kwds\u001B[38;5;241m.\u001B[39mupdate(kwds_defaults)\n\u001B[0;32m-> 1026\u001B[0m \u001B[38;5;28;01mreturn\u001B[39;00m _read(filepath_or_buffer, kwds)\n",
      "File \u001B[0;32m~/opt/anaconda3/envs/ml/lib/python3.12/site-packages/pandas/io/parsers/readers.py:620\u001B[0m, in \u001B[0;36m_read\u001B[0;34m(filepath_or_buffer, kwds)\u001B[0m\n\u001B[1;32m    617\u001B[0m _validate_names(kwds\u001B[38;5;241m.\u001B[39mget(\u001B[38;5;124m\"\u001B[39m\u001B[38;5;124mnames\u001B[39m\u001B[38;5;124m\"\u001B[39m, \u001B[38;5;28;01mNone\u001B[39;00m))\n\u001B[1;32m    619\u001B[0m \u001B[38;5;66;03m# Create the parser.\u001B[39;00m\n\u001B[0;32m--> 620\u001B[0m parser \u001B[38;5;241m=\u001B[39m TextFileReader(filepath_or_buffer, \u001B[38;5;241m*\u001B[39m\u001B[38;5;241m*\u001B[39mkwds)\n\u001B[1;32m    622\u001B[0m \u001B[38;5;28;01mif\u001B[39;00m chunksize \u001B[38;5;129;01mor\u001B[39;00m iterator:\n\u001B[1;32m    623\u001B[0m     \u001B[38;5;28;01mreturn\u001B[39;00m parser\n",
      "File \u001B[0;32m~/opt/anaconda3/envs/ml/lib/python3.12/site-packages/pandas/io/parsers/readers.py:1620\u001B[0m, in \u001B[0;36mTextFileReader.__init__\u001B[0;34m(self, f, engine, **kwds)\u001B[0m\n\u001B[1;32m   1617\u001B[0m     \u001B[38;5;28mself\u001B[39m\u001B[38;5;241m.\u001B[39moptions[\u001B[38;5;124m\"\u001B[39m\u001B[38;5;124mhas_index_names\u001B[39m\u001B[38;5;124m\"\u001B[39m] \u001B[38;5;241m=\u001B[39m kwds[\u001B[38;5;124m\"\u001B[39m\u001B[38;5;124mhas_index_names\u001B[39m\u001B[38;5;124m\"\u001B[39m]\n\u001B[1;32m   1619\u001B[0m \u001B[38;5;28mself\u001B[39m\u001B[38;5;241m.\u001B[39mhandles: IOHandles \u001B[38;5;241m|\u001B[39m \u001B[38;5;28;01mNone\u001B[39;00m \u001B[38;5;241m=\u001B[39m \u001B[38;5;28;01mNone\u001B[39;00m\n\u001B[0;32m-> 1620\u001B[0m \u001B[38;5;28mself\u001B[39m\u001B[38;5;241m.\u001B[39m_engine \u001B[38;5;241m=\u001B[39m \u001B[38;5;28mself\u001B[39m\u001B[38;5;241m.\u001B[39m_make_engine(f, \u001B[38;5;28mself\u001B[39m\u001B[38;5;241m.\u001B[39mengine)\n",
      "File \u001B[0;32m~/opt/anaconda3/envs/ml/lib/python3.12/site-packages/pandas/io/parsers/readers.py:1880\u001B[0m, in \u001B[0;36mTextFileReader._make_engine\u001B[0;34m(self, f, engine)\u001B[0m\n\u001B[1;32m   1878\u001B[0m     \u001B[38;5;28;01mif\u001B[39;00m \u001B[38;5;124m\"\u001B[39m\u001B[38;5;124mb\u001B[39m\u001B[38;5;124m\"\u001B[39m \u001B[38;5;129;01mnot\u001B[39;00m \u001B[38;5;129;01min\u001B[39;00m mode:\n\u001B[1;32m   1879\u001B[0m         mode \u001B[38;5;241m+\u001B[39m\u001B[38;5;241m=\u001B[39m \u001B[38;5;124m\"\u001B[39m\u001B[38;5;124mb\u001B[39m\u001B[38;5;124m\"\u001B[39m\n\u001B[0;32m-> 1880\u001B[0m \u001B[38;5;28mself\u001B[39m\u001B[38;5;241m.\u001B[39mhandles \u001B[38;5;241m=\u001B[39m get_handle(\n\u001B[1;32m   1881\u001B[0m     f,\n\u001B[1;32m   1882\u001B[0m     mode,\n\u001B[1;32m   1883\u001B[0m     encoding\u001B[38;5;241m=\u001B[39m\u001B[38;5;28mself\u001B[39m\u001B[38;5;241m.\u001B[39moptions\u001B[38;5;241m.\u001B[39mget(\u001B[38;5;124m\"\u001B[39m\u001B[38;5;124mencoding\u001B[39m\u001B[38;5;124m\"\u001B[39m, \u001B[38;5;28;01mNone\u001B[39;00m),\n\u001B[1;32m   1884\u001B[0m     compression\u001B[38;5;241m=\u001B[39m\u001B[38;5;28mself\u001B[39m\u001B[38;5;241m.\u001B[39moptions\u001B[38;5;241m.\u001B[39mget(\u001B[38;5;124m\"\u001B[39m\u001B[38;5;124mcompression\u001B[39m\u001B[38;5;124m\"\u001B[39m, \u001B[38;5;28;01mNone\u001B[39;00m),\n\u001B[1;32m   1885\u001B[0m     memory_map\u001B[38;5;241m=\u001B[39m\u001B[38;5;28mself\u001B[39m\u001B[38;5;241m.\u001B[39moptions\u001B[38;5;241m.\u001B[39mget(\u001B[38;5;124m\"\u001B[39m\u001B[38;5;124mmemory_map\u001B[39m\u001B[38;5;124m\"\u001B[39m, \u001B[38;5;28;01mFalse\u001B[39;00m),\n\u001B[1;32m   1886\u001B[0m     is_text\u001B[38;5;241m=\u001B[39mis_text,\n\u001B[1;32m   1887\u001B[0m     errors\u001B[38;5;241m=\u001B[39m\u001B[38;5;28mself\u001B[39m\u001B[38;5;241m.\u001B[39moptions\u001B[38;5;241m.\u001B[39mget(\u001B[38;5;124m\"\u001B[39m\u001B[38;5;124mencoding_errors\u001B[39m\u001B[38;5;124m\"\u001B[39m, \u001B[38;5;124m\"\u001B[39m\u001B[38;5;124mstrict\u001B[39m\u001B[38;5;124m\"\u001B[39m),\n\u001B[1;32m   1888\u001B[0m     storage_options\u001B[38;5;241m=\u001B[39m\u001B[38;5;28mself\u001B[39m\u001B[38;5;241m.\u001B[39moptions\u001B[38;5;241m.\u001B[39mget(\u001B[38;5;124m\"\u001B[39m\u001B[38;5;124mstorage_options\u001B[39m\u001B[38;5;124m\"\u001B[39m, \u001B[38;5;28;01mNone\u001B[39;00m),\n\u001B[1;32m   1889\u001B[0m )\n\u001B[1;32m   1890\u001B[0m \u001B[38;5;28;01massert\u001B[39;00m \u001B[38;5;28mself\u001B[39m\u001B[38;5;241m.\u001B[39mhandles \u001B[38;5;129;01mis\u001B[39;00m \u001B[38;5;129;01mnot\u001B[39;00m \u001B[38;5;28;01mNone\u001B[39;00m\n\u001B[1;32m   1891\u001B[0m f \u001B[38;5;241m=\u001B[39m \u001B[38;5;28mself\u001B[39m\u001B[38;5;241m.\u001B[39mhandles\u001B[38;5;241m.\u001B[39mhandle\n",
      "File \u001B[0;32m~/opt/anaconda3/envs/ml/lib/python3.12/site-packages/pandas/io/common.py:873\u001B[0m, in \u001B[0;36mget_handle\u001B[0;34m(path_or_buf, mode, encoding, compression, memory_map, is_text, errors, storage_options)\u001B[0m\n\u001B[1;32m    868\u001B[0m \u001B[38;5;28;01melif\u001B[39;00m \u001B[38;5;28misinstance\u001B[39m(handle, \u001B[38;5;28mstr\u001B[39m):\n\u001B[1;32m    869\u001B[0m     \u001B[38;5;66;03m# Check whether the filename is to be opened in binary mode.\u001B[39;00m\n\u001B[1;32m    870\u001B[0m     \u001B[38;5;66;03m# Binary mode does not support 'encoding' and 'newline'.\u001B[39;00m\n\u001B[1;32m    871\u001B[0m     \u001B[38;5;28;01mif\u001B[39;00m ioargs\u001B[38;5;241m.\u001B[39mencoding \u001B[38;5;129;01mand\u001B[39;00m \u001B[38;5;124m\"\u001B[39m\u001B[38;5;124mb\u001B[39m\u001B[38;5;124m\"\u001B[39m \u001B[38;5;129;01mnot\u001B[39;00m \u001B[38;5;129;01min\u001B[39;00m ioargs\u001B[38;5;241m.\u001B[39mmode:\n\u001B[1;32m    872\u001B[0m         \u001B[38;5;66;03m# Encoding\u001B[39;00m\n\u001B[0;32m--> 873\u001B[0m         handle \u001B[38;5;241m=\u001B[39m \u001B[38;5;28mopen\u001B[39m(\n\u001B[1;32m    874\u001B[0m             handle,\n\u001B[1;32m    875\u001B[0m             ioargs\u001B[38;5;241m.\u001B[39mmode,\n\u001B[1;32m    876\u001B[0m             encoding\u001B[38;5;241m=\u001B[39mioargs\u001B[38;5;241m.\u001B[39mencoding,\n\u001B[1;32m    877\u001B[0m             errors\u001B[38;5;241m=\u001B[39merrors,\n\u001B[1;32m    878\u001B[0m             newline\u001B[38;5;241m=\u001B[39m\u001B[38;5;124m\"\u001B[39m\u001B[38;5;124m\"\u001B[39m,\n\u001B[1;32m    879\u001B[0m         )\n\u001B[1;32m    880\u001B[0m     \u001B[38;5;28;01melse\u001B[39;00m:\n\u001B[1;32m    881\u001B[0m         \u001B[38;5;66;03m# Binary mode\u001B[39;00m\n\u001B[1;32m    882\u001B[0m         handle \u001B[38;5;241m=\u001B[39m \u001B[38;5;28mopen\u001B[39m(handle, ioargs\u001B[38;5;241m.\u001B[39mmode)\n",
      "\u001B[0;31mFileNotFoundError\u001B[0m: [Errno 2] No such file or directory: '../mlNOVA/X_test.csv'"
     ]
    }
   ],
   "execution_count": 29
  },
  {
   "cell_type": "code",
   "execution_count": 165,
   "metadata": {},
   "outputs": [],
   "source": [
    "# # bring the data that we should apply the model on in the right format\n",
    "# # and predict the y values with our model\n",
    "# data2 = pd.read_csv('../mlNOVA/X_test.csv')\n",
    "\n",
    "# data2['x_1'] = data2['x0_1']\n",
    "# data2['y_1'] = data2['y0_1']\n",
    "# data2['v_x_1'] = 0\n",
    "# data2['v_y_1'] = 0\n",
    "# data2['x_2'] = data2['x0_2']\n",
    "# data2['y_2'] = data2['y0_2']\n",
    "# data2['v_x_2'] = 0\n",
    "# data2['v_y_2'] = 0\n",
    "# data2['x_3'] = data2['x0_3']\n",
    "# data2['y_3'] = data2['y0_3']\n",
    "# data2['v_x_3'] = 0\n",
    "# data2['v_y_3'] = 0\n",
    "\n",
    "# data2 = data2.drop(columns=['Id', 't', 'x0_1', 'y0_1', 'x0_2', 'y0_2', 'x0_3', 'y0_3'])\n",
    "\n",
    "\n",
    "# y_data2 = pipeline.predict(data2)\n",
    "\n",
    "# # save y values for the data we should test the model on in the right format for kaggle\n",
    "# y_data2 = pd.DataFrame(y_data2, columns=X_val.columns)\n",
    "# y_data2['id'] = y_data2.index\n",
    "\n",
    "# columns_titles = ['id', 'x_1', 'y_1', 'v_x_1', 'v_y_1', 'x_2', 'y_2', 'v_x_2', 'v_y_2',\n",
    "#        'x_3', 'y_3', 'v_x_3', 'v_y_3'] \n",
    "# y_data2=y_data2.reindex(columns=columns_titles)\n",
    "# y_data2.drop(columns=['v_x_1', 'v_y_1', 'v_x_2', 'v_y_2', 'v_x_3', 'v_y_3'], inplace=True)\n",
    "# y_data2.to_csv('sample_submission.csv',index=False)"
   ]
  },
  {
   "cell_type": "markdown",
   "metadata": {},
   "source": [
    "# Task 2: Nonlinear models on the data - the Polynomial Regression Model"
   ]
  },
  {
   "cell_type": "markdown",
   "metadata": {},
   "source": [
    "## Task 2.1 Development"
   ]
  },
  {
   "cell_type": "code",
   "execution_count": 166,
   "metadata": {},
   "outputs": [],
   "source": [
    "# split the data again into training, validation and test sets with the training size of 80%, validation size of 10% and test size of 10%\n",
    "X_train, X_val, X_test, y_train, y_val, y_test = train_validate_test_split(cleaned_X_data, cleaned_y_data, validate_size= 0.1, test_size=0.1)"
   ]
  },
  {
   "cell_type": "code",
   "execution_count": 167,
   "metadata": {},
   "outputs": [
    {
     "data": {
      "text/html": [
       "<div>\n",
       "<style scoped>\n",
       "    .dataframe tbody tr th:only-of-type {\n",
       "        vertical-align: middle;\n",
       "    }\n",
       "\n",
       "    .dataframe tbody tr th {\n",
       "        vertical-align: top;\n",
       "    }\n",
       "\n",
       "    .dataframe thead th {\n",
       "        text-align: right;\n",
       "    }\n",
       "</style>\n",
       "<table border=\"1\" class=\"dataframe\">\n",
       "  <thead>\n",
       "    <tr style=\"text-align: right;\">\n",
       "      <th></th>\n",
       "      <th>x_1</th>\n",
       "      <th>y_1</th>\n",
       "      <th>x_2</th>\n",
       "      <th>y_2</th>\n",
       "      <th>x_3</th>\n",
       "      <th>y_3</th>\n",
       "      <th>trajectory_id</th>\n",
       "    </tr>\n",
       "  </thead>\n",
       "  <tbody>\n",
       "    <tr>\n",
       "      <th>2313</th>\n",
       "      <td>1.0</td>\n",
       "      <td>0.0</td>\n",
       "      <td>-0.295683</td>\n",
       "      <td>0.250215</td>\n",
       "      <td>-0.704317</td>\n",
       "      <td>-0.250215</td>\n",
       "      <td>7</td>\n",
       "    </tr>\n",
       "    <tr>\n",
       "      <th>2314</th>\n",
       "      <td>1.0</td>\n",
       "      <td>0.0</td>\n",
       "      <td>-0.295683</td>\n",
       "      <td>0.250215</td>\n",
       "      <td>-0.704317</td>\n",
       "      <td>-0.250215</td>\n",
       "      <td>7</td>\n",
       "    </tr>\n",
       "    <tr>\n",
       "      <th>2315</th>\n",
       "      <td>1.0</td>\n",
       "      <td>0.0</td>\n",
       "      <td>-0.295683</td>\n",
       "      <td>0.250215</td>\n",
       "      <td>-0.704317</td>\n",
       "      <td>-0.250215</td>\n",
       "      <td>7</td>\n",
       "    </tr>\n",
       "    <tr>\n",
       "      <th>2316</th>\n",
       "      <td>1.0</td>\n",
       "      <td>0.0</td>\n",
       "      <td>-0.295683</td>\n",
       "      <td>0.250215</td>\n",
       "      <td>-0.704317</td>\n",
       "      <td>-0.250215</td>\n",
       "      <td>7</td>\n",
       "    </tr>\n",
       "    <tr>\n",
       "      <th>2317</th>\n",
       "      <td>1.0</td>\n",
       "      <td>0.0</td>\n",
       "      <td>-0.295683</td>\n",
       "      <td>0.250215</td>\n",
       "      <td>-0.704317</td>\n",
       "      <td>-0.250215</td>\n",
       "      <td>7</td>\n",
       "    </tr>\n",
       "    <tr>\n",
       "      <th>...</th>\n",
       "      <td>...</td>\n",
       "      <td>...</td>\n",
       "      <td>...</td>\n",
       "      <td>...</td>\n",
       "      <td>...</td>\n",
       "      <td>...</td>\n",
       "      <td>...</td>\n",
       "    </tr>\n",
       "    <tr>\n",
       "      <th>1284738</th>\n",
       "      <td>1.0</td>\n",
       "      <td>0.0</td>\n",
       "      <td>-0.098487</td>\n",
       "      <td>0.623007</td>\n",
       "      <td>-0.901513</td>\n",
       "      <td>-0.623007</td>\n",
       "      <td>4051</td>\n",
       "    </tr>\n",
       "    <tr>\n",
       "      <th>1284739</th>\n",
       "      <td>1.0</td>\n",
       "      <td>0.0</td>\n",
       "      <td>-0.098487</td>\n",
       "      <td>0.623007</td>\n",
       "      <td>-0.901513</td>\n",
       "      <td>-0.623007</td>\n",
       "      <td>4051</td>\n",
       "    </tr>\n",
       "    <tr>\n",
       "      <th>1284740</th>\n",
       "      <td>1.0</td>\n",
       "      <td>0.0</td>\n",
       "      <td>-0.098487</td>\n",
       "      <td>0.623007</td>\n",
       "      <td>-0.901513</td>\n",
       "      <td>-0.623007</td>\n",
       "      <td>4051</td>\n",
       "    </tr>\n",
       "    <tr>\n",
       "      <th>1284741</th>\n",
       "      <td>1.0</td>\n",
       "      <td>0.0</td>\n",
       "      <td>-0.098487</td>\n",
       "      <td>0.623007</td>\n",
       "      <td>-0.901513</td>\n",
       "      <td>-0.623007</td>\n",
       "      <td>4051</td>\n",
       "    </tr>\n",
       "    <tr>\n",
       "      <th>1284742</th>\n",
       "      <td>1.0</td>\n",
       "      <td>0.0</td>\n",
       "      <td>-0.098487</td>\n",
       "      <td>0.623007</td>\n",
       "      <td>-0.901513</td>\n",
       "      <td>-0.623007</td>\n",
       "      <td>4051</td>\n",
       "    </tr>\n",
       "  </tbody>\n",
       "</table>\n",
       "<p>127472 rows × 7 columns</p>\n",
       "</div>"
      ],
      "text/plain": [
       "         x_1  y_1       x_2       y_2       x_3       y_3  trajectory_id\n",
       "2313     1.0  0.0 -0.295683  0.250215 -0.704317 -0.250215              7\n",
       "2314     1.0  0.0 -0.295683  0.250215 -0.704317 -0.250215              7\n",
       "2315     1.0  0.0 -0.295683  0.250215 -0.704317 -0.250215              7\n",
       "2316     1.0  0.0 -0.295683  0.250215 -0.704317 -0.250215              7\n",
       "2317     1.0  0.0 -0.295683  0.250215 -0.704317 -0.250215              7\n",
       "...      ...  ...       ...       ...       ...       ...            ...\n",
       "1284738  1.0  0.0 -0.098487  0.623007 -0.901513 -0.623007           4051\n",
       "1284739  1.0  0.0 -0.098487  0.623007 -0.901513 -0.623007           4051\n",
       "1284740  1.0  0.0 -0.098487  0.623007 -0.901513 -0.623007           4051\n",
       "1284741  1.0  0.0 -0.098487  0.623007 -0.901513 -0.623007           4051\n",
       "1284742  1.0  0.0 -0.098487  0.623007 -0.901513 -0.623007           4051\n",
       "\n",
       "[127472 rows x 7 columns]"
      ]
     },
     "execution_count": 167,
     "metadata": {},
     "output_type": "execute_result"
    }
   ],
   "source": [
    "X_val_without_t = X_val.copy()\n",
    "X_val_without_t.drop(columns=['t'])"
   ]
  },
  {
   "cell_type": "code",
   "execution_count": 168,
   "metadata": {},
   "outputs": [],
   "source": [
    "# sample 1% of the sets\n",
    "\n",
    "def sample_trajectories(X, y, trajectory_col='trajectory_id', sample_fraction=0.01, random_state=42):\n",
    "\n",
    "    unique_trajectories = X[trajectory_col].unique()\n",
    "  \n",
    "    sampled_trajectories = resample(unique_trajectories, n_samples=int(sample_fraction * len(unique_trajectories)), random_state=random_state)\n",
    "    \n",
    "    X_sampled = X[X[trajectory_col].isin(sampled_trajectories)]\n",
    "    y_sampled = y[X[trajectory_col].isin(sampled_trajectories)]\n",
    "    \n",
    "    return X_sampled, y_sampled\n",
    "\n",
    "X_train_sampled, y_train_sampled = sample_trajectories(X_train, y_train, sample_fraction=0.01)\n",
    "X_val_sampled, y_val_sampled = sample_trajectories(X_val, y_val, sample_fraction=0.01)\n",
    "X_test_sampled, y_test_sampled = sample_trajectories(X_test, y_test, sample_fraction=0.01)"
   ]
  },
  {
   "cell_type": "code",
   "execution_count": 169,
   "metadata": {},
   "outputs": [],
   "source": [
    "# # Remove the trajectory_id column for all sets and t for the y_datasets\n",
    "# otherwise (the prediction will overfit) the RSME will be much different from kaggle\n",
    "X_train_sampled = X_train_sampled.drop(columns=['trajectory_id'])\n",
    "X_val_sampled = X_val_sampled.drop(columns=['trajectory_id'])\n",
    "X_test_sampled = X_test_sampled.drop(columns=['trajectory_id'])\n",
    "y_train_sampled = y_train_sampled.drop(columns=['trajectory_id', 't'])\n",
    "y_val_sampled = y_val_sampled.drop(columns=['trajectory_id', 't'])\n",
    "y_test_sampled = y_test_sampled.drop(columns=['trajectory_id', 't'])"
   ]
  },
  {
   "cell_type": "code",
   "execution_count": 170,
   "metadata": {},
   "outputs": [],
   "source": [
    "# perform polynomial regression with different polynomial degrees and different regressors\n",
    "def validate_poly_regression(X_train, y_train, X_val, y_val, regressor=None, degrees=range(1,15), max_features=None):\n",
    "    \n",
    "    if regressor is None:\n",
    "        regressor = LinearRegression()\n",
    "    elif regressor == 'MultiTaskLassoCV':\n",
    "        regressor = MultiTaskLassoCV(alphas=np.logspace(-6, 6, 10), cv = 5)\n",
    "    elif regressor == 'RidgeCV':\n",
    "        regressor = RidgeCV(alphas=np.logspace(-6, 6, 10), store_cv_values=True)\n",
    "    else:\n",
    "        raise ValueError(\"Invalid regressor type.\")\n",
    "    \n",
    "    best_rmse = float('inf')\n",
    "    rmse_dict = {}\n",
    "    best_pipeline = None\n",
    "    \n",
    "    # iterate through the polynomial degrees\n",
    "    for degree in degrees:\n",
    "        # pipeline for polynomial regression\n",
    "        pipeline = Pipeline(steps=[\n",
    "                ('poly', PolynomialFeatures(degree=degree)),\n",
    "                ('scaler', StandardScaler()),\n",
    "                ('regressor', regressor)\n",
    "            ])\n",
    "        \n",
    "        pipeline.fit(X_train, y_train)\n",
    "        \n",
    "        # number of features for each degree\n",
    "        poly_features = pipeline.named_steps['poly']\n",
    "        print(f'Degree: {degree}, Number of Features: {poly_features.n_output_features_}')\n",
    "        \n",
    "        if max_features is not None and poly_features.n_output_features_ > max_features:\n",
    "            print(f\"Skipping degree {degree} as it exceeds max_features={max_features}.\")\n",
    "            continue\n",
    "        \n",
    "        y_val_pred = pipeline.predict(X_val)\n",
    "        \n",
    "        num_features = pipeline.named_steps['poly'].n_output_features_\n",
    "        \n",
    "        X_val_without_t = X_val.copy()\n",
    "        X_val_without_t = X_val_without_t.drop(columns=['t'])\n",
    "        y_val_pred_df = pd.DataFrame(y_val_pred, columns=X_val_without_t.columns)\n",
    "\n",
    "        rmse = np.sqrt(mean_squared_error(y_val, y_val_pred_df))\n",
    "        print(f'Degree: {degree}, RMSE: {rmse}')\n",
    "        \n",
    "        rmse_dict[(degree, num_features)] = rmse\n",
    "        \n",
    "        # update the best degree if the current model is better\n",
    "        if rmse < best_rmse:\n",
    "            best_rmse = rmse\n",
    "            best_pipeline = pipeline\n",
    "        \n",
    "        if max_features is not None and num_features > max_features:\n",
    "            break\n",
    "        \n",
    "    return rmse_dict, best_rmse, best_pipeline\n",
    "    \n",
    "    "
   ]
  },
  {
   "cell_type": "code",
   "execution_count": 171,
   "metadata": {},
   "outputs": [
    {
     "name": "stdout",
     "output_type": "stream",
     "text": [
      "Degree: 1, Number of Features: 8\n",
      "Degree: 1, RMSE: 1.352994764727918\n",
      "Degree: 2, Number of Features: 36\n",
      "Degree: 2, RMSE: 1.4764121273701125\n",
      "Degree: 3, Number of Features: 120\n",
      "Degree: 3, RMSE: 3.70548685706142\n",
      "Degree: 4, Number of Features: 330\n",
      "Degree: 4, RMSE: 63.24967965275928\n"
     ]
    }
   ],
   "source": [
    "# validate the polynomial regression with degrees from 1 to 7 and linear regressor\n",
    "rmse_dict, best_rmse, best_pipeline = validate_poly_regression(X_train_sampled, y_train_sampled, X_val_sampled, y_val_sampled, regressor=None, degrees=range(1,5), max_features=None)"
   ]
  },
  {
   "cell_type": "code",
   "execution_count": 172,
   "metadata": {},
   "outputs": [
    {
     "name": "stdout",
     "output_type": "stream",
     "text": [
      "Degree: 1, Number of Features: 8\n",
      "Degree: 1, RMSE: 0.8538704988989344\n"
     ]
    },
    {
     "name": "stderr",
     "output_type": "stream",
     "text": [
      "c:\\Users\\Eva\\Documents\\Uni\\Erasmus\\AAEB\\anaconda3\\Lib\\site-packages\\sklearn\\linear_model\\_coordinate_descent.py:656: ConvergenceWarning: Objective did not converge. You might want to increase the number of iterations. Duality gap: 817.4598250784329, tolerance: 11.312187947885471\n",
      "  model = cd_fast.enet_coordinate_descent_multi_task(\n",
      "c:\\Users\\Eva\\Documents\\Uni\\Erasmus\\AAEB\\anaconda3\\Lib\\site-packages\\sklearn\\linear_model\\_coordinate_descent.py:656: ConvergenceWarning: Objective did not converge. You might want to increase the number of iterations. Duality gap: 2285.73993683538, tolerance: 11.312187947885471\n",
      "  model = cd_fast.enet_coordinate_descent_multi_task(\n",
      "c:\\Users\\Eva\\Documents\\Uni\\Erasmus\\AAEB\\anaconda3\\Lib\\site-packages\\sklearn\\linear_model\\_coordinate_descent.py:656: ConvergenceWarning: Objective did not converge. You might want to increase the number of iterations. Duality gap: 2166.1300751603194, tolerance: 11.312187947885471\n",
      "  model = cd_fast.enet_coordinate_descent_multi_task(\n",
      "c:\\Users\\Eva\\Documents\\Uni\\Erasmus\\AAEB\\anaconda3\\Lib\\site-packages\\sklearn\\linear_model\\_coordinate_descent.py:656: ConvergenceWarning: Objective did not converge. You might want to increase the number of iterations. Duality gap: 1094.6028732256964, tolerance: 12.86968694903998\n",
      "  model = cd_fast.enet_coordinate_descent_multi_task(\n",
      "c:\\Users\\Eva\\Documents\\Uni\\Erasmus\\AAEB\\anaconda3\\Lib\\site-packages\\sklearn\\linear_model\\_coordinate_descent.py:656: ConvergenceWarning: Objective did not converge. You might want to increase the number of iterations. Duality gap: 1047.2758047148964, tolerance: 12.86968694903998\n",
      "  model = cd_fast.enet_coordinate_descent_multi_task(\n",
      "c:\\Users\\Eva\\Documents\\Uni\\Erasmus\\AAEB\\anaconda3\\Lib\\site-packages\\sklearn\\linear_model\\_coordinate_descent.py:656: ConvergenceWarning: Objective did not converge. You might want to increase the number of iterations. Duality gap: 1044.5663333090197, tolerance: 12.86968694903998\n",
      "  model = cd_fast.enet_coordinate_descent_multi_task(\n",
      "c:\\Users\\Eva\\Documents\\Uni\\Erasmus\\AAEB\\anaconda3\\Lib\\site-packages\\sklearn\\linear_model\\_coordinate_descent.py:656: ConvergenceWarning: Objective did not converge. You might want to increase the number of iterations. Duality gap: 1553.1560158036882, tolerance: 9.987340188438804\n",
      "  model = cd_fast.enet_coordinate_descent_multi_task(\n",
      "c:\\Users\\Eva\\Documents\\Uni\\Erasmus\\AAEB\\anaconda3\\Lib\\site-packages\\sklearn\\linear_model\\_coordinate_descent.py:656: ConvergenceWarning: Objective did not converge. You might want to increase the number of iterations. Duality gap: 2540.95821315785, tolerance: 9.987340188438804\n",
      "  model = cd_fast.enet_coordinate_descent_multi_task(\n",
      "c:\\Users\\Eva\\Documents\\Uni\\Erasmus\\AAEB\\anaconda3\\Lib\\site-packages\\sklearn\\linear_model\\_coordinate_descent.py:656: ConvergenceWarning: Objective did not converge. You might want to increase the number of iterations. Duality gap: 2509.9670687869802, tolerance: 9.987340188438804\n",
      "  model = cd_fast.enet_coordinate_descent_multi_task(\n",
      "c:\\Users\\Eva\\Documents\\Uni\\Erasmus\\AAEB\\anaconda3\\Lib\\site-packages\\sklearn\\linear_model\\_coordinate_descent.py:656: ConvergenceWarning: Objective did not converge. You might want to increase the number of iterations. Duality gap: 1916.8138290542265, tolerance: 8.394108769955187\n",
      "  model = cd_fast.enet_coordinate_descent_multi_task(\n",
      "c:\\Users\\Eva\\Documents\\Uni\\Erasmus\\AAEB\\anaconda3\\Lib\\site-packages\\sklearn\\linear_model\\_coordinate_descent.py:656: ConvergenceWarning: Objective did not converge. You might want to increase the number of iterations. Duality gap: 1894.2889424294845, tolerance: 8.394108769955187\n",
      "  model = cd_fast.enet_coordinate_descent_multi_task(\n",
      "c:\\Users\\Eva\\Documents\\Uni\\Erasmus\\AAEB\\anaconda3\\Lib\\site-packages\\sklearn\\linear_model\\_coordinate_descent.py:656: ConvergenceWarning: Objective did not converge. You might want to increase the number of iterations. Duality gap: 1893.0429363069343, tolerance: 8.394108769955187\n",
      "  model = cd_fast.enet_coordinate_descent_multi_task(\n",
      "c:\\Users\\Eva\\Documents\\Uni\\Erasmus\\AAEB\\anaconda3\\Lib\\site-packages\\sklearn\\linear_model\\_coordinate_descent.py:656: ConvergenceWarning: Objective did not converge. You might want to increase the number of iterations. Duality gap: 1326.1076842962211, tolerance: 13.469319672688272\n",
      "  model = cd_fast.enet_coordinate_descent_multi_task(\n",
      "c:\\Users\\Eva\\Documents\\Uni\\Erasmus\\AAEB\\anaconda3\\Lib\\site-packages\\sklearn\\linear_model\\_coordinate_descent.py:656: ConvergenceWarning: Objective did not converge. You might want to increase the number of iterations. Duality gap: 1870.470732540969, tolerance: 13.469319672688272\n",
      "  model = cd_fast.enet_coordinate_descent_multi_task(\n",
      "c:\\Users\\Eva\\Documents\\Uni\\Erasmus\\AAEB\\anaconda3\\Lib\\site-packages\\sklearn\\linear_model\\_coordinate_descent.py:656: ConvergenceWarning: Objective did not converge. You might want to increase the number of iterations. Duality gap: 1942.0122116962157, tolerance: 13.469319672688272\n",
      "  model = cd_fast.enet_coordinate_descent_multi_task(\n"
     ]
    },
    {
     "name": "stdout",
     "output_type": "stream",
     "text": [
      "Degree: 2, Number of Features: 36\n",
      "Degree: 2, RMSE: 0.8538704988989344\n"
     ]
    },
    {
     "name": "stderr",
     "output_type": "stream",
     "text": [
      "c:\\Users\\Eva\\Documents\\Uni\\Erasmus\\AAEB\\anaconda3\\Lib\\site-packages\\sklearn\\linear_model\\_coordinate_descent.py:656: ConvergenceWarning: Objective did not converge. You might want to increase the number of iterations. Duality gap: 439.995108472649, tolerance: 11.312187947885471\n",
      "  model = cd_fast.enet_coordinate_descent_multi_task(\n",
      "c:\\Users\\Eva\\Documents\\Uni\\Erasmus\\AAEB\\anaconda3\\Lib\\site-packages\\sklearn\\linear_model\\_coordinate_descent.py:656: ConvergenceWarning: Objective did not converge. You might want to increase the number of iterations. Duality gap: 28936.080393649314, tolerance: 11.312187947885471\n",
      "  model = cd_fast.enet_coordinate_descent_multi_task(\n",
      "c:\\Users\\Eva\\Documents\\Uni\\Erasmus\\AAEB\\anaconda3\\Lib\\site-packages\\sklearn\\linear_model\\_coordinate_descent.py:656: ConvergenceWarning: Objective did not converge. You might want to increase the number of iterations. Duality gap: 33747.629693072326, tolerance: 11.312187947885471\n",
      "  model = cd_fast.enet_coordinate_descent_multi_task(\n",
      "c:\\Users\\Eva\\Documents\\Uni\\Erasmus\\AAEB\\anaconda3\\Lib\\site-packages\\sklearn\\linear_model\\_coordinate_descent.py:656: ConvergenceWarning: Objective did not converge. You might want to increase the number of iterations. Duality gap: 33913.86703068809, tolerance: 11.312187947885471\n",
      "  model = cd_fast.enet_coordinate_descent_multi_task(\n",
      "c:\\Users\\Eva\\Documents\\Uni\\Erasmus\\AAEB\\anaconda3\\Lib\\site-packages\\sklearn\\linear_model\\_coordinate_descent.py:656: ConvergenceWarning: Objective did not converge. You might want to increase the number of iterations. Duality gap: 702.2775917179097, tolerance: 12.86968694903998\n",
      "  model = cd_fast.enet_coordinate_descent_multi_task(\n",
      "c:\\Users\\Eva\\Documents\\Uni\\Erasmus\\AAEB\\anaconda3\\Lib\\site-packages\\sklearn\\linear_model\\_coordinate_descent.py:656: ConvergenceWarning: Objective did not converge. You might want to increase the number of iterations. Duality gap: 13167.591978269087, tolerance: 12.86968694903998\n",
      "  model = cd_fast.enet_coordinate_descent_multi_task(\n",
      "c:\\Users\\Eva\\Documents\\Uni\\Erasmus\\AAEB\\anaconda3\\Lib\\site-packages\\sklearn\\linear_model\\_coordinate_descent.py:656: ConvergenceWarning: Objective did not converge. You might want to increase the number of iterations. Duality gap: 29660.389650042467, tolerance: 12.86968694903998\n",
      "  model = cd_fast.enet_coordinate_descent_multi_task(\n",
      "c:\\Users\\Eva\\Documents\\Uni\\Erasmus\\AAEB\\anaconda3\\Lib\\site-packages\\sklearn\\linear_model\\_coordinate_descent.py:656: ConvergenceWarning: Objective did not converge. You might want to increase the number of iterations. Duality gap: 30444.176670814737, tolerance: 12.86968694903998\n",
      "  model = cd_fast.enet_coordinate_descent_multi_task(\n",
      "c:\\Users\\Eva\\Documents\\Uni\\Erasmus\\AAEB\\anaconda3\\Lib\\site-packages\\sklearn\\linear_model\\_coordinate_descent.py:656: ConvergenceWarning: Objective did not converge. You might want to increase the number of iterations. Duality gap: 793.49536406275, tolerance: 9.987340188438804\n",
      "  model = cd_fast.enet_coordinate_descent_multi_task(\n",
      "c:\\Users\\Eva\\Documents\\Uni\\Erasmus\\AAEB\\anaconda3\\Lib\\site-packages\\sklearn\\linear_model\\_coordinate_descent.py:656: ConvergenceWarning: Objective did not converge. You might want to increase the number of iterations. Duality gap: 26510.772073788106, tolerance: 9.987340188438804\n",
      "  model = cd_fast.enet_coordinate_descent_multi_task(\n",
      "c:\\Users\\Eva\\Documents\\Uni\\Erasmus\\AAEB\\anaconda3\\Lib\\site-packages\\sklearn\\linear_model\\_coordinate_descent.py:656: ConvergenceWarning: Objective did not converge. You might want to increase the number of iterations. Duality gap: 31737.79333287991, tolerance: 9.987340188438804\n",
      "  model = cd_fast.enet_coordinate_descent_multi_task(\n",
      "c:\\Users\\Eva\\Documents\\Uni\\Erasmus\\AAEB\\anaconda3\\Lib\\site-packages\\sklearn\\linear_model\\_coordinate_descent.py:656: ConvergenceWarning: Objective did not converge. You might want to increase the number of iterations. Duality gap: 31825.462152728316, tolerance: 9.987340188438804\n",
      "  model = cd_fast.enet_coordinate_descent_multi_task(\n",
      "c:\\Users\\Eva\\Documents\\Uni\\Erasmus\\AAEB\\anaconda3\\Lib\\site-packages\\sklearn\\linear_model\\_coordinate_descent.py:656: ConvergenceWarning: Objective did not converge. You might want to increase the number of iterations. Duality gap: 45.340261934783484, tolerance: 8.394108769955187\n",
      "  model = cd_fast.enet_coordinate_descent_multi_task(\n",
      "c:\\Users\\Eva\\Documents\\Uni\\Erasmus\\AAEB\\anaconda3\\Lib\\site-packages\\sklearn\\linear_model\\_coordinate_descent.py:656: ConvergenceWarning: Objective did not converge. You might want to increase the number of iterations. Duality gap: 22210.613257497236, tolerance: 8.394108769955187\n",
      "  model = cd_fast.enet_coordinate_descent_multi_task(\n",
      "c:\\Users\\Eva\\Documents\\Uni\\Erasmus\\AAEB\\anaconda3\\Lib\\site-packages\\sklearn\\linear_model\\_coordinate_descent.py:656: ConvergenceWarning: Objective did not converge. You might want to increase the number of iterations. Duality gap: 25390.028518553707, tolerance: 8.394108769955187\n",
      "  model = cd_fast.enet_coordinate_descent_multi_task(\n",
      "c:\\Users\\Eva\\Documents\\Uni\\Erasmus\\AAEB\\anaconda3\\Lib\\site-packages\\sklearn\\linear_model\\_coordinate_descent.py:656: ConvergenceWarning: Objective did not converge. You might want to increase the number of iterations. Duality gap: 25525.39644201296, tolerance: 8.394108769955187\n",
      "  model = cd_fast.enet_coordinate_descent_multi_task(\n",
      "c:\\Users\\Eva\\Documents\\Uni\\Erasmus\\AAEB\\anaconda3\\Lib\\site-packages\\sklearn\\linear_model\\_coordinate_descent.py:656: ConvergenceWarning: Objective did not converge. You might want to increase the number of iterations. Duality gap: 643.1605468697817, tolerance: 13.469319672688272\n",
      "  model = cd_fast.enet_coordinate_descent_multi_task(\n",
      "c:\\Users\\Eva\\Documents\\Uni\\Erasmus\\AAEB\\anaconda3\\Lib\\site-packages\\sklearn\\linear_model\\_coordinate_descent.py:656: ConvergenceWarning: Objective did not converge. You might want to increase the number of iterations. Duality gap: 34487.45026070465, tolerance: 13.469319672688272\n",
      "  model = cd_fast.enet_coordinate_descent_multi_task(\n",
      "c:\\Users\\Eva\\Documents\\Uni\\Erasmus\\AAEB\\anaconda3\\Lib\\site-packages\\sklearn\\linear_model\\_coordinate_descent.py:656: ConvergenceWarning: Objective did not converge. You might want to increase the number of iterations. Duality gap: 39311.30791065203, tolerance: 13.469319672688272\n",
      "  model = cd_fast.enet_coordinate_descent_multi_task(\n",
      "c:\\Users\\Eva\\Documents\\Uni\\Erasmus\\AAEB\\anaconda3\\Lib\\site-packages\\sklearn\\linear_model\\_coordinate_descent.py:656: ConvergenceWarning: Objective did not converge. You might want to increase the number of iterations. Duality gap: 39420.03777511237, tolerance: 13.469319672688272\n",
      "  model = cd_fast.enet_coordinate_descent_multi_task(\n"
     ]
    },
    {
     "name": "stdout",
     "output_type": "stream",
     "text": [
      "Degree: 3, Number of Features: 120\n",
      "Degree: 3, RMSE: 0.8538704988989344\n"
     ]
    },
    {
     "name": "stderr",
     "output_type": "stream",
     "text": [
      "c:\\Users\\Eva\\Documents\\Uni\\Erasmus\\AAEB\\anaconda3\\Lib\\site-packages\\sklearn\\linear_model\\_coordinate_descent.py:656: ConvergenceWarning: Objective did not converge. You might want to increase the number of iterations. Duality gap: 717.3128025136757, tolerance: 11.312187947885471\n",
      "  model = cd_fast.enet_coordinate_descent_multi_task(\n",
      "c:\\Users\\Eva\\Documents\\Uni\\Erasmus\\AAEB\\anaconda3\\Lib\\site-packages\\sklearn\\linear_model\\_coordinate_descent.py:656: ConvergenceWarning: Objective did not converge. You might want to increase the number of iterations. Duality gap: 27770.701554271505, tolerance: 11.312187947885471\n",
      "  model = cd_fast.enet_coordinate_descent_multi_task(\n",
      "c:\\Users\\Eva\\Documents\\Uni\\Erasmus\\AAEB\\anaconda3\\Lib\\site-packages\\sklearn\\linear_model\\_coordinate_descent.py:656: ConvergenceWarning: Objective did not converge. You might want to increase the number of iterations. Duality gap: 27899.89352728057, tolerance: 11.312187947885471\n",
      "  model = cd_fast.enet_coordinate_descent_multi_task(\n",
      "c:\\Users\\Eva\\Documents\\Uni\\Erasmus\\AAEB\\anaconda3\\Lib\\site-packages\\sklearn\\linear_model\\_coordinate_descent.py:656: ConvergenceWarning: Objective did not converge. You might want to increase the number of iterations. Duality gap: 27194.733760510382, tolerance: 11.312187947885471\n",
      "  model = cd_fast.enet_coordinate_descent_multi_task(\n",
      "c:\\Users\\Eva\\Documents\\Uni\\Erasmus\\AAEB\\anaconda3\\Lib\\site-packages\\sklearn\\linear_model\\_coordinate_descent.py:656: ConvergenceWarning: Objective did not converge. You might want to increase the number of iterations. Duality gap: 705.2603018392256, tolerance: 12.86968694903998\n",
      "  model = cd_fast.enet_coordinate_descent_multi_task(\n",
      "c:\\Users\\Eva\\Documents\\Uni\\Erasmus\\AAEB\\anaconda3\\Lib\\site-packages\\sklearn\\linear_model\\_coordinate_descent.py:656: ConvergenceWarning: Objective did not converge. You might want to increase the number of iterations. Duality gap: 15307.652996640047, tolerance: 12.86968694903998\n",
      "  model = cd_fast.enet_coordinate_descent_multi_task(\n",
      "c:\\Users\\Eva\\Documents\\Uni\\Erasmus\\AAEB\\anaconda3\\Lib\\site-packages\\sklearn\\linear_model\\_coordinate_descent.py:656: ConvergenceWarning: Objective did not converge. You might want to increase the number of iterations. Duality gap: 24080.277526303584, tolerance: 12.86968694903998\n",
      "  model = cd_fast.enet_coordinate_descent_multi_task(\n",
      "c:\\Users\\Eva\\Documents\\Uni\\Erasmus\\AAEB\\anaconda3\\Lib\\site-packages\\sklearn\\linear_model\\_coordinate_descent.py:656: ConvergenceWarning: Objective did not converge. You might want to increase the number of iterations. Duality gap: 23671.78743201549, tolerance: 12.86968694903998\n",
      "  model = cd_fast.enet_coordinate_descent_multi_task(\n",
      "c:\\Users\\Eva\\Documents\\Uni\\Erasmus\\AAEB\\anaconda3\\Lib\\site-packages\\sklearn\\linear_model\\_coordinate_descent.py:656: ConvergenceWarning: Objective did not converge. You might want to increase the number of iterations. Duality gap: 1573.161369702073, tolerance: 9.987340188438804\n",
      "  model = cd_fast.enet_coordinate_descent_multi_task(\n",
      "c:\\Users\\Eva\\Documents\\Uni\\Erasmus\\AAEB\\anaconda3\\Lib\\site-packages\\sklearn\\linear_model\\_coordinate_descent.py:656: ConvergenceWarning: Objective did not converge. You might want to increase the number of iterations. Duality gap: 27695.2648761351, tolerance: 9.987340188438804\n",
      "  model = cd_fast.enet_coordinate_descent_multi_task(\n",
      "c:\\Users\\Eva\\Documents\\Uni\\Erasmus\\AAEB\\anaconda3\\Lib\\site-packages\\sklearn\\linear_model\\_coordinate_descent.py:656: ConvergenceWarning: Objective did not converge. You might want to increase the number of iterations. Duality gap: 28854.97738807974, tolerance: 9.987340188438804\n",
      "  model = cd_fast.enet_coordinate_descent_multi_task(\n",
      "c:\\Users\\Eva\\Documents\\Uni\\Erasmus\\AAEB\\anaconda3\\Lib\\site-packages\\sklearn\\linear_model\\_coordinate_descent.py:656: ConvergenceWarning: Objective did not converge. You might want to increase the number of iterations. Duality gap: 28481.744441765375, tolerance: 9.987340188438804\n",
      "  model = cd_fast.enet_coordinate_descent_multi_task(\n",
      "c:\\Users\\Eva\\Documents\\Uni\\Erasmus\\AAEB\\anaconda3\\Lib\\site-packages\\sklearn\\linear_model\\_coordinate_descent.py:656: ConvergenceWarning: Objective did not converge. You might want to increase the number of iterations. Duality gap: 2068.2296006339893, tolerance: 8.394108769955187\n",
      "  model = cd_fast.enet_coordinate_descent_multi_task(\n",
      "c:\\Users\\Eva\\Documents\\Uni\\Erasmus\\AAEB\\anaconda3\\Lib\\site-packages\\sklearn\\linear_model\\_coordinate_descent.py:656: ConvergenceWarning: Objective did not converge. You might want to increase the number of iterations. Duality gap: 19210.357027970287, tolerance: 8.394108769955187\n",
      "  model = cd_fast.enet_coordinate_descent_multi_task(\n",
      "c:\\Users\\Eva\\Documents\\Uni\\Erasmus\\AAEB\\anaconda3\\Lib\\site-packages\\sklearn\\linear_model\\_coordinate_descent.py:656: ConvergenceWarning: Objective did not converge. You might want to increase the number of iterations. Duality gap: 21358.54156386212, tolerance: 8.394108769955187\n",
      "  model = cd_fast.enet_coordinate_descent_multi_task(\n",
      "c:\\Users\\Eva\\Documents\\Uni\\Erasmus\\AAEB\\anaconda3\\Lib\\site-packages\\sklearn\\linear_model\\_coordinate_descent.py:656: ConvergenceWarning: Objective did not converge. You might want to increase the number of iterations. Duality gap: 21128.864884072747, tolerance: 8.394108769955187\n",
      "  model = cd_fast.enet_coordinate_descent_multi_task(\n",
      "c:\\Users\\Eva\\Documents\\Uni\\Erasmus\\AAEB\\anaconda3\\Lib\\site-packages\\sklearn\\linear_model\\_coordinate_descent.py:656: ConvergenceWarning: Objective did not converge. You might want to increase the number of iterations. Duality gap: 1444.729792143422, tolerance: 13.469319672688272\n",
      "  model = cd_fast.enet_coordinate_descent_multi_task(\n",
      "c:\\Users\\Eva\\Documents\\Uni\\Erasmus\\AAEB\\anaconda3\\Lib\\site-packages\\sklearn\\linear_model\\_coordinate_descent.py:656: ConvergenceWarning: Objective did not converge. You might want to increase the number of iterations. Duality gap: 33565.6040912958, tolerance: 13.469319672688272\n",
      "  model = cd_fast.enet_coordinate_descent_multi_task(\n",
      "c:\\Users\\Eva\\Documents\\Uni\\Erasmus\\AAEB\\anaconda3\\Lib\\site-packages\\sklearn\\linear_model\\_coordinate_descent.py:656: ConvergenceWarning: Objective did not converge. You might want to increase the number of iterations. Duality gap: 34640.06968465545, tolerance: 13.469319672688272\n",
      "  model = cd_fast.enet_coordinate_descent_multi_task(\n"
     ]
    },
    {
     "ename": "KeyboardInterrupt",
     "evalue": "",
     "output_type": "error",
     "traceback": [
      "\u001B[1;31m---------------------------------------------------------------------------\u001B[0m",
      "\u001B[1;31mKeyboardInterrupt\u001B[0m                         Traceback (most recent call last)",
      "Cell \u001B[1;32mIn[172], line 2\u001B[0m\n\u001B[0;32m      1\u001B[0m \u001B[38;5;66;03m# validate the polynomial regression with degrees from 1 to 7 and Lasso regressor\u001B[39;00m\n\u001B[1;32m----> 2\u001B[0m rmse_dict, best_rmse, best_pipeline \u001B[38;5;241m=\u001B[39m validate_poly_regression(X_train_sampled, y_train_sampled, X_val_sampled, y_val_sampled, regressor\u001B[38;5;241m=\u001B[39m\u001B[38;5;124m'\u001B[39m\u001B[38;5;124mMultiTaskLassoCV\u001B[39m\u001B[38;5;124m'\u001B[39m, degrees\u001B[38;5;241m=\u001B[39m\u001B[38;5;28mrange\u001B[39m(\u001B[38;5;241m1\u001B[39m,\u001B[38;5;241m5\u001B[39m), max_features\u001B[38;5;241m=\u001B[39m\u001B[38;5;28;01mNone\u001B[39;00m)\n",
      "Cell \u001B[1;32mIn[170], line 26\u001B[0m, in \u001B[0;36mvalidate_poly_regression\u001B[1;34m(X_train, y_train, X_val, y_val, regressor, degrees, max_features)\u001B[0m\n\u001B[0;32m     18\u001B[0m \u001B[38;5;28;01mfor\u001B[39;00m degree \u001B[38;5;129;01min\u001B[39;00m degrees:\n\u001B[0;32m     19\u001B[0m     \u001B[38;5;66;03m# pipeline for polynomial regression\u001B[39;00m\n\u001B[0;32m     20\u001B[0m     pipeline \u001B[38;5;241m=\u001B[39m Pipeline(steps\u001B[38;5;241m=\u001B[39m[\n\u001B[0;32m     21\u001B[0m             (\u001B[38;5;124m'\u001B[39m\u001B[38;5;124mpoly\u001B[39m\u001B[38;5;124m'\u001B[39m, PolynomialFeatures(degree\u001B[38;5;241m=\u001B[39mdegree)),\n\u001B[0;32m     22\u001B[0m             (\u001B[38;5;124m'\u001B[39m\u001B[38;5;124mscaler\u001B[39m\u001B[38;5;124m'\u001B[39m, StandardScaler()),\n\u001B[0;32m     23\u001B[0m             (\u001B[38;5;124m'\u001B[39m\u001B[38;5;124mregressor\u001B[39m\u001B[38;5;124m'\u001B[39m, regressor)\n\u001B[0;32m     24\u001B[0m         ])\n\u001B[1;32m---> 26\u001B[0m     pipeline\u001B[38;5;241m.\u001B[39mfit(X_train, y_train)\n\u001B[0;32m     28\u001B[0m     \u001B[38;5;66;03m# number of features for each degree\u001B[39;00m\n\u001B[0;32m     29\u001B[0m     poly_features \u001B[38;5;241m=\u001B[39m pipeline\u001B[38;5;241m.\u001B[39mnamed_steps[\u001B[38;5;124m'\u001B[39m\u001B[38;5;124mpoly\u001B[39m\u001B[38;5;124m'\u001B[39m]\n",
      "File \u001B[1;32mc:\\Users\\Eva\\Documents\\Uni\\Erasmus\\AAEB\\anaconda3\\Lib\\site-packages\\sklearn\\base.py:1474\u001B[0m, in \u001B[0;36m_fit_context.<locals>.decorator.<locals>.wrapper\u001B[1;34m(estimator, *args, **kwargs)\u001B[0m\n\u001B[0;32m   1467\u001B[0m     estimator\u001B[38;5;241m.\u001B[39m_validate_params()\n\u001B[0;32m   1469\u001B[0m \u001B[38;5;28;01mwith\u001B[39;00m config_context(\n\u001B[0;32m   1470\u001B[0m     skip_parameter_validation\u001B[38;5;241m=\u001B[39m(\n\u001B[0;32m   1471\u001B[0m         prefer_skip_nested_validation \u001B[38;5;129;01mor\u001B[39;00m global_skip_validation\n\u001B[0;32m   1472\u001B[0m     )\n\u001B[0;32m   1473\u001B[0m ):\n\u001B[1;32m-> 1474\u001B[0m     \u001B[38;5;28;01mreturn\u001B[39;00m fit_method(estimator, \u001B[38;5;241m*\u001B[39margs, \u001B[38;5;241m*\u001B[39m\u001B[38;5;241m*\u001B[39mkwargs)\n",
      "File \u001B[1;32mc:\\Users\\Eva\\Documents\\Uni\\Erasmus\\AAEB\\anaconda3\\Lib\\site-packages\\sklearn\\pipeline.py:475\u001B[0m, in \u001B[0;36mPipeline.fit\u001B[1;34m(self, X, y, **params)\u001B[0m\n\u001B[0;32m    473\u001B[0m     \u001B[38;5;28;01mif\u001B[39;00m \u001B[38;5;28mself\u001B[39m\u001B[38;5;241m.\u001B[39m_final_estimator \u001B[38;5;241m!=\u001B[39m \u001B[38;5;124m\"\u001B[39m\u001B[38;5;124mpassthrough\u001B[39m\u001B[38;5;124m\"\u001B[39m:\n\u001B[0;32m    474\u001B[0m         last_step_params \u001B[38;5;241m=\u001B[39m routed_params[\u001B[38;5;28mself\u001B[39m\u001B[38;5;241m.\u001B[39msteps[\u001B[38;5;241m-\u001B[39m\u001B[38;5;241m1\u001B[39m][\u001B[38;5;241m0\u001B[39m]]\n\u001B[1;32m--> 475\u001B[0m         \u001B[38;5;28mself\u001B[39m\u001B[38;5;241m.\u001B[39m_final_estimator\u001B[38;5;241m.\u001B[39mfit(Xt, y, \u001B[38;5;241m*\u001B[39m\u001B[38;5;241m*\u001B[39mlast_step_params[\u001B[38;5;124m\"\u001B[39m\u001B[38;5;124mfit\u001B[39m\u001B[38;5;124m\"\u001B[39m])\n\u001B[0;32m    477\u001B[0m \u001B[38;5;28;01mreturn\u001B[39;00m \u001B[38;5;28mself\u001B[39m\n",
      "File \u001B[1;32mc:\\Users\\Eva\\Documents\\Uni\\Erasmus\\AAEB\\anaconda3\\Lib\\site-packages\\sklearn\\linear_model\\_coordinate_descent.py:3182\u001B[0m, in \u001B[0;36mMultiTaskLassoCV.fit\u001B[1;34m(self, X, y, **params)\u001B[0m\n\u001B[0;32m   3155\u001B[0m \u001B[38;5;28;01mdef\u001B[39;00m \u001B[38;5;21mfit\u001B[39m(\u001B[38;5;28mself\u001B[39m, X, y, \u001B[38;5;241m*\u001B[39m\u001B[38;5;241m*\u001B[39mparams):\n\u001B[0;32m   3156\u001B[0m \u001B[38;5;250m    \u001B[39m\u001B[38;5;124;03m\"\"\"Fit MultiTaskLasso model with coordinate descent.\u001B[39;00m\n\u001B[0;32m   3157\u001B[0m \n\u001B[0;32m   3158\u001B[0m \u001B[38;5;124;03m    Fit is on grid of alphas and best alpha estimated by cross-validation.\u001B[39;00m\n\u001B[1;32m   (...)\u001B[0m\n\u001B[0;32m   3180\u001B[0m \u001B[38;5;124;03m        Returns an instance of fitted model.\u001B[39;00m\n\u001B[0;32m   3181\u001B[0m \u001B[38;5;124;03m    \"\"\"\u001B[39;00m\n\u001B[1;32m-> 3182\u001B[0m     \u001B[38;5;28;01mreturn\u001B[39;00m \u001B[38;5;28msuper\u001B[39m()\u001B[38;5;241m.\u001B[39mfit(X, y, \u001B[38;5;241m*\u001B[39m\u001B[38;5;241m*\u001B[39mparams)\n",
      "File \u001B[1;32mc:\\Users\\Eva\\Documents\\Uni\\Erasmus\\AAEB\\anaconda3\\Lib\\site-packages\\sklearn\\base.py:1474\u001B[0m, in \u001B[0;36m_fit_context.<locals>.decorator.<locals>.wrapper\u001B[1;34m(estimator, *args, **kwargs)\u001B[0m\n\u001B[0;32m   1467\u001B[0m     estimator\u001B[38;5;241m.\u001B[39m_validate_params()\n\u001B[0;32m   1469\u001B[0m \u001B[38;5;28;01mwith\u001B[39;00m config_context(\n\u001B[0;32m   1470\u001B[0m     skip_parameter_validation\u001B[38;5;241m=\u001B[39m(\n\u001B[0;32m   1471\u001B[0m         prefer_skip_nested_validation \u001B[38;5;129;01mor\u001B[39;00m global_skip_validation\n\u001B[0;32m   1472\u001B[0m     )\n\u001B[0;32m   1473\u001B[0m ):\n\u001B[1;32m-> 1474\u001B[0m     \u001B[38;5;28;01mreturn\u001B[39;00m fit_method(estimator, \u001B[38;5;241m*\u001B[39margs, \u001B[38;5;241m*\u001B[39m\u001B[38;5;241m*\u001B[39mkwargs)\n",
      "File \u001B[1;32mc:\\Users\\Eva\\Documents\\Uni\\Erasmus\\AAEB\\anaconda3\\Lib\\site-packages\\sklearn\\linear_model\\_coordinate_descent.py:1751\u001B[0m, in \u001B[0;36mLinearModelCV.fit\u001B[1;34m(self, X, y, sample_weight, **params)\u001B[0m\n\u001B[0;32m   1731\u001B[0m \u001B[38;5;66;03m# We do a double for loop folded in one, in order to be able to\u001B[39;00m\n\u001B[0;32m   1732\u001B[0m \u001B[38;5;66;03m# iterate in parallel on l1_ratio and folds\u001B[39;00m\n\u001B[0;32m   1733\u001B[0m jobs \u001B[38;5;241m=\u001B[39m (\n\u001B[0;32m   1734\u001B[0m     delayed(_path_residuals)(\n\u001B[0;32m   1735\u001B[0m         X,\n\u001B[1;32m   (...)\u001B[0m\n\u001B[0;32m   1749\u001B[0m     \u001B[38;5;28;01mfor\u001B[39;00m train, test \u001B[38;5;129;01min\u001B[39;00m folds\n\u001B[0;32m   1750\u001B[0m )\n\u001B[1;32m-> 1751\u001B[0m mse_paths \u001B[38;5;241m=\u001B[39m Parallel(\n\u001B[0;32m   1752\u001B[0m     n_jobs\u001B[38;5;241m=\u001B[39m\u001B[38;5;28mself\u001B[39m\u001B[38;5;241m.\u001B[39mn_jobs,\n\u001B[0;32m   1753\u001B[0m     verbose\u001B[38;5;241m=\u001B[39m\u001B[38;5;28mself\u001B[39m\u001B[38;5;241m.\u001B[39mverbose,\n\u001B[0;32m   1754\u001B[0m     prefer\u001B[38;5;241m=\u001B[39m\u001B[38;5;124m\"\u001B[39m\u001B[38;5;124mthreads\u001B[39m\u001B[38;5;124m\"\u001B[39m,\n\u001B[0;32m   1755\u001B[0m )(jobs)\n\u001B[0;32m   1756\u001B[0m mse_paths \u001B[38;5;241m=\u001B[39m np\u001B[38;5;241m.\u001B[39mreshape(mse_paths, (n_l1_ratio, \u001B[38;5;28mlen\u001B[39m(folds), \u001B[38;5;241m-\u001B[39m\u001B[38;5;241m1\u001B[39m))\n\u001B[0;32m   1757\u001B[0m \u001B[38;5;66;03m# The mean is computed over folds.\u001B[39;00m\n",
      "File \u001B[1;32mc:\\Users\\Eva\\Documents\\Uni\\Erasmus\\AAEB\\anaconda3\\Lib\\site-packages\\sklearn\\utils\\parallel.py:67\u001B[0m, in \u001B[0;36mParallel.__call__\u001B[1;34m(self, iterable)\u001B[0m\n\u001B[0;32m     62\u001B[0m config \u001B[38;5;241m=\u001B[39m get_config()\n\u001B[0;32m     63\u001B[0m iterable_with_config \u001B[38;5;241m=\u001B[39m (\n\u001B[0;32m     64\u001B[0m     (_with_config(delayed_func, config), args, kwargs)\n\u001B[0;32m     65\u001B[0m     \u001B[38;5;28;01mfor\u001B[39;00m delayed_func, args, kwargs \u001B[38;5;129;01min\u001B[39;00m iterable\n\u001B[0;32m     66\u001B[0m )\n\u001B[1;32m---> 67\u001B[0m \u001B[38;5;28;01mreturn\u001B[39;00m \u001B[38;5;28msuper\u001B[39m()\u001B[38;5;241m.\u001B[39m\u001B[38;5;21m__call__\u001B[39m(iterable_with_config)\n",
      "File \u001B[1;32mc:\\Users\\Eva\\Documents\\Uni\\Erasmus\\AAEB\\anaconda3\\Lib\\site-packages\\joblib\\parallel.py:1918\u001B[0m, in \u001B[0;36mParallel.__call__\u001B[1;34m(self, iterable)\u001B[0m\n\u001B[0;32m   1916\u001B[0m     output \u001B[38;5;241m=\u001B[39m \u001B[38;5;28mself\u001B[39m\u001B[38;5;241m.\u001B[39m_get_sequential_output(iterable)\n\u001B[0;32m   1917\u001B[0m     \u001B[38;5;28mnext\u001B[39m(output)\n\u001B[1;32m-> 1918\u001B[0m     \u001B[38;5;28;01mreturn\u001B[39;00m output \u001B[38;5;28;01mif\u001B[39;00m \u001B[38;5;28mself\u001B[39m\u001B[38;5;241m.\u001B[39mreturn_generator \u001B[38;5;28;01melse\u001B[39;00m \u001B[38;5;28mlist\u001B[39m(output)\n\u001B[0;32m   1920\u001B[0m \u001B[38;5;66;03m# Let's create an ID that uniquely identifies the current call. If the\u001B[39;00m\n\u001B[0;32m   1921\u001B[0m \u001B[38;5;66;03m# call is interrupted early and that the same instance is immediately\u001B[39;00m\n\u001B[0;32m   1922\u001B[0m \u001B[38;5;66;03m# re-used, this id will be used to prevent workers that were\u001B[39;00m\n\u001B[0;32m   1923\u001B[0m \u001B[38;5;66;03m# concurrently finalizing a task from the previous call to run the\u001B[39;00m\n\u001B[0;32m   1924\u001B[0m \u001B[38;5;66;03m# callback.\u001B[39;00m\n\u001B[0;32m   1925\u001B[0m \u001B[38;5;28;01mwith\u001B[39;00m \u001B[38;5;28mself\u001B[39m\u001B[38;5;241m.\u001B[39m_lock:\n",
      "File \u001B[1;32mc:\\Users\\Eva\\Documents\\Uni\\Erasmus\\AAEB\\anaconda3\\Lib\\site-packages\\joblib\\parallel.py:1847\u001B[0m, in \u001B[0;36mParallel._get_sequential_output\u001B[1;34m(self, iterable)\u001B[0m\n\u001B[0;32m   1845\u001B[0m \u001B[38;5;28mself\u001B[39m\u001B[38;5;241m.\u001B[39mn_dispatched_batches \u001B[38;5;241m+\u001B[39m\u001B[38;5;241m=\u001B[39m \u001B[38;5;241m1\u001B[39m\n\u001B[0;32m   1846\u001B[0m \u001B[38;5;28mself\u001B[39m\u001B[38;5;241m.\u001B[39mn_dispatched_tasks \u001B[38;5;241m+\u001B[39m\u001B[38;5;241m=\u001B[39m \u001B[38;5;241m1\u001B[39m\n\u001B[1;32m-> 1847\u001B[0m res \u001B[38;5;241m=\u001B[39m func(\u001B[38;5;241m*\u001B[39margs, \u001B[38;5;241m*\u001B[39m\u001B[38;5;241m*\u001B[39mkwargs)\n\u001B[0;32m   1848\u001B[0m \u001B[38;5;28mself\u001B[39m\u001B[38;5;241m.\u001B[39mn_completed_tasks \u001B[38;5;241m+\u001B[39m\u001B[38;5;241m=\u001B[39m \u001B[38;5;241m1\u001B[39m\n\u001B[0;32m   1849\u001B[0m \u001B[38;5;28mself\u001B[39m\u001B[38;5;241m.\u001B[39mprint_progress()\n",
      "File \u001B[1;32mc:\\Users\\Eva\\Documents\\Uni\\Erasmus\\AAEB\\anaconda3\\Lib\\site-packages\\sklearn\\utils\\parallel.py:129\u001B[0m, in \u001B[0;36m_FuncWrapper.__call__\u001B[1;34m(self, *args, **kwargs)\u001B[0m\n\u001B[0;32m    127\u001B[0m     config \u001B[38;5;241m=\u001B[39m {}\n\u001B[0;32m    128\u001B[0m \u001B[38;5;28;01mwith\u001B[39;00m config_context(\u001B[38;5;241m*\u001B[39m\u001B[38;5;241m*\u001B[39mconfig):\n\u001B[1;32m--> 129\u001B[0m     \u001B[38;5;28;01mreturn\u001B[39;00m \u001B[38;5;28mself\u001B[39m\u001B[38;5;241m.\u001B[39mfunction(\u001B[38;5;241m*\u001B[39margs, \u001B[38;5;241m*\u001B[39m\u001B[38;5;241m*\u001B[39mkwargs)\n",
      "File \u001B[1;32mc:\\Users\\Eva\\Documents\\Uni\\Erasmus\\AAEB\\anaconda3\\Lib\\site-packages\\sklearn\\linear_model\\_coordinate_descent.py:1437\u001B[0m, in \u001B[0;36m_path_residuals\u001B[1;34m(X, y, sample_weight, train, test, fit_intercept, path, path_params, alphas, l1_ratio, X_order, dtype)\u001B[0m\n\u001B[0;32m   1434\u001B[0m \u001B[38;5;66;03m# Do the ordering and type casting here, as if it is done in the path,\u001B[39;00m\n\u001B[0;32m   1435\u001B[0m \u001B[38;5;66;03m# X is copied and a reference is kept here\u001B[39;00m\n\u001B[0;32m   1436\u001B[0m X_train \u001B[38;5;241m=\u001B[39m check_array(X_train, accept_sparse\u001B[38;5;241m=\u001B[39m\u001B[38;5;124m\"\u001B[39m\u001B[38;5;124mcsc\u001B[39m\u001B[38;5;124m\"\u001B[39m, dtype\u001B[38;5;241m=\u001B[39mdtype, order\u001B[38;5;241m=\u001B[39mX_order)\n\u001B[1;32m-> 1437\u001B[0m alphas, coefs, _ \u001B[38;5;241m=\u001B[39m path(X_train, y_train, \u001B[38;5;241m*\u001B[39m\u001B[38;5;241m*\u001B[39mpath_params)\n\u001B[0;32m   1438\u001B[0m \u001B[38;5;28;01mdel\u001B[39;00m X_train, y_train\n\u001B[0;32m   1440\u001B[0m \u001B[38;5;28;01mif\u001B[39;00m y\u001B[38;5;241m.\u001B[39mndim \u001B[38;5;241m==\u001B[39m \u001B[38;5;241m1\u001B[39m:\n\u001B[0;32m   1441\u001B[0m     \u001B[38;5;66;03m# Doing this so that it becomes coherent with multioutput.\u001B[39;00m\n",
      "File \u001B[1;32mc:\\Users\\Eva\\Documents\\Uni\\Erasmus\\AAEB\\anaconda3\\Lib\\site-packages\\sklearn\\utils\\_param_validation.py:186\u001B[0m, in \u001B[0;36mvalidate_params.<locals>.decorator.<locals>.wrapper\u001B[1;34m(*args, **kwargs)\u001B[0m\n\u001B[0;32m    184\u001B[0m global_skip_validation \u001B[38;5;241m=\u001B[39m get_config()[\u001B[38;5;124m\"\u001B[39m\u001B[38;5;124mskip_parameter_validation\u001B[39m\u001B[38;5;124m\"\u001B[39m]\n\u001B[0;32m    185\u001B[0m \u001B[38;5;28;01mif\u001B[39;00m global_skip_validation:\n\u001B[1;32m--> 186\u001B[0m     \u001B[38;5;28;01mreturn\u001B[39;00m func(\u001B[38;5;241m*\u001B[39margs, \u001B[38;5;241m*\u001B[39m\u001B[38;5;241m*\u001B[39mkwargs)\n\u001B[0;32m    188\u001B[0m func_sig \u001B[38;5;241m=\u001B[39m signature(func)\n\u001B[0;32m    190\u001B[0m \u001B[38;5;66;03m# Map *args/**kwargs to the function signature\u001B[39;00m\n",
      "File \u001B[1;32mc:\\Users\\Eva\\Documents\\Uni\\Erasmus\\AAEB\\anaconda3\\Lib\\site-packages\\sklearn\\linear_model\\_coordinate_descent.py:361\u001B[0m, in \u001B[0;36mlasso_path\u001B[1;34m(X, y, eps, n_alphas, alphas, precompute, Xy, copy_X, coef_init, verbose, return_n_iter, positive, **params)\u001B[0m\n\u001B[0;32m    188\u001B[0m \u001B[38;5;129m@validate_params\u001B[39m(\n\u001B[0;32m    189\u001B[0m     {\n\u001B[0;32m    190\u001B[0m         \u001B[38;5;124m\"\u001B[39m\u001B[38;5;124mX\u001B[39m\u001B[38;5;124m\"\u001B[39m: [\u001B[38;5;124m\"\u001B[39m\u001B[38;5;124marray-like\u001B[39m\u001B[38;5;124m\"\u001B[39m, \u001B[38;5;124m\"\u001B[39m\u001B[38;5;124msparse matrix\u001B[39m\u001B[38;5;124m\"\u001B[39m],\n\u001B[1;32m   (...)\u001B[0m\n\u001B[0;32m    219\u001B[0m     \u001B[38;5;241m*\u001B[39m\u001B[38;5;241m*\u001B[39mparams,\n\u001B[0;32m    220\u001B[0m ):\n\u001B[0;32m    221\u001B[0m \u001B[38;5;250m    \u001B[39m\u001B[38;5;124;03m\"\"\"Compute Lasso path with coordinate descent.\u001B[39;00m\n\u001B[0;32m    222\u001B[0m \n\u001B[0;32m    223\u001B[0m \u001B[38;5;124;03m    The Lasso optimization function varies for mono and multi-outputs.\u001B[39;00m\n\u001B[1;32m   (...)\u001B[0m\n\u001B[0;32m    359\u001B[0m \u001B[38;5;124;03m     [0.2159048  0.4425765  0.23668876]]\u001B[39;00m\n\u001B[0;32m    360\u001B[0m \u001B[38;5;124;03m    \"\"\"\u001B[39;00m\n\u001B[1;32m--> 361\u001B[0m     \u001B[38;5;28;01mreturn\u001B[39;00m enet_path(\n\u001B[0;32m    362\u001B[0m         X,\n\u001B[0;32m    363\u001B[0m         y,\n\u001B[0;32m    364\u001B[0m         l1_ratio\u001B[38;5;241m=\u001B[39m\u001B[38;5;241m1.0\u001B[39m,\n\u001B[0;32m    365\u001B[0m         eps\u001B[38;5;241m=\u001B[39meps,\n\u001B[0;32m    366\u001B[0m         n_alphas\u001B[38;5;241m=\u001B[39mn_alphas,\n\u001B[0;32m    367\u001B[0m         alphas\u001B[38;5;241m=\u001B[39malphas,\n\u001B[0;32m    368\u001B[0m         precompute\u001B[38;5;241m=\u001B[39mprecompute,\n\u001B[0;32m    369\u001B[0m         Xy\u001B[38;5;241m=\u001B[39mXy,\n\u001B[0;32m    370\u001B[0m         copy_X\u001B[38;5;241m=\u001B[39mcopy_X,\n\u001B[0;32m    371\u001B[0m         coef_init\u001B[38;5;241m=\u001B[39mcoef_init,\n\u001B[0;32m    372\u001B[0m         verbose\u001B[38;5;241m=\u001B[39mverbose,\n\u001B[0;32m    373\u001B[0m         positive\u001B[38;5;241m=\u001B[39mpositive,\n\u001B[0;32m    374\u001B[0m         return_n_iter\u001B[38;5;241m=\u001B[39mreturn_n_iter,\n\u001B[0;32m    375\u001B[0m         \u001B[38;5;241m*\u001B[39m\u001B[38;5;241m*\u001B[39mparams,\n\u001B[0;32m    376\u001B[0m     )\n",
      "File \u001B[1;32mc:\\Users\\Eva\\Documents\\Uni\\Erasmus\\AAEB\\anaconda3\\Lib\\site-packages\\sklearn\\utils\\_param_validation.py:186\u001B[0m, in \u001B[0;36mvalidate_params.<locals>.decorator.<locals>.wrapper\u001B[1;34m(*args, **kwargs)\u001B[0m\n\u001B[0;32m    184\u001B[0m global_skip_validation \u001B[38;5;241m=\u001B[39m get_config()[\u001B[38;5;124m\"\u001B[39m\u001B[38;5;124mskip_parameter_validation\u001B[39m\u001B[38;5;124m\"\u001B[39m]\n\u001B[0;32m    185\u001B[0m \u001B[38;5;28;01mif\u001B[39;00m global_skip_validation:\n\u001B[1;32m--> 186\u001B[0m     \u001B[38;5;28;01mreturn\u001B[39;00m func(\u001B[38;5;241m*\u001B[39margs, \u001B[38;5;241m*\u001B[39m\u001B[38;5;241m*\u001B[39mkwargs)\n\u001B[0;32m    188\u001B[0m func_sig \u001B[38;5;241m=\u001B[39m signature(func)\n\u001B[0;32m    190\u001B[0m \u001B[38;5;66;03m# Map *args/**kwargs to the function signature\u001B[39;00m\n",
      "File \u001B[1;32mc:\\Users\\Eva\\Documents\\Uni\\Erasmus\\AAEB\\anaconda3\\Lib\\site-packages\\sklearn\\linear_model\\_coordinate_descent.py:656\u001B[0m, in \u001B[0;36menet_path\u001B[1;34m(X, y, l1_ratio, eps, n_alphas, alphas, precompute, Xy, copy_X, coef_init, verbose, return_n_iter, positive, check_input, **params)\u001B[0m\n\u001B[0;32m    639\u001B[0m     model \u001B[38;5;241m=\u001B[39m cd_fast\u001B[38;5;241m.\u001B[39msparse_enet_coordinate_descent(\n\u001B[0;32m    640\u001B[0m         w\u001B[38;5;241m=\u001B[39mcoef_,\n\u001B[0;32m    641\u001B[0m         alpha\u001B[38;5;241m=\u001B[39ml1_reg,\n\u001B[1;32m   (...)\u001B[0m\n\u001B[0;32m    653\u001B[0m         positive\u001B[38;5;241m=\u001B[39mpositive,\n\u001B[0;32m    654\u001B[0m     )\n\u001B[0;32m    655\u001B[0m \u001B[38;5;28;01melif\u001B[39;00m multi_output:\n\u001B[1;32m--> 656\u001B[0m     model \u001B[38;5;241m=\u001B[39m cd_fast\u001B[38;5;241m.\u001B[39menet_coordinate_descent_multi_task(\n\u001B[0;32m    657\u001B[0m         coef_, l1_reg, l2_reg, X, y, max_iter, tol, rng, random\n\u001B[0;32m    658\u001B[0m     )\n\u001B[0;32m    659\u001B[0m \u001B[38;5;28;01melif\u001B[39;00m \u001B[38;5;28misinstance\u001B[39m(precompute, np\u001B[38;5;241m.\u001B[39mndarray):\n\u001B[0;32m    660\u001B[0m     \u001B[38;5;66;03m# We expect precompute to be already Fortran ordered when bypassing\u001B[39;00m\n\u001B[0;32m    661\u001B[0m     \u001B[38;5;66;03m# checks\u001B[39;00m\n\u001B[0;32m    662\u001B[0m     \u001B[38;5;28;01mif\u001B[39;00m check_input:\n",
      "File \u001B[1;32msklearn\\\\linear_model\\\\_cd_fast.pyx:961\u001B[0m, in \u001B[0;36msklearn.linear_model._cd_fast.enet_coordinate_descent_multi_task\u001B[1;34m()\u001B[0m\n",
      "\u001B[1;31mKeyboardInterrupt\u001B[0m: "
     ]
    }
   ],
   "source": [
    "# validate the polynomial regression with degrees from 1 to 7 and Lasso regressor\n",
    "rmse_dict, best_rmse, best_pipeline = validate_poly_regression(X_train_sampled, y_train_sampled, X_val_sampled, y_val_sampled, regressor='MultiTaskLassoCV', degrees=range(1,5), max_features=None)"
   ]
  },
  {
   "cell_type": "code",
   "execution_count": null,
   "metadata": {},
   "outputs": [],
   "source": [
    "# validate the polynomial regression with degrees from 1 to 7 and RidgeCV regressor\n",
    "rmse_dict, best_rmse, best_pipeline = validate_poly_regression(X_train_sampled, y_train_sampled, X_val_sampled, y_val_sampled, regressor='RidgeCV', degrees=range(1,8), max_features=None)"
   ]
  },
  {
   "metadata": {},
   "cell_type": "code",
   "outputs": [],
   "execution_count": null,
   "source": ""
  },
  {
   "metadata": {},
   "cell_type": "markdown",
   "source": ""
  },
  {
   "metadata": {},
   "cell_type": "markdown",
   "source": "# Task 4: Nonparamentric Model — the k-Nearest Neighbors Regressor"
  },
  {
   "metadata": {},
   "cell_type": "markdown",
   "source": "## Task 4.1 Development"
  },
  {
   "metadata": {
    "ExecuteTime": {
     "end_time": "2024-10-15T08:05:43.259692Z",
     "start_time": "2024-10-15T08:05:43.254785Z"
    }
   },
   "cell_type": "code",
   "source": [
    "def validate_knn_regression(X_train, y_train, X_val, y_val, k=range(1,15)):\n",
    "    pass\n",
    "    "
   ],
   "outputs": [],
   "execution_count": 32
  },
  {
   "metadata": {},
   "cell_type": "code",
   "outputs": [],
   "execution_count": null,
   "source": ""
  }
 ],
 "metadata": {
  "kernelspec": {
   "display_name": "base",
   "language": "python",
   "name": "python3"
  },
  "language_info": {
   "codemirror_mode": {
    "name": "ipython",
    "version": 3
   },
   "file_extension": ".py",
   "mimetype": "text/x-python",
   "name": "python",
   "nbconvert_exporter": "python",
   "pygments_lexer": "ipython3",
   "version": "3.12.4"
  }
 },
 "nbformat": 4,
 "nbformat_minor": 2
}
